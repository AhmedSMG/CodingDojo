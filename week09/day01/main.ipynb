{
 "cells": [
  {
   "cell_type": "code",
   "execution_count": 1,
   "metadata": {},
   "outputs": [],
   "source": [
    "import hashlib\n",
    "import datetime as dt"
   ]
  },
  {
   "cell_type": "code",
   "execution_count": 3,
   "metadata": {},
   "outputs": [],
   "source": [
    "nonce = 0"
   ]
  },
  {
   "cell_type": "code",
   "execution_count": 22,
   "metadata": {},
   "outputs": [
    {
     "name": "stdout",
     "output_type": "stream",
     "text": [
      "Block Size : 64\n",
      "Digit Size : 32\n",
      "Name : sha256\n",
      "Digest : b\"_\\xec\\xebf\\xff\\xc8o8\\xd9Rxlmily\\xc2\\xdb\\xc29\\xddN\\x91\\xb4g)\\xd7:'\\xfbW\\xe9\"\n",
      "Hexdigest : 5feceb66ffc86f38d952786c6d696c79c2dbc239dd4e91b46729d73a27fb57e9\n",
      "Decimal : 43388321209941149759420236104888244958223766953174235657296806338137402595305\n"
     ]
    }
   ],
   "source": [
    "_hash = hashlib.sha256(str(nonce).encode())\n",
    "print(f\"Block Size : {_hash.block_size}\")\n",
    "print(f\"Digit Size : {_hash.digest_size}\")\n",
    "print(f\"Name : {_hash.name}\")\n",
    "print(f\"Digest : {_hash.digest()}\")\n",
    "print(f\"Hexdigest : {_hash.hexdigest()}\")\n",
    "print(f\"Decimal : {int(_hash.hexdigest(), base=16)}\")"
   ]
  },
  {
   "cell_type": "code",
   "execution_count": 23,
   "metadata": {},
   "outputs": [],
   "source": [
    "t1 = dt.datetime.now()\n",
    "nonce = 0\n",
    "is_soltion = False\n",
    "while not is_soltion:\n",
    "    _ = hashlib.sha256(str(nonce).encode()).hexdigest()\n",
    "    \n",
    "    if _[:7] == \"0\"*7:\n",
    "        is_soltion = True\n",
    "    nonce += 1\n",
    "t2 = dt.datetime.now()"
   ]
  },
  {
   "cell_type": "code",
   "execution_count": 24,
   "metadata": {},
   "outputs": [
    {
     "name": "stdout",
     "output_type": "stream",
     "text": [
      "The hash is: 0000000399c6aea5ad0c709a9bc331a3ed6494702bd1d129d8c817a0257a1462\n",
      "The nonce is: 665783\n",
      "Time elapsed: 0:00:00.645042\n"
     ]
    }
   ],
   "source": [
    "duration = t2 - t1\n",
    "print (\"The hash is:\",_)\n",
    "print (\"The nonce is:\",nonce)    \n",
    "print (\"Time elapsed:\",duration)"
   ]
  },
  {
   "cell_type": "code",
   "execution_count": 27,
   "metadata": {},
   "outputs": [],
   "source": [
    "def find_hash(numb=7):\n",
    "\n",
    "    t1 = dt.datetime.now()\n",
    "    nonce = 0\n",
    "    is_soltion = False\n",
    "\n",
    "    while not is_soltion:\n",
    "        _ = hashlib.sha256(str(nonce).encode()).hexdigest()\n",
    "\n",
    "        if _[:numb] == \"0\"*numb:\n",
    "            is_soltion = True\n",
    "        nonce += 1\n",
    "\n",
    "    t2 = dt.datetime.now()\n",
    "    duration = t2 - t1\n",
    "\n",
    "    print (\"The hash is:\",_)\n",
    "    print (\"The nonce is:\",nonce)    \n",
    "    print (\"Time elapsed:\",duration)\n",
    "\n",
    "    return _"
   ]
  },
  {
   "cell_type": "code",
   "execution_count": null,
   "metadata": {},
   "outputs": [],
   "source": [
    "find_hash(10)"
   ]
  },
  {
   "cell_type": "code",
   "execution_count": null,
   "metadata": {},
   "outputs": [],
   "source": []
  }
 ],
 "metadata": {
  "interpreter": {
   "hash": "e4d39b27ff441b71894edbd799874c65cf22e43a419bb16cc298bb5b25f26e63"
  },
  "kernelspec": {
   "display_name": "Python 3 (ipykernel)",
   "language": "python",
   "name": "python3"
  },
  "language_info": {
   "codemirror_mode": {
    "name": "ipython",
    "version": 3
   },
   "file_extension": ".py",
   "mimetype": "text/x-python",
   "name": "python",
   "nbconvert_exporter": "python",
   "pygments_lexer": "ipython3",
   "version": "3.8.11"
  }
 },
 "nbformat": 4,
 "nbformat_minor": 4
}
