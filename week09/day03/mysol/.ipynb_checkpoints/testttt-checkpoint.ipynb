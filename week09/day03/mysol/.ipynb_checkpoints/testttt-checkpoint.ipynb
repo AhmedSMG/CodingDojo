{
 "cells": [
  {
   "cell_type": "code",
   "execution_count": 1,
   "metadata": {},
   "outputs": [],
   "source": [
    "from typing import List, Set, Dict, Tuple, Optional\n",
    "import time\n",
    "import hashlib\n",
    "\n",
    "\n",
    "class Transaction:\n",
    "    \n",
    "    def __init__(self,\n",
    "                 from_address: str,\n",
    "                 to_address: str,\n",
    "                 amount: float,\n",
    "                 version_no: str=\"1\") -> None:\n",
    "        self.version_no = version_no\n",
    "        self.from_address = from_address\n",
    "        self.to_address = to_address\n",
    "\n",
    "class Block:\n",
    "    \"\"\"\n",
    "    \n",
    "    This is a Block Header of Blockchain\n",
    "    Version: A version number to track software/protocol upgrades\n",
    "    Previous Block Hash: A reference to the hash of the previous (parent) block in the chain\n",
    "    Timestamp: The approximate creation time of this block (seconds from Unix Epoch)\n",
    "    Difficulty Target: The proof-of-work algorithm difficulty target for this block\n",
    "    Nonce: A counter used for the proof-of-work algorithm\n",
    "    \n",
    "    \"\"\"\n",
    "    \n",
    "    def __init__(self,\n",
    "                 previous_hash: str,\n",
    "                 timestamp: int=int(time.time()),\n",
    "                 difficulty: int=1000_000,\n",
    "                 nonce: int=0,\n",
    "                 transactions: List[Transaction]=[],\n",
    "                 version: str=\"0.1\",) -> None:\n",
    "        self.block_header = {\n",
    "            \"version\": version,\n",
    "            \"previous_hash\": previous_hash,\n",
    "            \"timestamp\": timestamp,\n",
    "            \"difficulty\": difficulty,\n",
    "            \"nonce\": nonce         \n",
    "        } \n",
    "        self.transactions = transactions\n",
    "        "
   ]
  },
  {
   "cell_type": "code",
   "execution_count": 2,
   "metadata": {},
   "outputs": [],
   "source": [
    "b = Block(\"21312321\")"
   ]
  },
  {
   "cell_type": "code",
   "execution_count": 8,
   "metadata": {},
   "outputs": [
    {
     "data": {
      "text/plain": [
       "'9520ad264e4de8694be978ea444f8a8f6157592483fb18f16439eac0b170914a'"
      ]
     },
     "execution_count": 8,
     "metadata": {},
     "output_type": "execute_result"
    }
   ],
   "source": [
    "hashlib.sha256(str(b.block_header).encode()).hexdigest()"
   ]
  },
  {
   "cell_type": "code",
   "execution_count": null,
   "metadata": {},
   "outputs": [],
   "source": []
  }
 ],
 "metadata": {
  "interpreter": {
   "hash": "e4d39b27ff441b71894edbd799874c65cf22e43a419bb16cc298bb5b25f26e63"
  },
  "kernelspec": {
   "display_name": "Python 3.8.11 64-bit ('temp': conda)",
   "language": "python",
   "name": "python3"
  },
  "language_info": {
   "codemirror_mode": {
    "name": "ipython",
    "version": 3
   },
   "file_extension": ".py",
   "mimetype": "text/x-python",
   "name": "python",
   "nbconvert_exporter": "python",
   "pygments_lexer": "ipython3",
   "version": "3.8.11"
  },
  "orig_nbformat": 4
 },
 "nbformat": 4,
 "nbformat_minor": 2
}
