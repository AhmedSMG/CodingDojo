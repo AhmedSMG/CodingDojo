{
 "cells": [
  {
   "cell_type": "code",
   "execution_count": 4,
   "metadata": {},
   "outputs": [],
   "source": [
    "import numpy as np\n",
    "import pandas as pd\n",
    "import pandas_datareader as pdr\n",
    "import plotly.graph_objects as go\n",
    "from sklearn.linear_model import LinearRegression"
   ]
  },
  {
   "cell_type": "code",
   "execution_count": 5,
   "metadata": {},
   "outputs": [],
   "source": [
    "# beta = cov/var\n",
    "# beta measure sock volatility with realtion with overall market\n",
    "# Usually SPC500 beat as = 1.0\n",
    "# beta > 1 => more volatile, higher return\n",
    "# beta < 1 => lower volatile, less return"
   ]
  },
  {
   "cell_type": "code",
   "execution_count": 10,
   "metadata": {},
   "outputs": [
    {
     "data": {
      "text/html": [
       "<div>\n",
       "<style scoped>\n",
       "    .dataframe tbody tr th:only-of-type {\n",
       "        vertical-align: middle;\n",
       "    }\n",
       "\n",
       "    .dataframe tbody tr th {\n",
       "        vertical-align: top;\n",
       "    }\n",
       "\n",
       "    .dataframe thead th {\n",
       "        text-align: right;\n",
       "    }\n",
       "</style>\n",
       "<table border=\"1\" class=\"dataframe\">\n",
       "  <thead>\n",
       "    <tr style=\"text-align: right;\">\n",
       "      <th>Symbols</th>\n",
       "      <th>AAPL</th>\n",
       "      <th>TWTR</th>\n",
       "      <th>IBM</th>\n",
       "      <th>MSFT</th>\n",
       "      <th>^GSPC</th>\n",
       "    </tr>\n",
       "    <tr>\n",
       "      <th>Date</th>\n",
       "      <th></th>\n",
       "      <th></th>\n",
       "      <th></th>\n",
       "      <th></th>\n",
       "      <th></th>\n",
       "    </tr>\n",
       "  </thead>\n",
       "  <tbody>\n",
       "    <tr>\n",
       "      <th>2015-12-01</th>\n",
       "      <td>24.266083</td>\n",
       "      <td>23.139999</td>\n",
       "      <td>106.805664</td>\n",
       "      <td>50.298275</td>\n",
       "      <td>2043.939941</td>\n",
       "    </tr>\n",
       "    <tr>\n",
       "      <th>2016-01-01</th>\n",
       "      <td>22.440247</td>\n",
       "      <td>16.799999</td>\n",
       "      <td>96.848427</td>\n",
       "      <td>49.944702</td>\n",
       "      <td>1940.239990</td>\n",
       "    </tr>\n",
       "    <tr>\n",
       "      <th>2016-02-01</th>\n",
       "      <td>22.290396</td>\n",
       "      <td>18.120001</td>\n",
       "      <td>101.691254</td>\n",
       "      <td>46.127899</td>\n",
       "      <td>1932.229980</td>\n",
       "    </tr>\n",
       "    <tr>\n",
       "      <th>2016-03-01</th>\n",
       "      <td>25.262314</td>\n",
       "      <td>16.549999</td>\n",
       "      <td>118.739616</td>\n",
       "      <td>50.431129</td>\n",
       "      <td>2059.739990</td>\n",
       "    </tr>\n",
       "    <tr>\n",
       "      <th>2016-04-01</th>\n",
       "      <td>21.727585</td>\n",
       "      <td>14.620000</td>\n",
       "      <td>114.419647</td>\n",
       "      <td>45.536850</td>\n",
       "      <td>2065.300049</td>\n",
       "    </tr>\n",
       "  </tbody>\n",
       "</table>\n",
       "</div>"
      ],
      "text/plain": [
       "Symbols          AAPL       TWTR         IBM       MSFT        ^GSPC\n",
       "Date                                                                \n",
       "2015-12-01  24.266083  23.139999  106.805664  50.298275  2043.939941\n",
       "2016-01-01  22.440247  16.799999   96.848427  49.944702  1940.239990\n",
       "2016-02-01  22.290396  18.120001  101.691254  46.127899  1932.229980\n",
       "2016-03-01  25.262314  16.549999  118.739616  50.431129  2059.739990\n",
       "2016-04-01  21.727585  14.620000  114.419647  45.536850  2065.300049"
      ]
     },
     "execution_count": 10,
     "metadata": {},
     "output_type": "execute_result"
    }
   ],
   "source": [
    "tickers = [\"AAPL\", \"TWTR\", \"IBM\", \"MSFT\", \"^GSPC\"]\n",
    "stocks_price = pdr.get_data_yahoo(tickers, \"2015-12-01\", \"2021-01-01\", interval=\"m\")[\"Adj Close\"]\n",
    "stocks_price.head()"
   ]
  },
  {
   "cell_type": "code",
   "execution_count": 11,
   "metadata": {},
   "outputs": [
    {
     "data": {
      "text/html": [
       "<div>\n",
       "<style scoped>\n",
       "    .dataframe tbody tr th:only-of-type {\n",
       "        vertical-align: middle;\n",
       "    }\n",
       "\n",
       "    .dataframe tbody tr th {\n",
       "        vertical-align: top;\n",
       "    }\n",
       "\n",
       "    .dataframe thead th {\n",
       "        text-align: right;\n",
       "    }\n",
       "</style>\n",
       "<table border=\"1\" class=\"dataframe\">\n",
       "  <thead>\n",
       "    <tr style=\"text-align: right;\">\n",
       "      <th>Symbols</th>\n",
       "      <th>AAPL</th>\n",
       "      <th>TWTR</th>\n",
       "      <th>IBM</th>\n",
       "      <th>MSFT</th>\n",
       "      <th>^GSPC</th>\n",
       "    </tr>\n",
       "    <tr>\n",
       "      <th>Date</th>\n",
       "      <th></th>\n",
       "      <th></th>\n",
       "      <th></th>\n",
       "      <th></th>\n",
       "      <th></th>\n",
       "    </tr>\n",
       "  </thead>\n",
       "  <tbody>\n",
       "    <tr>\n",
       "      <th>2015-12-01</th>\n",
       "      <td>NaN</td>\n",
       "      <td>NaN</td>\n",
       "      <td>NaN</td>\n",
       "      <td>NaN</td>\n",
       "      <td>NaN</td>\n",
       "    </tr>\n",
       "    <tr>\n",
       "      <th>2016-01-01</th>\n",
       "      <td>-0.078224</td>\n",
       "      <td>-0.320184</td>\n",
       "      <td>-0.097864</td>\n",
       "      <td>-0.007054</td>\n",
       "      <td>-0.052068</td>\n",
       "    </tr>\n",
       "    <tr>\n",
       "      <th>2016-02-01</th>\n",
       "      <td>-0.006700</td>\n",
       "      <td>0.075638</td>\n",
       "      <td>0.048794</td>\n",
       "      <td>-0.079498</td>\n",
       "      <td>-0.004137</td>\n",
       "    </tr>\n",
       "    <tr>\n",
       "      <th>2016-03-01</th>\n",
       "      <td>0.125158</td>\n",
       "      <td>-0.090630</td>\n",
       "      <td>0.154992</td>\n",
       "      <td>0.089191</td>\n",
       "      <td>0.063905</td>\n",
       "    </tr>\n",
       "    <tr>\n",
       "      <th>2016-04-01</th>\n",
       "      <td>-0.150731</td>\n",
       "      <td>-0.123996</td>\n",
       "      <td>-0.037060</td>\n",
       "      <td>-0.102087</td>\n",
       "      <td>0.002696</td>\n",
       "    </tr>\n",
       "    <tr>\n",
       "      <th>...</th>\n",
       "      <td>...</td>\n",
       "      <td>...</td>\n",
       "      <td>...</td>\n",
       "      <td>...</td>\n",
       "      <td>...</td>\n",
       "    </tr>\n",
       "    <tr>\n",
       "      <th>2020-09-01</th>\n",
       "      <td>-0.106370</td>\n",
       "      <td>0.092214</td>\n",
       "      <td>-0.000381</td>\n",
       "      <td>-0.067361</td>\n",
       "      <td>-0.040018</td>\n",
       "    </tr>\n",
       "    <tr>\n",
       "      <th>2020-10-01</th>\n",
       "      <td>-0.061888</td>\n",
       "      <td>-0.073175</td>\n",
       "      <td>-0.085854</td>\n",
       "      <td>-0.038086</td>\n",
       "      <td>-0.028056</td>\n",
       "    </tr>\n",
       "    <tr>\n",
       "      <th>2020-11-01</th>\n",
       "      <td>0.089481</td>\n",
       "      <td>0.117353</td>\n",
       "      <td>0.100944</td>\n",
       "      <td>0.055711</td>\n",
       "      <td>0.102146</td>\n",
       "    </tr>\n",
       "    <tr>\n",
       "      <th>2020-12-01</th>\n",
       "      <td>0.110196</td>\n",
       "      <td>0.152091</td>\n",
       "      <td>0.033322</td>\n",
       "      <td>0.040879</td>\n",
       "      <td>0.036449</td>\n",
       "    </tr>\n",
       "    <tr>\n",
       "      <th>2021-01-01</th>\n",
       "      <td>-0.005517</td>\n",
       "      <td>-0.069191</td>\n",
       "      <td>-0.055282</td>\n",
       "      <td>0.041997</td>\n",
       "      <td>-0.011199</td>\n",
       "    </tr>\n",
       "  </tbody>\n",
       "</table>\n",
       "<p>62 rows × 5 columns</p>\n",
       "</div>"
      ],
      "text/plain": [
       "Symbols         AAPL      TWTR       IBM      MSFT     ^GSPC\n",
       "Date                                                        \n",
       "2015-12-01       NaN       NaN       NaN       NaN       NaN\n",
       "2016-01-01 -0.078224 -0.320184 -0.097864 -0.007054 -0.052068\n",
       "2016-02-01 -0.006700  0.075638  0.048794 -0.079498 -0.004137\n",
       "2016-03-01  0.125158 -0.090630  0.154992  0.089191  0.063905\n",
       "2016-04-01 -0.150731 -0.123996 -0.037060 -0.102087  0.002696\n",
       "...              ...       ...       ...       ...       ...\n",
       "2020-09-01 -0.106370  0.092214 -0.000381 -0.067361 -0.040018\n",
       "2020-10-01 -0.061888 -0.073175 -0.085854 -0.038086 -0.028056\n",
       "2020-11-01  0.089481  0.117353  0.100944  0.055711  0.102146\n",
       "2020-12-01  0.110196  0.152091  0.033322  0.040879  0.036449\n",
       "2021-01-01 -0.005517 -0.069191 -0.055282  0.041997 -0.011199\n",
       "\n",
       "[62 rows x 5 columns]"
      ]
     },
     "execution_count": 11,
     "metadata": {},
     "output_type": "execute_result"
    }
   ],
   "source": [
    "log_returns = np.log(stocks_price / stocks_price.shift())\n",
    "log_returns"
   ]
  },
  {
   "cell_type": "code",
   "execution_count": 12,
   "metadata": {},
   "outputs": [
    {
     "data": {
      "text/html": [
       "<div>\n",
       "<style scoped>\n",
       "    .dataframe tbody tr th:only-of-type {\n",
       "        vertical-align: middle;\n",
       "    }\n",
       "\n",
       "    .dataframe tbody tr th {\n",
       "        vertical-align: top;\n",
       "    }\n",
       "\n",
       "    .dataframe thead th {\n",
       "        text-align: right;\n",
       "    }\n",
       "</style>\n",
       "<table border=\"1\" class=\"dataframe\">\n",
       "  <thead>\n",
       "    <tr style=\"text-align: right;\">\n",
       "      <th>Symbols</th>\n",
       "      <th>AAPL</th>\n",
       "      <th>TWTR</th>\n",
       "      <th>IBM</th>\n",
       "      <th>MSFT</th>\n",
       "      <th>^GSPC</th>\n",
       "    </tr>\n",
       "    <tr>\n",
       "      <th>Symbols</th>\n",
       "      <th></th>\n",
       "      <th></th>\n",
       "      <th></th>\n",
       "      <th></th>\n",
       "      <th></th>\n",
       "    </tr>\n",
       "  </thead>\n",
       "  <tbody>\n",
       "    <tr>\n",
       "      <th>AAPL</th>\n",
       "      <td>0.007254</td>\n",
       "      <td>0.003730</td>\n",
       "      <td>0.002453</td>\n",
       "      <td>0.002920</td>\n",
       "      <td>0.002413</td>\n",
       "    </tr>\n",
       "    <tr>\n",
       "      <th>TWTR</th>\n",
       "      <td>0.003730</td>\n",
       "      <td>0.019788</td>\n",
       "      <td>0.001910</td>\n",
       "      <td>0.000739</td>\n",
       "      <td>0.001795</td>\n",
       "    </tr>\n",
       "    <tr>\n",
       "      <th>IBM</th>\n",
       "      <td>0.002453</td>\n",
       "      <td>0.001910</td>\n",
       "      <td>0.005315</td>\n",
       "      <td>0.001904</td>\n",
       "      <td>0.002403</td>\n",
       "    </tr>\n",
       "    <tr>\n",
       "      <th>MSFT</th>\n",
       "      <td>0.002920</td>\n",
       "      <td>0.000739</td>\n",
       "      <td>0.001904</td>\n",
       "      <td>0.002638</td>\n",
       "      <td>0.001534</td>\n",
       "    </tr>\n",
       "    <tr>\n",
       "      <th>^GSPC</th>\n",
       "      <td>0.002413</td>\n",
       "      <td>0.001795</td>\n",
       "      <td>0.002403</td>\n",
       "      <td>0.001534</td>\n",
       "      <td>0.001924</td>\n",
       "    </tr>\n",
       "  </tbody>\n",
       "</table>\n",
       "</div>"
      ],
      "text/plain": [
       "Symbols      AAPL      TWTR       IBM      MSFT     ^GSPC\n",
       "Symbols                                                  \n",
       "AAPL     0.007254  0.003730  0.002453  0.002920  0.002413\n",
       "TWTR     0.003730  0.019788  0.001910  0.000739  0.001795\n",
       "IBM      0.002453  0.001910  0.005315  0.001904  0.002403\n",
       "MSFT     0.002920  0.000739  0.001904  0.002638  0.001534\n",
       "^GSPC    0.002413  0.001795  0.002403  0.001534  0.001924"
      ]
     },
     "execution_count": 12,
     "metadata": {},
     "output_type": "execute_result"
    }
   ],
   "source": [
    "log_returns.cov()"
   ]
  },
  {
   "cell_type": "code",
   "execution_count": 13,
   "metadata": {},
   "outputs": [
    {
     "data": {
      "text/plain": [
       "Symbols\n",
       "AAPL     0.007254\n",
       "TWTR     0.019788\n",
       "IBM      0.005315\n",
       "MSFT     0.002638\n",
       "^GSPC    0.001924\n",
       "dtype: float64"
      ]
     },
     "execution_count": 13,
     "metadata": {},
     "output_type": "execute_result"
    }
   ],
   "source": [
    "log_returns.var()"
   ]
  },
  {
   "cell_type": "code",
   "execution_count": 15,
   "metadata": {},
   "outputs": [
    {
     "data": {
      "text/plain": [
       "Symbols\n",
       "AAPL     0.002413\n",
       "TWTR     0.001795\n",
       "IBM      0.002403\n",
       "MSFT     0.001534\n",
       "^GSPC    0.001924\n",
       "Name: ^GSPC, dtype: float64"
      ]
     },
     "execution_count": 15,
     "metadata": {},
     "output_type": "execute_result"
    }
   ],
   "source": [
    " cov = log_returns.cov().loc[:, \"^GSPC\"]\n",
    " cov"
   ]
  },
  {
   "cell_type": "code",
   "execution_count": 16,
   "metadata": {},
   "outputs": [
    {
     "data": {
      "text/plain": [
       "0.0019235693497498328"
      ]
     },
     "execution_count": 16,
     "metadata": {},
     "output_type": "execute_result"
    }
   ],
   "source": [
    "var = log_returns[\"^GSPC\"].var()\n",
    "var"
   ]
  },
  {
   "cell_type": "code",
   "execution_count": 17,
   "metadata": {},
   "outputs": [
    {
     "data": {
      "text/plain": [
       "Symbols\n",
       "AAPL     1.254558\n",
       "TWTR     0.933242\n",
       "IBM      1.249102\n",
       "MSFT     0.797269\n",
       "^GSPC    1.000000\n",
       "Name: ^GSPC, dtype: float64"
      ]
     },
     "execution_count": 17,
     "metadata": {},
     "output_type": "execute_result"
    }
   ],
   "source": [
    "beta = cov / var\n",
    "beta"
   ]
  },
  {
   "cell_type": "code",
   "execution_count": 18,
   "metadata": {},
   "outputs": [],
   "source": [
    "X = log_returns[\"^GSPC\"].dropna().values.reshape(-1, 1)\n",
    "y = log_returns[\"AAPL\"].dropna().values"
   ]
  },
  {
   "cell_type": "code",
   "execution_count": 19,
   "metadata": {},
   "outputs": [
    {
     "data": {
      "text/plain": [
       "array([1.25455792])"
      ]
     },
     "execution_count": 19,
     "metadata": {},
     "output_type": "execute_result"
    }
   ],
   "source": [
    "ling_reg = LinearRegression()\n",
    "ling_reg.fit(X, y)\n",
    "ling_reg.coef_"
   ]
  },
  {
   "cell_type": "code",
   "execution_count": null,
   "metadata": {},
   "outputs": [],
   "source": []
  }
 ],
 "metadata": {
  "interpreter": {
   "hash": "e4d39b27ff441b71894edbd799874c65cf22e43a419bb16cc298bb5b25f26e63"
  },
  "kernelspec": {
   "display_name": "Python 3.8.11 64-bit ('temp': conda)",
   "name": "python3"
  },
  "language_info": {
   "codemirror_mode": {
    "name": "ipython",
    "version": 3
   },
   "file_extension": ".py",
   "mimetype": "text/x-python",
   "name": "python",
   "nbconvert_exporter": "python",
   "pygments_lexer": "ipython3",
   "version": "3.8.11"
  },
  "orig_nbformat": 4
 },
 "nbformat": 4,
 "nbformat_minor": 2
}
