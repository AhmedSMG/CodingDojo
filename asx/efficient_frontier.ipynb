{
 "cells": [
  {
   "cell_type": "markdown",
   "metadata": {},
   "source": [
    "Expected Return \n",
    "\n",
    "$E(R_p) = \\sum\\limits_{i}^{N} w_iE(R_i)$\n",
    "\n",
    "Variance (Voilatlity)\n",
    "\n",
    "$\\sigma_p^2 = \\sum\\limits_{i}^{N} \\sum\\limits_{j}^{N} w_{i} w_{j} cov(R_{i}, R_{j})$\n",
    "\n",
    "$\\sigma_p^2 = W^T \\cdot W \\cdot KK_{RR}$"
   ]
  },
  {
   "cell_type": "code",
   "execution_count": 11,
   "metadata": {},
   "outputs": [],
   "source": [
    "import datetime as dt\n",
    "import numpy as np\n",
    "import pandas_datareader as pdr\n",
    "import plotly.express as px\n",
    "import plotly.graph_objs as go"
   ]
  },
  {
   "cell_type": "code",
   "execution_count": 15,
   "metadata": {},
   "outputs": [
    {
     "data": {
      "text/html": [
       "<div>\n",
       "<style scoped>\n",
       "    .dataframe tbody tr th:only-of-type {\n",
       "        vertical-align: middle;\n",
       "    }\n",
       "\n",
       "    .dataframe tbody tr th {\n",
       "        vertical-align: top;\n",
       "    }\n",
       "\n",
       "    .dataframe thead tr th {\n",
       "        text-align: left;\n",
       "    }\n",
       "\n",
       "    .dataframe thead tr:last-of-type th {\n",
       "        text-align: right;\n",
       "    }\n",
       "</style>\n",
       "<table border=\"1\" class=\"dataframe\">\n",
       "  <thead>\n",
       "    <tr>\n",
       "      <th>Attributes</th>\n",
       "      <th colspan=\"3\" halign=\"left\">Adj Close</th>\n",
       "      <th colspan=\"3\" halign=\"left\">Close</th>\n",
       "      <th colspan=\"3\" halign=\"left\">High</th>\n",
       "      <th colspan=\"3\" halign=\"left\">Low</th>\n",
       "      <th colspan=\"3\" halign=\"left\">Open</th>\n",
       "      <th colspan=\"3\" halign=\"left\">Volume</th>\n",
       "    </tr>\n",
       "    <tr>\n",
       "      <th>Symbols</th>\n",
       "      <th>CBA.AX</th>\n",
       "      <th>BHP.AX</th>\n",
       "      <th>TLS.AX</th>\n",
       "      <th>CBA.AX</th>\n",
       "      <th>BHP.AX</th>\n",
       "      <th>TLS.AX</th>\n",
       "      <th>CBA.AX</th>\n",
       "      <th>BHP.AX</th>\n",
       "      <th>TLS.AX</th>\n",
       "      <th>CBA.AX</th>\n",
       "      <th>BHP.AX</th>\n",
       "      <th>TLS.AX</th>\n",
       "      <th>CBA.AX</th>\n",
       "      <th>BHP.AX</th>\n",
       "      <th>TLS.AX</th>\n",
       "      <th>CBA.AX</th>\n",
       "      <th>BHP.AX</th>\n",
       "      <th>TLS.AX</th>\n",
       "    </tr>\n",
       "    <tr>\n",
       "      <th>Date</th>\n",
       "      <th></th>\n",
       "      <th></th>\n",
       "      <th></th>\n",
       "      <th></th>\n",
       "      <th></th>\n",
       "      <th></th>\n",
       "      <th></th>\n",
       "      <th></th>\n",
       "      <th></th>\n",
       "      <th></th>\n",
       "      <th></th>\n",
       "      <th></th>\n",
       "      <th></th>\n",
       "      <th></th>\n",
       "      <th></th>\n",
       "      <th></th>\n",
       "      <th></th>\n",
       "      <th></th>\n",
       "    </tr>\n",
       "  </thead>\n",
       "  <tbody>\n",
       "    <tr>\n",
       "      <th>2020-11-09</th>\n",
       "      <td>69.754158</td>\n",
       "      <td>32.984631</td>\n",
       "      <td>2.851133</td>\n",
       "      <td>72.400002</td>\n",
       "      <td>36.029999</td>\n",
       "      <td>2.90</td>\n",
       "      <td>73.139999</td>\n",
       "      <td>36.529999</td>\n",
       "      <td>2.950</td>\n",
       "      <td>71.320000</td>\n",
       "      <td>35.950001</td>\n",
       "      <td>2.885</td>\n",
       "      <td>72.000000</td>\n",
       "      <td>36.299999</td>\n",
       "      <td>2.90</td>\n",
       "      <td>6300671.0</td>\n",
       "      <td>7455868.0</td>\n",
       "      <td>45442440.0</td>\n",
       "    </tr>\n",
       "    <tr>\n",
       "      <th>2020-11-10</th>\n",
       "      <td>71.681068</td>\n",
       "      <td>33.735321</td>\n",
       "      <td>2.939617</td>\n",
       "      <td>74.400002</td>\n",
       "      <td>36.849998</td>\n",
       "      <td>2.99</td>\n",
       "      <td>74.440002</td>\n",
       "      <td>36.919998</td>\n",
       "      <td>3.005</td>\n",
       "      <td>72.660004</td>\n",
       "      <td>36.509998</td>\n",
       "      <td>2.915</td>\n",
       "      <td>72.949997</td>\n",
       "      <td>36.799999</td>\n",
       "      <td>2.92</td>\n",
       "      <td>5151533.0</td>\n",
       "      <td>6729405.0</td>\n",
       "      <td>45810304.0</td>\n",
       "    </tr>\n",
       "    <tr>\n",
       "      <th>2020-11-11</th>\n",
       "      <td>70.399666</td>\n",
       "      <td>33.369133</td>\n",
       "      <td>3.028100</td>\n",
       "      <td>73.070000</td>\n",
       "      <td>36.450001</td>\n",
       "      <td>3.08</td>\n",
       "      <td>74.599998</td>\n",
       "      <td>36.959999</td>\n",
       "      <td>3.190</td>\n",
       "      <td>72.870003</td>\n",
       "      <td>36.240002</td>\n",
       "      <td>3.070</td>\n",
       "      <td>74.400002</td>\n",
       "      <td>36.959999</td>\n",
       "      <td>3.18</td>\n",
       "      <td>3365097.0</td>\n",
       "      <td>5218287.0</td>\n",
       "      <td>67323243.0</td>\n",
       "    </tr>\n",
       "    <tr>\n",
       "      <th>2020-11-12</th>\n",
       "      <td>70.467110</td>\n",
       "      <td>32.746605</td>\n",
       "      <td>3.077258</td>\n",
       "      <td>73.139999</td>\n",
       "      <td>35.770000</td>\n",
       "      <td>3.13</td>\n",
       "      <td>73.419998</td>\n",
       "      <td>36.130001</td>\n",
       "      <td>3.140</td>\n",
       "      <td>72.529999</td>\n",
       "      <td>35.709999</td>\n",
       "      <td>3.080</td>\n",
       "      <td>72.800003</td>\n",
       "      <td>35.970001</td>\n",
       "      <td>3.08</td>\n",
       "      <td>2805108.0</td>\n",
       "      <td>5526657.0</td>\n",
       "      <td>42889509.0</td>\n",
       "    </tr>\n",
       "    <tr>\n",
       "      <th>2020-11-15</th>\n",
       "      <td>71.767776</td>\n",
       "      <td>33.405750</td>\n",
       "      <td>3.106752</td>\n",
       "      <td>74.489998</td>\n",
       "      <td>36.490002</td>\n",
       "      <td>3.16</td>\n",
       "      <td>74.559998</td>\n",
       "      <td>36.509998</td>\n",
       "      <td>3.165</td>\n",
       "      <td>73.790001</td>\n",
       "      <td>36.290001</td>\n",
       "      <td>3.140</td>\n",
       "      <td>74.000000</td>\n",
       "      <td>36.410000</td>\n",
       "      <td>3.15</td>\n",
       "      <td>350619.0</td>\n",
       "      <td>618519.0</td>\n",
       "      <td>3164766.0</td>\n",
       "    </tr>\n",
       "    <tr>\n",
       "      <th>2020-11-16</th>\n",
       "      <td>72.634880</td>\n",
       "      <td>33.881798</td>\n",
       "      <td>3.067426</td>\n",
       "      <td>75.389999</td>\n",
       "      <td>37.009998</td>\n",
       "      <td>3.12</td>\n",
       "      <td>75.459999</td>\n",
       "      <td>37.279999</td>\n",
       "      <td>3.160</td>\n",
       "      <td>74.599998</td>\n",
       "      <td>36.779999</td>\n",
       "      <td>3.090</td>\n",
       "      <td>74.650002</td>\n",
       "      <td>36.799999</td>\n",
       "      <td>3.16</td>\n",
       "      <td>4312323.0</td>\n",
       "      <td>10697461.0</td>\n",
       "      <td>38441131.0</td>\n",
       "    </tr>\n",
       "    <tr>\n",
       "      <th>2020-11-17</th>\n",
       "      <td>74.715950</td>\n",
       "      <td>33.717014</td>\n",
       "      <td>3.028100</td>\n",
       "      <td>77.550003</td>\n",
       "      <td>36.830002</td>\n",
       "      <td>3.08</td>\n",
       "      <td>77.550003</td>\n",
       "      <td>36.970001</td>\n",
       "      <td>3.140</td>\n",
       "      <td>75.440002</td>\n",
       "      <td>36.509998</td>\n",
       "      <td>3.050</td>\n",
       "      <td>75.459999</td>\n",
       "      <td>36.970001</td>\n",
       "      <td>3.13</td>\n",
       "      <td>3979413.0</td>\n",
       "      <td>5235560.0</td>\n",
       "      <td>25527984.0</td>\n",
       "    </tr>\n",
       "    <tr>\n",
       "      <th>2020-11-18</th>\n",
       "      <td>75.987709</td>\n",
       "      <td>33.424057</td>\n",
       "      <td>3.047763</td>\n",
       "      <td>78.870003</td>\n",
       "      <td>36.509998</td>\n",
       "      <td>3.10</td>\n",
       "      <td>78.870003</td>\n",
       "      <td>36.799999</td>\n",
       "      <td>3.100</td>\n",
       "      <td>77.180000</td>\n",
       "      <td>36.330002</td>\n",
       "      <td>3.050</td>\n",
       "      <td>78.000000</td>\n",
       "      <td>36.799999</td>\n",
       "      <td>3.09</td>\n",
       "      <td>4383570.0</td>\n",
       "      <td>5854568.0</td>\n",
       "      <td>24581148.0</td>\n",
       "    </tr>\n",
       "    <tr>\n",
       "      <th>2020-11-19</th>\n",
       "      <td>77.076408</td>\n",
       "      <td>33.085335</td>\n",
       "      <td>3.037931</td>\n",
       "      <td>80.000000</td>\n",
       "      <td>36.139999</td>\n",
       "      <td>3.09</td>\n",
       "      <td>80.000000</td>\n",
       "      <td>36.480000</td>\n",
       "      <td>3.120</td>\n",
       "      <td>78.099998</td>\n",
       "      <td>36.139999</td>\n",
       "      <td>3.080</td>\n",
       "      <td>78.779999</td>\n",
       "      <td>36.330002</td>\n",
       "      <td>3.11</td>\n",
       "      <td>6969228.0</td>\n",
       "      <td>6456168.0</td>\n",
       "      <td>21744361.0</td>\n",
       "    </tr>\n",
       "    <tr>\n",
       "      <th>2020-11-22</th>\n",
       "      <td>76.691025</td>\n",
       "      <td>33.918415</td>\n",
       "      <td>3.028100</td>\n",
       "      <td>79.599998</td>\n",
       "      <td>37.049999</td>\n",
       "      <td>3.08</td>\n",
       "      <td>80.050003</td>\n",
       "      <td>37.700001</td>\n",
       "      <td>3.110</td>\n",
       "      <td>79.269997</td>\n",
       "      <td>36.730000</td>\n",
       "      <td>3.080</td>\n",
       "      <td>79.790001</td>\n",
       "      <td>36.799999</td>\n",
       "      <td>3.10</td>\n",
       "      <td>1945889.0</td>\n",
       "      <td>6686594.0</td>\n",
       "      <td>13831959.0</td>\n",
       "    </tr>\n",
       "  </tbody>\n",
       "</table>\n",
       "</div>"
      ],
      "text/plain": [
       "Attributes  Adj Close                           Close                    \\\n",
       "Symbols        CBA.AX     BHP.AX    TLS.AX     CBA.AX     BHP.AX TLS.AX   \n",
       "Date                                                                      \n",
       "2020-11-09  69.754158  32.984631  2.851133  72.400002  36.029999   2.90   \n",
       "2020-11-10  71.681068  33.735321  2.939617  74.400002  36.849998   2.99   \n",
       "2020-11-11  70.399666  33.369133  3.028100  73.070000  36.450001   3.08   \n",
       "2020-11-12  70.467110  32.746605  3.077258  73.139999  35.770000   3.13   \n",
       "2020-11-15  71.767776  33.405750  3.106752  74.489998  36.490002   3.16   \n",
       "2020-11-16  72.634880  33.881798  3.067426  75.389999  37.009998   3.12   \n",
       "2020-11-17  74.715950  33.717014  3.028100  77.550003  36.830002   3.08   \n",
       "2020-11-18  75.987709  33.424057  3.047763  78.870003  36.509998   3.10   \n",
       "2020-11-19  77.076408  33.085335  3.037931  80.000000  36.139999   3.09   \n",
       "2020-11-22  76.691025  33.918415  3.028100  79.599998  37.049999   3.08   \n",
       "\n",
       "Attributes       High                          Low                    \\\n",
       "Symbols        CBA.AX     BHP.AX TLS.AX     CBA.AX     BHP.AX TLS.AX   \n",
       "Date                                                                   \n",
       "2020-11-09  73.139999  36.529999  2.950  71.320000  35.950001  2.885   \n",
       "2020-11-10  74.440002  36.919998  3.005  72.660004  36.509998  2.915   \n",
       "2020-11-11  74.599998  36.959999  3.190  72.870003  36.240002  3.070   \n",
       "2020-11-12  73.419998  36.130001  3.140  72.529999  35.709999  3.080   \n",
       "2020-11-15  74.559998  36.509998  3.165  73.790001  36.290001  3.140   \n",
       "2020-11-16  75.459999  37.279999  3.160  74.599998  36.779999  3.090   \n",
       "2020-11-17  77.550003  36.970001  3.140  75.440002  36.509998  3.050   \n",
       "2020-11-18  78.870003  36.799999  3.100  77.180000  36.330002  3.050   \n",
       "2020-11-19  80.000000  36.480000  3.120  78.099998  36.139999  3.080   \n",
       "2020-11-22  80.050003  37.700001  3.110  79.269997  36.730000  3.080   \n",
       "\n",
       "Attributes       Open                       Volume                          \n",
       "Symbols        CBA.AX     BHP.AX TLS.AX     CBA.AX      BHP.AX      TLS.AX  \n",
       "Date                                                                        \n",
       "2020-11-09  72.000000  36.299999   2.90  6300671.0   7455868.0  45442440.0  \n",
       "2020-11-10  72.949997  36.799999   2.92  5151533.0   6729405.0  45810304.0  \n",
       "2020-11-11  74.400002  36.959999   3.18  3365097.0   5218287.0  67323243.0  \n",
       "2020-11-12  72.800003  35.970001   3.08  2805108.0   5526657.0  42889509.0  \n",
       "2020-11-15  74.000000  36.410000   3.15   350619.0    618519.0   3164766.0  \n",
       "2020-11-16  74.650002  36.799999   3.16  4312323.0  10697461.0  38441131.0  \n",
       "2020-11-17  75.459999  36.970001   3.13  3979413.0   5235560.0  25527984.0  \n",
       "2020-11-18  78.000000  36.799999   3.09  4383570.0   5854568.0  24581148.0  \n",
       "2020-11-19  78.779999  36.330002   3.11  6969228.0   6456168.0  21744361.0  \n",
       "2020-11-22  79.790001  36.799999   3.10  1945889.0   6686594.0  13831959.0  "
      ]
     },
     "execution_count": 15,
     "metadata": {},
     "output_type": "execute_result"
    }
   ],
   "source": [
    "tickers = [\"CBA.AX\", \"BHP.AX\", \"TLS.AX\"]\n",
    "end_date = dt.datetime.now()\n",
    "start_date = end_date - dt.timedelta(days=356 + 1)\n",
    "stocks = pdr.get_data_yahoo(tickers, start_date, end_date)\n",
    "stocks.head(10)\n"
   ]
  },
  {
   "cell_type": "code",
   "execution_count": 16,
   "metadata": {},
   "outputs": [
    {
     "data": {
      "text/html": [
       "<div>\n",
       "<style scoped>\n",
       "    .dataframe tbody tr th:only-of-type {\n",
       "        vertical-align: middle;\n",
       "    }\n",
       "\n",
       "    .dataframe tbody tr th {\n",
       "        vertical-align: top;\n",
       "    }\n",
       "\n",
       "    .dataframe thead th {\n",
       "        text-align: right;\n",
       "    }\n",
       "</style>\n",
       "<table border=\"1\" class=\"dataframe\">\n",
       "  <thead>\n",
       "    <tr style=\"text-align: right;\">\n",
       "      <th>Symbols</th>\n",
       "      <th>CBA.AX</th>\n",
       "      <th>BHP.AX</th>\n",
       "      <th>TLS.AX</th>\n",
       "    </tr>\n",
       "    <tr>\n",
       "      <th>Date</th>\n",
       "      <th></th>\n",
       "      <th></th>\n",
       "      <th></th>\n",
       "    </tr>\n",
       "  </thead>\n",
       "  <tbody>\n",
       "    <tr>\n",
       "      <th>2020-11-10</th>\n",
       "      <td>0.027624</td>\n",
       "      <td>0.022759</td>\n",
       "      <td>0.031034</td>\n",
       "    </tr>\n",
       "    <tr>\n",
       "      <th>2020-11-11</th>\n",
       "      <td>-0.017876</td>\n",
       "      <td>-0.010855</td>\n",
       "      <td>0.030100</td>\n",
       "    </tr>\n",
       "    <tr>\n",
       "      <th>2020-11-12</th>\n",
       "      <td>0.000958</td>\n",
       "      <td>-0.018656</td>\n",
       "      <td>0.016234</td>\n",
       "    </tr>\n",
       "    <tr>\n",
       "      <th>2020-11-15</th>\n",
       "      <td>0.018458</td>\n",
       "      <td>0.020129</td>\n",
       "      <td>0.009585</td>\n",
       "    </tr>\n",
       "    <tr>\n",
       "      <th>2020-11-16</th>\n",
       "      <td>0.012082</td>\n",
       "      <td>0.014250</td>\n",
       "      <td>-0.012658</td>\n",
       "    </tr>\n",
       "    <tr>\n",
       "      <th>2020-11-17</th>\n",
       "      <td>0.028651</td>\n",
       "      <td>-0.004863</td>\n",
       "      <td>-0.012821</td>\n",
       "    </tr>\n",
       "    <tr>\n",
       "      <th>2020-11-18</th>\n",
       "      <td>0.017021</td>\n",
       "      <td>-0.008689</td>\n",
       "      <td>0.006494</td>\n",
       "    </tr>\n",
       "    <tr>\n",
       "      <th>2020-11-19</th>\n",
       "      <td>0.014327</td>\n",
       "      <td>-0.010134</td>\n",
       "      <td>-0.003226</td>\n",
       "    </tr>\n",
       "    <tr>\n",
       "      <th>2020-11-22</th>\n",
       "      <td>-0.005000</td>\n",
       "      <td>0.025180</td>\n",
       "      <td>-0.003236</td>\n",
       "    </tr>\n",
       "    <tr>\n",
       "      <th>2020-11-23</th>\n",
       "      <td>0.019598</td>\n",
       "      <td>0.033738</td>\n",
       "      <td>0.012987</td>\n",
       "    </tr>\n",
       "  </tbody>\n",
       "</table>\n",
       "</div>"
      ],
      "text/plain": [
       "Symbols       CBA.AX    BHP.AX    TLS.AX\n",
       "Date                                    \n",
       "2020-11-10  0.027624  0.022759  0.031034\n",
       "2020-11-11 -0.017876 -0.010855  0.030100\n",
       "2020-11-12  0.000958 -0.018656  0.016234\n",
       "2020-11-15  0.018458  0.020129  0.009585\n",
       "2020-11-16  0.012082  0.014250 -0.012658\n",
       "2020-11-17  0.028651 -0.004863 -0.012821\n",
       "2020-11-18  0.017021 -0.008689  0.006494\n",
       "2020-11-19  0.014327 -0.010134 -0.003226\n",
       "2020-11-22 -0.005000  0.025180 -0.003236\n",
       "2020-11-23  0.019598  0.033738  0.012987"
      ]
     },
     "execution_count": 16,
     "metadata": {},
     "output_type": "execute_result"
    }
   ],
   "source": [
    "returns = stocks[\"Close\"].pct_change().dropna()\n",
    "returns.head(10)"
   ]
  },
  {
   "cell_type": "code",
   "execution_count": 23,
   "metadata": {},
   "outputs": [],
   "source": [
    "returns_cov = returns.cov()"
   ]
  },
  {
   "cell_type": "code",
   "execution_count": 79,
   "metadata": {},
   "outputs": [
    {
     "data": {
      "application/vnd.plotly.v1+json": {
       "config": {
        "plotlyServerURL": "https://plot.ly"
       },
       "data": [
        {
         "colorscale": [
          [
           0,
           "rgb(103,0,31)"
          ],
          [
           0.1,
           "rgb(178,24,43)"
          ],
          [
           0.2,
           "rgb(214,96,77)"
          ],
          [
           0.3,
           "rgb(244,165,130)"
          ],
          [
           0.4,
           "rgb(253,219,199)"
          ],
          [
           0.5,
           "rgb(247,247,247)"
          ],
          [
           0.6,
           "rgb(209,229,240)"
          ],
          [
           0.7,
           "rgb(146,197,222)"
          ],
          [
           0.8,
           "rgb(67,147,195)"
          ],
          [
           0.9,
           "rgb(33,102,172)"
          ],
          [
           1,
           "rgb(5,48,97)"
          ]
         ],
         "type": "heatmap",
         "x": [
          "CBA.AX",
          "BHP.AX",
          "TLS.AX"
         ],
         "y": [
          "CBA.AX",
          "BHP.AX",
          "TLS.AX"
         ],
         "z": [
          [
           0.0001575485532604306,
           0.00006668445596334702,
           0.000035194351350930164
          ],
          [
           0.00006668445596334702,
           0.00035014590596972307,
           0.00003933329702500892
          ],
          [
           0.000035194351350930164,
           0.00003933329702500892,
           0.00012544201694338053
          ]
         ]
        }
       ],
       "layout": {
        "annotations": [
         {
          "showarrow": false,
          "text": "0.00016",
          "x": "CBA.AX",
          "y": "CBA.AX"
         },
         {
          "showarrow": false,
          "text": "0.00007",
          "x": "CBA.AX",
          "y": "BHP.AX"
         },
         {
          "showarrow": false,
          "text": "0.00004",
          "x": "CBA.AX",
          "y": "TLS.AX"
         },
         {
          "showarrow": false,
          "text": "0.00007",
          "x": "BHP.AX",
          "y": "CBA.AX"
         },
         {
          "showarrow": false,
          "text": "0.00035",
          "x": "BHP.AX",
          "y": "BHP.AX"
         },
         {
          "showarrow": false,
          "text": "0.00004",
          "x": "BHP.AX",
          "y": "TLS.AX"
         },
         {
          "showarrow": false,
          "text": "0.00004",
          "x": "TLS.AX",
          "y": "CBA.AX"
         },
         {
          "showarrow": false,
          "text": "0.00004",
          "x": "TLS.AX",
          "y": "BHP.AX"
         },
         {
          "showarrow": false,
          "text": "0.00013",
          "x": "TLS.AX",
          "y": "TLS.AX"
         }
        ],
        "height": 700,
        "template": {
         "data": {
          "bar": [
           {
            "error_x": {
             "color": "#2a3f5f"
            },
            "error_y": {
             "color": "#2a3f5f"
            },
            "marker": {
             "line": {
              "color": "#E5ECF6",
              "width": 0.5
             },
             "pattern": {
              "fillmode": "overlay",
              "size": 10,
              "solidity": 0.2
             }
            },
            "type": "bar"
           }
          ],
          "barpolar": [
           {
            "marker": {
             "line": {
              "color": "#E5ECF6",
              "width": 0.5
             },
             "pattern": {
              "fillmode": "overlay",
              "size": 10,
              "solidity": 0.2
             }
            },
            "type": "barpolar"
           }
          ],
          "carpet": [
           {
            "aaxis": {
             "endlinecolor": "#2a3f5f",
             "gridcolor": "white",
             "linecolor": "white",
             "minorgridcolor": "white",
             "startlinecolor": "#2a3f5f"
            },
            "baxis": {
             "endlinecolor": "#2a3f5f",
             "gridcolor": "white",
             "linecolor": "white",
             "minorgridcolor": "white",
             "startlinecolor": "#2a3f5f"
            },
            "type": "carpet"
           }
          ],
          "choropleth": [
           {
            "colorbar": {
             "outlinewidth": 0,
             "ticks": ""
            },
            "type": "choropleth"
           }
          ],
          "contour": [
           {
            "colorbar": {
             "outlinewidth": 0,
             "ticks": ""
            },
            "colorscale": [
             [
              0,
              "#0d0887"
             ],
             [
              0.1111111111111111,
              "#46039f"
             ],
             [
              0.2222222222222222,
              "#7201a8"
             ],
             [
              0.3333333333333333,
              "#9c179e"
             ],
             [
              0.4444444444444444,
              "#bd3786"
             ],
             [
              0.5555555555555556,
              "#d8576b"
             ],
             [
              0.6666666666666666,
              "#ed7953"
             ],
             [
              0.7777777777777778,
              "#fb9f3a"
             ],
             [
              0.8888888888888888,
              "#fdca26"
             ],
             [
              1,
              "#f0f921"
             ]
            ],
            "type": "contour"
           }
          ],
          "contourcarpet": [
           {
            "colorbar": {
             "outlinewidth": 0,
             "ticks": ""
            },
            "type": "contourcarpet"
           }
          ],
          "heatmap": [
           {
            "colorbar": {
             "outlinewidth": 0,
             "ticks": ""
            },
            "colorscale": [
             [
              0,
              "#0d0887"
             ],
             [
              0.1111111111111111,
              "#46039f"
             ],
             [
              0.2222222222222222,
              "#7201a8"
             ],
             [
              0.3333333333333333,
              "#9c179e"
             ],
             [
              0.4444444444444444,
              "#bd3786"
             ],
             [
              0.5555555555555556,
              "#d8576b"
             ],
             [
              0.6666666666666666,
              "#ed7953"
             ],
             [
              0.7777777777777778,
              "#fb9f3a"
             ],
             [
              0.8888888888888888,
              "#fdca26"
             ],
             [
              1,
              "#f0f921"
             ]
            ],
            "type": "heatmap"
           }
          ],
          "heatmapgl": [
           {
            "colorbar": {
             "outlinewidth": 0,
             "ticks": ""
            },
            "colorscale": [
             [
              0,
              "#0d0887"
             ],
             [
              0.1111111111111111,
              "#46039f"
             ],
             [
              0.2222222222222222,
              "#7201a8"
             ],
             [
              0.3333333333333333,
              "#9c179e"
             ],
             [
              0.4444444444444444,
              "#bd3786"
             ],
             [
              0.5555555555555556,
              "#d8576b"
             ],
             [
              0.6666666666666666,
              "#ed7953"
             ],
             [
              0.7777777777777778,
              "#fb9f3a"
             ],
             [
              0.8888888888888888,
              "#fdca26"
             ],
             [
              1,
              "#f0f921"
             ]
            ],
            "type": "heatmapgl"
           }
          ],
          "histogram": [
           {
            "marker": {
             "pattern": {
              "fillmode": "overlay",
              "size": 10,
              "solidity": 0.2
             }
            },
            "type": "histogram"
           }
          ],
          "histogram2d": [
           {
            "colorbar": {
             "outlinewidth": 0,
             "ticks": ""
            },
            "colorscale": [
             [
              0,
              "#0d0887"
             ],
             [
              0.1111111111111111,
              "#46039f"
             ],
             [
              0.2222222222222222,
              "#7201a8"
             ],
             [
              0.3333333333333333,
              "#9c179e"
             ],
             [
              0.4444444444444444,
              "#bd3786"
             ],
             [
              0.5555555555555556,
              "#d8576b"
             ],
             [
              0.6666666666666666,
              "#ed7953"
             ],
             [
              0.7777777777777778,
              "#fb9f3a"
             ],
             [
              0.8888888888888888,
              "#fdca26"
             ],
             [
              1,
              "#f0f921"
             ]
            ],
            "type": "histogram2d"
           }
          ],
          "histogram2dcontour": [
           {
            "colorbar": {
             "outlinewidth": 0,
             "ticks": ""
            },
            "colorscale": [
             [
              0,
              "#0d0887"
             ],
             [
              0.1111111111111111,
              "#46039f"
             ],
             [
              0.2222222222222222,
              "#7201a8"
             ],
             [
              0.3333333333333333,
              "#9c179e"
             ],
             [
              0.4444444444444444,
              "#bd3786"
             ],
             [
              0.5555555555555556,
              "#d8576b"
             ],
             [
              0.6666666666666666,
              "#ed7953"
             ],
             [
              0.7777777777777778,
              "#fb9f3a"
             ],
             [
              0.8888888888888888,
              "#fdca26"
             ],
             [
              1,
              "#f0f921"
             ]
            ],
            "type": "histogram2dcontour"
           }
          ],
          "mesh3d": [
           {
            "colorbar": {
             "outlinewidth": 0,
             "ticks": ""
            },
            "type": "mesh3d"
           }
          ],
          "parcoords": [
           {
            "line": {
             "colorbar": {
              "outlinewidth": 0,
              "ticks": ""
             }
            },
            "type": "parcoords"
           }
          ],
          "pie": [
           {
            "automargin": true,
            "type": "pie"
           }
          ],
          "scatter": [
           {
            "marker": {
             "colorbar": {
              "outlinewidth": 0,
              "ticks": ""
             }
            },
            "type": "scatter"
           }
          ],
          "scatter3d": [
           {
            "line": {
             "colorbar": {
              "outlinewidth": 0,
              "ticks": ""
             }
            },
            "marker": {
             "colorbar": {
              "outlinewidth": 0,
              "ticks": ""
             }
            },
            "type": "scatter3d"
           }
          ],
          "scattercarpet": [
           {
            "marker": {
             "colorbar": {
              "outlinewidth": 0,
              "ticks": ""
             }
            },
            "type": "scattercarpet"
           }
          ],
          "scattergeo": [
           {
            "marker": {
             "colorbar": {
              "outlinewidth": 0,
              "ticks": ""
             }
            },
            "type": "scattergeo"
           }
          ],
          "scattergl": [
           {
            "marker": {
             "colorbar": {
              "outlinewidth": 0,
              "ticks": ""
             }
            },
            "type": "scattergl"
           }
          ],
          "scattermapbox": [
           {
            "marker": {
             "colorbar": {
              "outlinewidth": 0,
              "ticks": ""
             }
            },
            "type": "scattermapbox"
           }
          ],
          "scatterpolar": [
           {
            "marker": {
             "colorbar": {
              "outlinewidth": 0,
              "ticks": ""
             }
            },
            "type": "scatterpolar"
           }
          ],
          "scatterpolargl": [
           {
            "marker": {
             "colorbar": {
              "outlinewidth": 0,
              "ticks": ""
             }
            },
            "type": "scatterpolargl"
           }
          ],
          "scatterternary": [
           {
            "marker": {
             "colorbar": {
              "outlinewidth": 0,
              "ticks": ""
             }
            },
            "type": "scatterternary"
           }
          ],
          "surface": [
           {
            "colorbar": {
             "outlinewidth": 0,
             "ticks": ""
            },
            "colorscale": [
             [
              0,
              "#0d0887"
             ],
             [
              0.1111111111111111,
              "#46039f"
             ],
             [
              0.2222222222222222,
              "#7201a8"
             ],
             [
              0.3333333333333333,
              "#9c179e"
             ],
             [
              0.4444444444444444,
              "#bd3786"
             ],
             [
              0.5555555555555556,
              "#d8576b"
             ],
             [
              0.6666666666666666,
              "#ed7953"
             ],
             [
              0.7777777777777778,
              "#fb9f3a"
             ],
             [
              0.8888888888888888,
              "#fdca26"
             ],
             [
              1,
              "#f0f921"
             ]
            ],
            "type": "surface"
           }
          ],
          "table": [
           {
            "cells": {
             "fill": {
              "color": "#EBF0F8"
             },
             "line": {
              "color": "white"
             }
            },
            "header": {
             "fill": {
              "color": "#C8D4E3"
             },
             "line": {
              "color": "white"
             }
            },
            "type": "table"
           }
          ]
         },
         "layout": {
          "annotationdefaults": {
           "arrowcolor": "#2a3f5f",
           "arrowhead": 0,
           "arrowwidth": 1
          },
          "autotypenumbers": "strict",
          "coloraxis": {
           "colorbar": {
            "outlinewidth": 0,
            "ticks": ""
           }
          },
          "colorscale": {
           "diverging": [
            [
             0,
             "#8e0152"
            ],
            [
             0.1,
             "#c51b7d"
            ],
            [
             0.2,
             "#de77ae"
            ],
            [
             0.3,
             "#f1b6da"
            ],
            [
             0.4,
             "#fde0ef"
            ],
            [
             0.5,
             "#f7f7f7"
            ],
            [
             0.6,
             "#e6f5d0"
            ],
            [
             0.7,
             "#b8e186"
            ],
            [
             0.8,
             "#7fbc41"
            ],
            [
             0.9,
             "#4d9221"
            ],
            [
             1,
             "#276419"
            ]
           ],
           "sequential": [
            [
             0,
             "#0d0887"
            ],
            [
             0.1111111111111111,
             "#46039f"
            ],
            [
             0.2222222222222222,
             "#7201a8"
            ],
            [
             0.3333333333333333,
             "#9c179e"
            ],
            [
             0.4444444444444444,
             "#bd3786"
            ],
            [
             0.5555555555555556,
             "#d8576b"
            ],
            [
             0.6666666666666666,
             "#ed7953"
            ],
            [
             0.7777777777777778,
             "#fb9f3a"
            ],
            [
             0.8888888888888888,
             "#fdca26"
            ],
            [
             1,
             "#f0f921"
            ]
           ],
           "sequentialminus": [
            [
             0,
             "#0d0887"
            ],
            [
             0.1111111111111111,
             "#46039f"
            ],
            [
             0.2222222222222222,
             "#7201a8"
            ],
            [
             0.3333333333333333,
             "#9c179e"
            ],
            [
             0.4444444444444444,
             "#bd3786"
            ],
            [
             0.5555555555555556,
             "#d8576b"
            ],
            [
             0.6666666666666666,
             "#ed7953"
            ],
            [
             0.7777777777777778,
             "#fb9f3a"
            ],
            [
             0.8888888888888888,
             "#fdca26"
            ],
            [
             1,
             "#f0f921"
            ]
           ]
          },
          "colorway": [
           "#636efa",
           "#EF553B",
           "#00cc96",
           "#ab63fa",
           "#FFA15A",
           "#19d3f3",
           "#FF6692",
           "#B6E880",
           "#FF97FF",
           "#FECB52"
          ],
          "font": {
           "color": "#2a3f5f"
          },
          "geo": {
           "bgcolor": "white",
           "lakecolor": "white",
           "landcolor": "#E5ECF6",
           "showlakes": true,
           "showland": true,
           "subunitcolor": "white"
          },
          "hoverlabel": {
           "align": "left"
          },
          "hovermode": "closest",
          "mapbox": {
           "style": "light"
          },
          "paper_bgcolor": "white",
          "plot_bgcolor": "#E5ECF6",
          "polar": {
           "angularaxis": {
            "gridcolor": "white",
            "linecolor": "white",
            "ticks": ""
           },
           "bgcolor": "#E5ECF6",
           "radialaxis": {
            "gridcolor": "white",
            "linecolor": "white",
            "ticks": ""
           }
          },
          "scene": {
           "xaxis": {
            "backgroundcolor": "#E5ECF6",
            "gridcolor": "white",
            "gridwidth": 2,
            "linecolor": "white",
            "showbackground": true,
            "ticks": "",
            "zerolinecolor": "white"
           },
           "yaxis": {
            "backgroundcolor": "#E5ECF6",
            "gridcolor": "white",
            "gridwidth": 2,
            "linecolor": "white",
            "showbackground": true,
            "ticks": "",
            "zerolinecolor": "white"
           },
           "zaxis": {
            "backgroundcolor": "#E5ECF6",
            "gridcolor": "white",
            "gridwidth": 2,
            "linecolor": "white",
            "showbackground": true,
            "ticks": "",
            "zerolinecolor": "white"
           }
          },
          "shapedefaults": {
           "line": {
            "color": "#2a3f5f"
           }
          },
          "ternary": {
           "aaxis": {
            "gridcolor": "white",
            "linecolor": "white",
            "ticks": ""
           },
           "baxis": {
            "gridcolor": "white",
            "linecolor": "white",
            "ticks": ""
           },
           "bgcolor": "#E5ECF6",
           "caxis": {
            "gridcolor": "white",
            "linecolor": "white",
            "ticks": ""
           }
          },
          "title": {
           "x": 0.05
          },
          "xaxis": {
           "automargin": true,
           "gridcolor": "white",
           "linecolor": "white",
           "ticks": "",
           "title": {
            "standoff": 15
           },
           "zerolinecolor": "white",
           "zerolinewidth": 2
          },
          "yaxis": {
           "automargin": true,
           "gridcolor": "white",
           "linecolor": "white",
           "ticks": "",
           "title": {
            "standoff": 15
           },
           "zerolinecolor": "white",
           "zerolinewidth": 2
          }
         }
        },
        "title": {
         "text": "Covariance of Portfolios"
        },
        "width": 700
       }
      },
      "text/html": [
       "<div>                            <div id=\"69fdafb9-2bab-4ad3-85c7-3d08bf1b552c\" class=\"plotly-graph-div\" style=\"height:700px; width:700px;\"></div>            <script type=\"text/javascript\">                require([\"plotly\"], function(Plotly) {                    window.PLOTLYENV=window.PLOTLYENV || {};                                    if (document.getElementById(\"69fdafb9-2bab-4ad3-85c7-3d08bf1b552c\")) {                    Plotly.newPlot(                        \"69fdafb9-2bab-4ad3-85c7-3d08bf1b552c\",                        [{\"colorscale\":[[0.0,\"rgb(103,0,31)\"],[0.1,\"rgb(178,24,43)\"],[0.2,\"rgb(214,96,77)\"],[0.3,\"rgb(244,165,130)\"],[0.4,\"rgb(253,219,199)\"],[0.5,\"rgb(247,247,247)\"],[0.6,\"rgb(209,229,240)\"],[0.7,\"rgb(146,197,222)\"],[0.8,\"rgb(67,147,195)\"],[0.9,\"rgb(33,102,172)\"],[1.0,\"rgb(5,48,97)\"]],\"type\":\"heatmap\",\"x\":[\"CBA.AX\",\"BHP.AX\",\"TLS.AX\"],\"y\":[\"CBA.AX\",\"BHP.AX\",\"TLS.AX\"],\"z\":[[0.0001575485532604306,6.668445596334702e-05,3.5194351350930164e-05],[6.668445596334702e-05,0.00035014590596972307,3.933329702500892e-05],[3.5194351350930164e-05,3.933329702500892e-05,0.00012544201694338053]]}],                        {\"annotations\":[{\"showarrow\":false,\"text\":\"0.00016\",\"x\":\"CBA.AX\",\"y\":\"CBA.AX\"},{\"showarrow\":false,\"text\":\"0.00007\",\"x\":\"CBA.AX\",\"y\":\"BHP.AX\"},{\"showarrow\":false,\"text\":\"0.00004\",\"x\":\"CBA.AX\",\"y\":\"TLS.AX\"},{\"showarrow\":false,\"text\":\"0.00007\",\"x\":\"BHP.AX\",\"y\":\"CBA.AX\"},{\"showarrow\":false,\"text\":\"0.00035\",\"x\":\"BHP.AX\",\"y\":\"BHP.AX\"},{\"showarrow\":false,\"text\":\"0.00004\",\"x\":\"BHP.AX\",\"y\":\"TLS.AX\"},{\"showarrow\":false,\"text\":\"0.00004\",\"x\":\"TLS.AX\",\"y\":\"CBA.AX\"},{\"showarrow\":false,\"text\":\"0.00004\",\"x\":\"TLS.AX\",\"y\":\"BHP.AX\"},{\"showarrow\":false,\"text\":\"0.00013\",\"x\":\"TLS.AX\",\"y\":\"TLS.AX\"}],\"height\":700,\"template\":{\"data\":{\"bar\":[{\"error_x\":{\"color\":\"#2a3f5f\"},\"error_y\":{\"color\":\"#2a3f5f\"},\"marker\":{\"line\":{\"color\":\"#E5ECF6\",\"width\":0.5},\"pattern\":{\"fillmode\":\"overlay\",\"size\":10,\"solidity\":0.2}},\"type\":\"bar\"}],\"barpolar\":[{\"marker\":{\"line\":{\"color\":\"#E5ECF6\",\"width\":0.5},\"pattern\":{\"fillmode\":\"overlay\",\"size\":10,\"solidity\":0.2}},\"type\":\"barpolar\"}],\"carpet\":[{\"aaxis\":{\"endlinecolor\":\"#2a3f5f\",\"gridcolor\":\"white\",\"linecolor\":\"white\",\"minorgridcolor\":\"white\",\"startlinecolor\":\"#2a3f5f\"},\"baxis\":{\"endlinecolor\":\"#2a3f5f\",\"gridcolor\":\"white\",\"linecolor\":\"white\",\"minorgridcolor\":\"white\",\"startlinecolor\":\"#2a3f5f\"},\"type\":\"carpet\"}],\"choropleth\":[{\"colorbar\":{\"outlinewidth\":0,\"ticks\":\"\"},\"type\":\"choropleth\"}],\"contour\":[{\"colorbar\":{\"outlinewidth\":0,\"ticks\":\"\"},\"colorscale\":[[0.0,\"#0d0887\"],[0.1111111111111111,\"#46039f\"],[0.2222222222222222,\"#7201a8\"],[0.3333333333333333,\"#9c179e\"],[0.4444444444444444,\"#bd3786\"],[0.5555555555555556,\"#d8576b\"],[0.6666666666666666,\"#ed7953\"],[0.7777777777777778,\"#fb9f3a\"],[0.8888888888888888,\"#fdca26\"],[1.0,\"#f0f921\"]],\"type\":\"contour\"}],\"contourcarpet\":[{\"colorbar\":{\"outlinewidth\":0,\"ticks\":\"\"},\"type\":\"contourcarpet\"}],\"heatmap\":[{\"colorbar\":{\"outlinewidth\":0,\"ticks\":\"\"},\"colorscale\":[[0.0,\"#0d0887\"],[0.1111111111111111,\"#46039f\"],[0.2222222222222222,\"#7201a8\"],[0.3333333333333333,\"#9c179e\"],[0.4444444444444444,\"#bd3786\"],[0.5555555555555556,\"#d8576b\"],[0.6666666666666666,\"#ed7953\"],[0.7777777777777778,\"#fb9f3a\"],[0.8888888888888888,\"#fdca26\"],[1.0,\"#f0f921\"]],\"type\":\"heatmap\"}],\"heatmapgl\":[{\"colorbar\":{\"outlinewidth\":0,\"ticks\":\"\"},\"colorscale\":[[0.0,\"#0d0887\"],[0.1111111111111111,\"#46039f\"],[0.2222222222222222,\"#7201a8\"],[0.3333333333333333,\"#9c179e\"],[0.4444444444444444,\"#bd3786\"],[0.5555555555555556,\"#d8576b\"],[0.6666666666666666,\"#ed7953\"],[0.7777777777777778,\"#fb9f3a\"],[0.8888888888888888,\"#fdca26\"],[1.0,\"#f0f921\"]],\"type\":\"heatmapgl\"}],\"histogram\":[{\"marker\":{\"pattern\":{\"fillmode\":\"overlay\",\"size\":10,\"solidity\":0.2}},\"type\":\"histogram\"}],\"histogram2d\":[{\"colorbar\":{\"outlinewidth\":0,\"ticks\":\"\"},\"colorscale\":[[0.0,\"#0d0887\"],[0.1111111111111111,\"#46039f\"],[0.2222222222222222,\"#7201a8\"],[0.3333333333333333,\"#9c179e\"],[0.4444444444444444,\"#bd3786\"],[0.5555555555555556,\"#d8576b\"],[0.6666666666666666,\"#ed7953\"],[0.7777777777777778,\"#fb9f3a\"],[0.8888888888888888,\"#fdca26\"],[1.0,\"#f0f921\"]],\"type\":\"histogram2d\"}],\"histogram2dcontour\":[{\"colorbar\":{\"outlinewidth\":0,\"ticks\":\"\"},\"colorscale\":[[0.0,\"#0d0887\"],[0.1111111111111111,\"#46039f\"],[0.2222222222222222,\"#7201a8\"],[0.3333333333333333,\"#9c179e\"],[0.4444444444444444,\"#bd3786\"],[0.5555555555555556,\"#d8576b\"],[0.6666666666666666,\"#ed7953\"],[0.7777777777777778,\"#fb9f3a\"],[0.8888888888888888,\"#fdca26\"],[1.0,\"#f0f921\"]],\"type\":\"histogram2dcontour\"}],\"mesh3d\":[{\"colorbar\":{\"outlinewidth\":0,\"ticks\":\"\"},\"type\":\"mesh3d\"}],\"parcoords\":[{\"line\":{\"colorbar\":{\"outlinewidth\":0,\"ticks\":\"\"}},\"type\":\"parcoords\"}],\"pie\":[{\"automargin\":true,\"type\":\"pie\"}],\"scatter\":[{\"marker\":{\"colorbar\":{\"outlinewidth\":0,\"ticks\":\"\"}},\"type\":\"scatter\"}],\"scatter3d\":[{\"line\":{\"colorbar\":{\"outlinewidth\":0,\"ticks\":\"\"}},\"marker\":{\"colorbar\":{\"outlinewidth\":0,\"ticks\":\"\"}},\"type\":\"scatter3d\"}],\"scattercarpet\":[{\"marker\":{\"colorbar\":{\"outlinewidth\":0,\"ticks\":\"\"}},\"type\":\"scattercarpet\"}],\"scattergeo\":[{\"marker\":{\"colorbar\":{\"outlinewidth\":0,\"ticks\":\"\"}},\"type\":\"scattergeo\"}],\"scattergl\":[{\"marker\":{\"colorbar\":{\"outlinewidth\":0,\"ticks\":\"\"}},\"type\":\"scattergl\"}],\"scattermapbox\":[{\"marker\":{\"colorbar\":{\"outlinewidth\":0,\"ticks\":\"\"}},\"type\":\"scattermapbox\"}],\"scatterpolar\":[{\"marker\":{\"colorbar\":{\"outlinewidth\":0,\"ticks\":\"\"}},\"type\":\"scatterpolar\"}],\"scatterpolargl\":[{\"marker\":{\"colorbar\":{\"outlinewidth\":0,\"ticks\":\"\"}},\"type\":\"scatterpolargl\"}],\"scatterternary\":[{\"marker\":{\"colorbar\":{\"outlinewidth\":0,\"ticks\":\"\"}},\"type\":\"scatterternary\"}],\"surface\":[{\"colorbar\":{\"outlinewidth\":0,\"ticks\":\"\"},\"colorscale\":[[0.0,\"#0d0887\"],[0.1111111111111111,\"#46039f\"],[0.2222222222222222,\"#7201a8\"],[0.3333333333333333,\"#9c179e\"],[0.4444444444444444,\"#bd3786\"],[0.5555555555555556,\"#d8576b\"],[0.6666666666666666,\"#ed7953\"],[0.7777777777777778,\"#fb9f3a\"],[0.8888888888888888,\"#fdca26\"],[1.0,\"#f0f921\"]],\"type\":\"surface\"}],\"table\":[{\"cells\":{\"fill\":{\"color\":\"#EBF0F8\"},\"line\":{\"color\":\"white\"}},\"header\":{\"fill\":{\"color\":\"#C8D4E3\"},\"line\":{\"color\":\"white\"}},\"type\":\"table\"}]},\"layout\":{\"annotationdefaults\":{\"arrowcolor\":\"#2a3f5f\",\"arrowhead\":0,\"arrowwidth\":1},\"autotypenumbers\":\"strict\",\"coloraxis\":{\"colorbar\":{\"outlinewidth\":0,\"ticks\":\"\"}},\"colorscale\":{\"diverging\":[[0,\"#8e0152\"],[0.1,\"#c51b7d\"],[0.2,\"#de77ae\"],[0.3,\"#f1b6da\"],[0.4,\"#fde0ef\"],[0.5,\"#f7f7f7\"],[0.6,\"#e6f5d0\"],[0.7,\"#b8e186\"],[0.8,\"#7fbc41\"],[0.9,\"#4d9221\"],[1,\"#276419\"]],\"sequential\":[[0.0,\"#0d0887\"],[0.1111111111111111,\"#46039f\"],[0.2222222222222222,\"#7201a8\"],[0.3333333333333333,\"#9c179e\"],[0.4444444444444444,\"#bd3786\"],[0.5555555555555556,\"#d8576b\"],[0.6666666666666666,\"#ed7953\"],[0.7777777777777778,\"#fb9f3a\"],[0.8888888888888888,\"#fdca26\"],[1.0,\"#f0f921\"]],\"sequentialminus\":[[0.0,\"#0d0887\"],[0.1111111111111111,\"#46039f\"],[0.2222222222222222,\"#7201a8\"],[0.3333333333333333,\"#9c179e\"],[0.4444444444444444,\"#bd3786\"],[0.5555555555555556,\"#d8576b\"],[0.6666666666666666,\"#ed7953\"],[0.7777777777777778,\"#fb9f3a\"],[0.8888888888888888,\"#fdca26\"],[1.0,\"#f0f921\"]]},\"colorway\":[\"#636efa\",\"#EF553B\",\"#00cc96\",\"#ab63fa\",\"#FFA15A\",\"#19d3f3\",\"#FF6692\",\"#B6E880\",\"#FF97FF\",\"#FECB52\"],\"font\":{\"color\":\"#2a3f5f\"},\"geo\":{\"bgcolor\":\"white\",\"lakecolor\":\"white\",\"landcolor\":\"#E5ECF6\",\"showlakes\":true,\"showland\":true,\"subunitcolor\":\"white\"},\"hoverlabel\":{\"align\":\"left\"},\"hovermode\":\"closest\",\"mapbox\":{\"style\":\"light\"},\"paper_bgcolor\":\"white\",\"plot_bgcolor\":\"#E5ECF6\",\"polar\":{\"angularaxis\":{\"gridcolor\":\"white\",\"linecolor\":\"white\",\"ticks\":\"\"},\"bgcolor\":\"#E5ECF6\",\"radialaxis\":{\"gridcolor\":\"white\",\"linecolor\":\"white\",\"ticks\":\"\"}},\"scene\":{\"xaxis\":{\"backgroundcolor\":\"#E5ECF6\",\"gridcolor\":\"white\",\"gridwidth\":2,\"linecolor\":\"white\",\"showbackground\":true,\"ticks\":\"\",\"zerolinecolor\":\"white\"},\"yaxis\":{\"backgroundcolor\":\"#E5ECF6\",\"gridcolor\":\"white\",\"gridwidth\":2,\"linecolor\":\"white\",\"showbackground\":true,\"ticks\":\"\",\"zerolinecolor\":\"white\"},\"zaxis\":{\"backgroundcolor\":\"#E5ECF6\",\"gridcolor\":\"white\",\"gridwidth\":2,\"linecolor\":\"white\",\"showbackground\":true,\"ticks\":\"\",\"zerolinecolor\":\"white\"}},\"shapedefaults\":{\"line\":{\"color\":\"#2a3f5f\"}},\"ternary\":{\"aaxis\":{\"gridcolor\":\"white\",\"linecolor\":\"white\",\"ticks\":\"\"},\"baxis\":{\"gridcolor\":\"white\",\"linecolor\":\"white\",\"ticks\":\"\"},\"bgcolor\":\"#E5ECF6\",\"caxis\":{\"gridcolor\":\"white\",\"linecolor\":\"white\",\"ticks\":\"\"}},\"title\":{\"x\":0.05},\"xaxis\":{\"automargin\":true,\"gridcolor\":\"white\",\"linecolor\":\"white\",\"ticks\":\"\",\"title\":{\"standoff\":15},\"zerolinecolor\":\"white\",\"zerolinewidth\":2},\"yaxis\":{\"automargin\":true,\"gridcolor\":\"white\",\"linecolor\":\"white\",\"ticks\":\"\",\"title\":{\"standoff\":15},\"zerolinecolor\":\"white\",\"zerolinewidth\":2}}},\"title\":{\"text\":\"Covariance of Portfolios\"},\"width\":700},                        {\"responsive\": true}                    ).then(function(){\n",
       "                            \n",
       "var gd = document.getElementById('69fdafb9-2bab-4ad3-85c7-3d08bf1b552c');\n",
       "var x = new MutationObserver(function (mutations, observer) {{\n",
       "        var display = window.getComputedStyle(gd).display;\n",
       "        if (!display || display === 'none') {{\n",
       "            console.log([gd, 'removed!']);\n",
       "            Plotly.purge(gd);\n",
       "            observer.disconnect();\n",
       "        }}\n",
       "}});\n",
       "\n",
       "// Listen for the removal of the full notebook cells\n",
       "var notebookContainer = gd.closest('#notebook-container');\n",
       "if (notebookContainer) {{\n",
       "    x.observe(notebookContainer, {childList: true});\n",
       "}}\n",
       "\n",
       "// Listen for the clearing of the current output cell\n",
       "var outputEl = gd.closest('.output');\n",
       "if (outputEl) {{\n",
       "    x.observe(outputEl, {childList: true});\n",
       "}}\n",
       "\n",
       "                        })                };                });            </script>        </div>"
      ]
     },
     "metadata": {},
     "output_type": "display_data"
    }
   ],
   "source": [
    "fig = go.Figure(layout=dict(width=700, height=700))\n",
    "fig.add_trace(go.Heatmap(z=returns_cov,\n",
    "                         x=returns_cov.index,\n",
    "                         y=returns_cov.index,\n",
    "                         colorscale=\"RdBu\"))\n",
    "fig.update_layout({\n",
    "    \"annotations\" :[{\"x\": i[0],\n",
    "                     \"y\": i[1],\n",
    "                     \"text\": f\"{v:.5f}\",\n",
    "                     \"showarrow\": False} for i, v in zip(returns_cov.stack().index, returns_cov.values.flatten())],\n",
    "    \"title\": \"Covariance of Portfolios\"\n",
    "    })\n",
    "fig.show()"
   ]
  },
  {
   "cell_type": "code",
   "execution_count": null,
   "metadata": {},
   "outputs": [],
   "source": []
  }
 ],
 "metadata": {
  "interpreter": {
   "hash": "e4d39b27ff441b71894edbd799874c65cf22e43a419bb16cc298bb5b25f26e63"
  },
  "kernelspec": {
   "display_name": "Python 3.8.11 64-bit ('temp': conda)",
   "name": "python3"
  },
  "language_info": {
   "codemirror_mode": {
    "name": "ipython",
    "version": 3
   },
   "file_extension": ".py",
   "mimetype": "text/x-python",
   "name": "python",
   "nbconvert_exporter": "python",
   "pygments_lexer": "ipython3",
   "version": "3.8.11"
  },
  "orig_nbformat": 4
 },
 "nbformat": 4,
 "nbformat_minor": 2
}
