import hashlib
import datetime as dt


nonce = 0


_hash = hashlib.sha256(str(nonce).encode())
print(f"Block Size : {_hash.block_size}")
print(f"Digit Size : {_hash.digest_size}")
print(f"Name : {_hash.name}")
print(f"Digest : {_hash.digest()}")
print(f"Hexdigest : {_hash.hexdigest()}")
print(f"Decimal : {int(_hash.hexdigest(), base=16)}")


t1 = dt.datetime.now()
nonce = 0
is_soltion = False
while not is_soltion:
    _ = hashlib.sha256(str(nonce).encode()).hexdigest()
    
    if _[:7] == "0"*7:
        is_soltion = True
    nonce += 1
t2 = dt.datetime.now()


duration = t2 - t1
print ("The hash is:",_)
print ("The nonce is:",nonce)    
print ("Time elapsed:",duration)


def find_hash(numb=7):

    t1 = dt.datetime.now()
    nonce = 0
    is_soltion = False

    while not is_soltion:
        _ = hashlib.sha256(str(nonce).encode()).hexdigest()

        if _[:numb] == "0"*numb:
            is_soltion = True
        nonce += 1

    t2 = dt.datetime.now()
    duration = t2 - t1

    print ("The hash is:",_)
    print ("The nonce is:",nonce)    
    print ("Time elapsed:",duration)

    return _


find_hash(10)



