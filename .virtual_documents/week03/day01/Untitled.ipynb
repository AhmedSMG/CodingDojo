import numpy as np
import pandas as pd
import statsmodels.api as sm


brent_oil_price = df = pd.read_csv("BrentOilPrices.csv",
                                   parse_dates=["Date"],
                                   index_col=["Date"])
df.head()


AM_stock = pd.read_csv("AM.csv",
                       parse_dates=["Date"],
                       index_col=["Date"])
AM_stock.head()


brent_oil_price = brent_oil_price[AM_stock.index]
brent_oil_price


AM_stock = AM_stock["2018":"2020"]
AM_stock


results = sm.OLS(AM_stock.Close, brent_oil_price).fit()
print(results.summary())


brent_oil_price.info()


AM_stock.info()


AM_stock.index


brent_oil_price.index


pd.DataFrame([brent_oil_price.index, AM_stock.index])



