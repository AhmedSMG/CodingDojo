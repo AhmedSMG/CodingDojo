import numpy as np
import pandas as pd
import statsmodels.api as sm
import plotly.express as px


brent_oil_price = df = pd.read_csv("BrentOilPrices.csv",
                                   parse_dates=["Date"],
                                   index_col=["Date"])
df.head()


AM_stock = pd.read_csv("AM.csv",
                       parse_dates=["Date"],
                       index_col=["Date"])
AM_stock.head()


df = pd.merge(left=AM_stock,
              right=brent_oil_price,
              how="inner",
              right_index=True,
              left_index=True)
df = df.rename(columns={'Price': 'Oil Price'})
df.head()


df.info()


regressor = sm.OLS(df["Close"], df["Oil Price"]).fit()
print(regressor.summary())


predctions = regressor.predict(df["Oil Price"])


fig = px.scatter(df, x="Oil Price", y="Close", trendline="ols")
fig.show()



