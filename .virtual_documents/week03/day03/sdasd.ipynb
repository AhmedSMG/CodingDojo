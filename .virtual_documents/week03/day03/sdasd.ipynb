# As always, we begin by importing our packages at the top of our notebook

import pandas
from sklearn.preprocessing import StandardScaler

from statsmodels.formula.api import ols
import matplotlib.pyplot as plt
import statsmodels.api as sm

import warnings
warnings.filterwarnings('ignore')


#Let's use .tail() to view a sample of our data and make sure it loaded as expected

df = pandas.read_csv('CP3_2_data.csv',
                     parse_dates=["Publish Date"],
                     index_col=["Publish Date"])
df.tail(4)


# Here we will use the .columns property of our DataFrame to print out the columns from our data.

df.columns


# Objective:
# Select the following collumns for your data frame:
# 'Revenue','Property, Plant & Equipment, Net' and 'Adjusted Close'

econ_df = df[['Revenue','Property, Plant & Equipment, Net', 'Adjusted Close']]


# Let's visualize our data

econ_df.plot()


# We can take a look at our DateTimeIndex from our DataFrame using the .index property.

econ_df.index


# In the above plot, it was a bit difficult to see relationships 
# in our data due to the differences in scale.
# Let's normalize our data using a Z or Standard transform.

scaler = StandardScaler()

scaled_df = pandas.DataFrame(
    scaler.fit_transform(econ_df), 
    columns=econ_df.columns,
    index=econ_df.index)

print(scaled_df.head(4))

scaled_df.plot()


# Objective:
# Visualize an alternative plot using the function "pct_change"

econ_df.pct_change().dropna().plot()


# How does this look with our rescaled data?
scaled_df.pct_change().dropna().plot()


# Here we will make use of the rename method from our DataFrame
# to change some collumn names. We will be making use of a 
# stanrded model syntax borrowed from the programming language R.

# Don't worry if it's new to you. But we can't have spaces in our 
# collumn names

relabeled_df = df.rename(columns={
    'Property, Plant & Equipment, Net':'ppe',
    'Adjusted Close':'adjusted_close',
    'Revenue':'revenue'})


# Let's quickly check our new DataFrame
relabeled_df.tail(3)


plant_and_property_model = ols("adjusted_close ~ ppe ", data = relabeled_df).fit()

# Objective:
# Use the above line of code as a guide, and complete the econometric model for 'revenue'

revenue_model = ols("adjusted_close ~ revenue ", data = relabeled_df).fit()


# In one cell we will print our summary and plot some figures below.
# Don't worry about the new package for now. But keep it in mind for the future.

print(plant_and_property_model.summary())

sm.graphics.plot_regress_exog(plant_and_property_model, 'ppe', fig=plt.figure(figsize=(12,8)))


# Again for the next model
print(revenue_model.summary())

sm.graphics.plot_regress_exog(revenue_model, 'revenue', fig=plt.figure(figsize=(12,8)))


# Final Objective:

# In the markdown cell bellow (double click to edit), 
# write your response for which model you think best explains the Adjusted Close prices
# for Digital Realty Trust. Does the equity in the form of Plant, Property and Equipment (PPE)
# best explain our data, or does Revenue? Why? Please refer to the above analyses and/or figures.
