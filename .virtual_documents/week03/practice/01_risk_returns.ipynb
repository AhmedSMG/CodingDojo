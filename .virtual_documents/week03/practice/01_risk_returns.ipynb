from datetime import datetime
import numpy as np
import pandas as pd
import pandas_datareader as pdr


start = datetime(2020, 1, 1)
stocks = pdr.get_data_yahoo("AAPL", start)
stocks = stocks["Close"]


x = stocks.pct_change()


y = stocks.diff() / stocks


z = (stocks - stocks.shift()) / stocks


 # retuen = (current - pervious) / current
 # cumulative return = (1 + current return) * (1 + prevous cumlative) - 1 
 # OR 
 # Log return log(1 + return)
 # sum log return


stocks.pct_change() == (stocks.diff() /  stocks.shift(1))


# returns = (current - previous) / previous
#         = (current / previous) - 1
#         = gross return + 1


# returns = stocks.pct_change()
# OR stocks.diff() / stocks.shift()
# OR (stocks - stocks.shift()) / stocks.shift()


# gross return = current / initial
#              = return - 1


# cumlative returns = (current - initial) / initial
#                   = current / initial - 1
#                   = cumProd((1 + return)) - 1


# cum_return = (stocks - stocks.iloc[-1]) / stocks.iloc[-1]
# OR         = (1 + stocks.pct_change()).cumprod() - 1


returns = stocks.pct_change()
returns


cum_returns = (1 + returns).cumprod() - 1
cum_returns


# gross return = stocks / stocks.shitf()
# log of return = log(1 + gross return) 
# log of return = np.log(stocks / stocks.shift())



# cumlative returns
# OR         = np.exp(log_gross_return.cumsum()) - 1
# OR         = np.exp(np.log((stocks / stockd.shift()).cumsum()) - 1


log_gross_return = np.log(stocks / stocks.shift())
log_gross_return


returns = np.exp(log_gross_return.cumsum()) -1
returns


tickers = ["AAPL", "MSFT", "TWTR", "IBM"]
stocks = pdr.get_data_yahoo(tickers, "2020-01-01")
stocks


stocks_price = stocks["Adj Close"]
stocks_price


portfolios = [0.25, 0.15, 0.40, 0.20]


log_returns = np.log(stocks / stocks.shift())
log_returns


weights = np.random.random(4)
weights /= weights.sum()
weights


cum_returns = np.exp(log_returns.cumsum()) - 1
cum_returns



