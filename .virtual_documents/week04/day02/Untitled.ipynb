import pandas as pd


dates = pd.date_range("2022", "2032", freq="Y").year
dates


df = pd.DataFrame(columns=["Revenue", "EBITDA", "Taxes",
                           "Capital Expenditure", "Working Capital",
                           "Cash Flow", "Discount Factor",
                           "Present Value Free Cash Flow"],
                  index=dates)
df.loc[2022, "Revenue"] = 222 * (1 + 0.18)
df


for i in range(1, len(df)):
    df.iloc[i]["Revenue"] = df.iloc[i - 1]["Revenue"] * (1 + 0.18)


df


df["EBITDA"] = df["Revenue"] * 0.45


df["Taxes"] = -df["EBITDA"] * 0.21


df["Capital Expenditure"] = -df["Revenue"] * 0.03


df["Working Capital"] = -df["Revenue"] * 0.06


df["Cash Flow"] = df["EBITDA"] + df["Taxes"] + df["Capital Expenditure"] + df["Working Capital"]


df


# 2022: DF = (1 - 0.06)^1
# 2023: DF = (1 - 0.06)^2
# 2024: DF = (1 - 0.06)^3


for i in range(len(df)):
    df.iloc[i]["Discount Factor"] = (1 - 0.06) ** (i + 1)


df


df["Present Value Free Cash Flow"] = df["Cash Flow"] * df["Discount Factor"]


df


revenue_2032 = df.loc[2031, "Revenue"] * 1.18
ebitda_2032 = revenue_2032 * 0.45
terminal_value = ebitda_2032 * 32.70


message = f"""
Our projected Present Value of Projected Future Cash Flows are:

{df["Present Value Free Cash Flow"]}.


We are providing revenue guidance in 2032 to be: {revenue_2032}.

With an estimated EBITDA around: {ebitda_2032}.

The terminal value a this time given a multiple of 32.70

and the above EBITDA for 2030, would equal: {terminal_value}.

"""


print(message)



