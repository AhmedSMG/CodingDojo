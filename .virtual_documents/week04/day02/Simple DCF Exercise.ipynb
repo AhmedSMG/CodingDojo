import numpy as np
import pandas as pd
import plotly.express as px


# Ten year model 2022 to 2032
# Revenue (year 2022) = 222
# Revenue Groth Factor 18%
# EBITDA Marging = 45% Current Revenue
# Taxes = 21% current EBITDA
# Capital Expenditure = 3% Current Revenue
# Working Capital Increase 6% Revenue
# EDBITA Exit Multiple: 32.70
# Discount Factor(WACC): 0.94 (6%).


initial_revenue = 222
growth_factor = 0.18
ebitda_margin = 0.45
taxes = 0.21
capital_expenditures = 0.03
working_capital_increase = 0.06
ebitda_exit_multiple = 32.70
discount_factor_rate = 0.06


df = pd.DataFrame(data={"Revenue": growth_factor,
                        "EBITDA": 0,
                        "Taxes": 0,
                        "Capital Expenditure": 0,
                        "Working Capital": 0,
                        "Cash Flow": 0,
                        "Discount Factor": 1 - discount_factor_rate,
                        "Present Value Free Cash Flow": 0,
                        },
                  index=pd.date_range(start="2022",
                                      end="2033",
                                      freq="Y",
                                      name="Date")
                  )
df.head()


df["Revenue"] =  (1 + df["Revenue"]).cumprod() * initial_revenue

df["EBITDA"] = df["Revenue"] * ebitda_margin

df["Taxes"] = -df["EBITDA"] * taxes

df["Capital Expenditure"] = -df["Revenue"] * capital_expenditures

df["Working Capital"] = -df["Revenue"] * working_capital_increase

df["Cash Flow"] = df["EBITDA"] + df["Taxes"] + df["Capital Expenditure"] + df["Working Capital"]

df["Discount Factor"] = df["Discount Factor"].cumprod()

df["Present Value Free Cash Flow"] = df["Cash Flow"] * (df["Discount Factor"])



df


present_value_of_projected_fcf = df["Present Value Free Cash Flow"].drop(index="2032-12-31").sum()
present_value_of_projected_fcf


terminal_value = (df.loc["2032", "EBITDA"] * ebitda_exit_multiple).values[0]
terminal_value


present_value_of_terminal_value = terminal_value * df.loc["2031" ,"Discount Factor"].values[0]
present_value_of_terminal_value


present_assets_value = present_value_of_projected_fcf + present_value_of_terminal_value
present_assets_value



steatment = f"""

Our projected Present Value of Projected Future Cash Flows are: {present_value_of_projected_fcf:.3f}

With an estimated EBITDA around: {terminal_value:.3f}

The terminal value a this time given a multiple of {ebitda_exit_multiple:.3f}

and the above EBITDA for 2030, would equal: {present_value_of_terminal_value:.3f}."

"""

print(steatment)



