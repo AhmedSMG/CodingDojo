{
 "cells": [
  {
   "cell_type": "code",
   "execution_count": 2,
   "id": "7f70b9a1-bd2f-4a63-a8da-9492272a5c19",
   "metadata": {},
   "outputs": [
    {
     "data": {
      "text/plain": [
       "[-1, 'big', 'big', -5]"
      ]
     },
     "execution_count": 2,
     "metadata": {},
     "output_type": "execute_result"
    }
   ],
   "source": [
    "# Q1 -> Given a list, write a function that changes all positive numbers in the list to \"big\".\n",
    "# Example: biggie_size([-1, 3, 5, -5]) returns that same list, but whose values are now [-1, \"big\", \"big\", -5]\n",
    "def biggie_size(x):\n",
    "    return [i if i <= 0 else \"big\" for i in x]"
   ]
  },
  {
   "cell_type": "code",
   "execution_count": 3,
   "id": "6f7469ac-7989-4614-aafa-a792bf7ca4cb",
   "metadata": {},
   "outputs": [
    {
     "data": {
      "text/plain": [
       "[-1, 'big', 'big', -5]"
      ]
     },
     "execution_count": 3,
     "metadata": {},
     "output_type": "execute_result"
    }
   ],
   "source": [
    "biggie_size([-1, 3, 5, -5])"
   ]
  },
  {
   "cell_type": "code",
   "execution_count": 6,
   "id": "ad47dd3e-b665-4855-8b8b-25c7f7e84b79",
   "metadata": {},
   "outputs": [],
   "source": [
    "# Q2 -> Given a list of numbers, create a function to replace the last value with the number of positive values.\n",
    "# Example: count_positives([-1,1,1,1]) changes the original list to [-1,1,1,3] and returns it\n",
    "# Example: count_positives([1,6,-4,-2,-7,-2]) changes the list to [1,6,-4,-2,-7,2] and returns it\n",
    "def count_positives(x):\n",
    "    x[-1] = sum(map(lambda i: i > 0, x))\n",
    "    return x"
   ]
  },
  {
   "cell_type": "code",
   "execution_count": 7,
   "id": "5e8a0ba9-6785-443d-956c-0ae2f405bddc",
   "metadata": {},
   "outputs": [
    {
     "data": {
      "text/plain": [
       "[-1, 1, 1, 3]"
      ]
     },
     "execution_count": 7,
     "metadata": {},
     "output_type": "execute_result"
    }
   ],
   "source": [
    "count_positives([-1,1,1,1])"
   ]
  },
  {
   "cell_type": "code",
   "execution_count": 8,
   "id": "f0b091bc-a0c5-4098-8349-e60c3f6f55f2",
   "metadata": {},
   "outputs": [
    {
     "data": {
      "text/plain": [
       "[1, 6, -4, -2, -7, 2]"
      ]
     },
     "execution_count": 8,
     "metadata": {},
     "output_type": "execute_result"
    }
   ],
   "source": [
    "count_positives([1,6,-4,-2,-7,-2])"
   ]
  },
  {
   "cell_type": "code",
   "execution_count": 9,
   "id": "1afceb18-0523-4471-be94-9b9da768697b",
   "metadata": {},
   "outputs": [],
   "source": [
    "# Q3 -> Create a function that takes a list and returns the sum of all the values in the array.\n",
    "# Example: sum_total([1,2,3,4]) should return 10\n",
    "# Example: sum_total([6,3,-2]) should return 7\n",
    "def sum_total(x):\n",
    "    return sum(x)"
   ]
  },
  {
   "cell_type": "code",
   "execution_count": 10,
   "id": "1a415366-bec1-4041-8d31-e94e7f633d75",
   "metadata": {},
   "outputs": [
    {
     "data": {
      "text/plain": [
       "10"
      ]
     },
     "execution_count": 10,
     "metadata": {},
     "output_type": "execute_result"
    }
   ],
   "source": [
    "sum_total([1,2,3,4]) "
   ]
  },
  {
   "cell_type": "code",
   "execution_count": 11,
   "id": "134e8dbd-c8e1-4fe3-8574-8c62ec412301",
   "metadata": {},
   "outputs": [
    {
     "data": {
      "text/plain": [
       "7"
      ]
     },
     "execution_count": 11,
     "metadata": {},
     "output_type": "execute_result"
    }
   ],
   "source": [
    "sum_total([6,3,-2])"
   ]
  },
  {
   "cell_type": "code",
   "execution_count": 12,
   "id": "2f75cc2c-081b-4442-84bd-7e3086018ae5",
   "metadata": {},
   "outputs": [],
   "source": [
    "# Q4 -> Create a function that takes a list and returns the average of all the values.\n",
    "# Example: average([1,2,3,4]) should return 2.5\n",
    "def average(x):\n",
    "    return sum(x) / len(x)"
   ]
  },
  {
   "cell_type": "code",
   "execution_count": 13,
   "id": "0ce77513-35cd-45fe-bf67-3244b9227cda",
   "metadata": {},
   "outputs": [
    {
     "data": {
      "text/plain": [
       "2.5"
      ]
     },
     "execution_count": 13,
     "metadata": {},
     "output_type": "execute_result"
    }
   ],
   "source": [
    "average([1,2,3,4]) "
   ]
  },
  {
   "cell_type": "code",
   "execution_count": 15,
   "id": "13a6bb7c-73fd-4d66-a948-f35c88aeb79b",
   "metadata": {},
   "outputs": [],
   "source": [
    "# Q5 -> Create a function that takes a list and returns the length of the list.\n",
    "# Example: length([37,2,1,-9]) should return 4\n",
    "# Example: length([]) should return 0\n",
    "def length(x):\n",
    "    return len(x)"
   ]
  },
  {
   "cell_type": "code",
   "execution_count": 16,
   "id": "bc557578-b778-444f-9c12-fd84a2fbbd8f",
   "metadata": {},
   "outputs": [
    {
     "data": {
      "text/plain": [
       "4"
      ]
     },
     "execution_count": 16,
     "metadata": {},
     "output_type": "execute_result"
    }
   ],
   "source": [
    "length([37,2,1,-9])"
   ]
  },
  {
   "cell_type": "code",
   "execution_count": 17,
   "id": "9fdf2b6e-a611-42c4-b826-237889d75913",
   "metadata": {},
   "outputs": [
    {
     "data": {
      "text/plain": [
       "0"
      ]
     },
     "execution_count": 17,
     "metadata": {},
     "output_type": "execute_result"
    }
   ],
   "source": [
    "length([])"
   ]
  },
  {
   "cell_type": "code",
   "execution_count": 37,
   "id": "f1e6cce4-8074-473d-ad0d-c69179cb8c57",
   "metadata": {},
   "outputs": [],
   "source": [
    "# Q6 -> Create a function that takes a list of numbers and returns the minimum value in the list.\n",
    "# (Optional) If the list is empty, have the function return False.\n",
    "# Example: minimum([37,2,1,-9]) should return -9\n",
    "# (Optional) Example: minimum([]) should return False\n",
    "def minimum(x):\n",
    "    if len(x) == 0:\n",
    "        return False\n",
    "    else:\n",
    "        return min(x)"
   ]
  },
  {
   "cell_type": "code",
   "execution_count": 38,
   "id": "d0959e18-ddf6-488e-987b-ff9993eca389",
   "metadata": {},
   "outputs": [
    {
     "data": {
      "text/plain": [
       "-9"
      ]
     },
     "execution_count": 38,
     "metadata": {},
     "output_type": "execute_result"
    }
   ],
   "source": [
    "minimum([37,2,1,-9])"
   ]
  },
  {
   "cell_type": "code",
   "execution_count": 39,
   "id": "3eb91a40-c3c3-470c-b96e-34512003fe8d",
   "metadata": {},
   "outputs": [
    {
     "data": {
      "text/plain": [
       "False"
      ]
     },
     "execution_count": 39,
     "metadata": {},
     "output_type": "execute_result"
    }
   ],
   "source": [
    "minimum([]) "
   ]
  },
  {
   "cell_type": "code",
   "execution_count": 40,
   "id": "0aa2f114-4ffd-431f-bdb3-b075e81e92d5",
   "metadata": {},
   "outputs": [],
   "source": [
    "# Q7 -> Create a function that takes a list and returns the maximum value in the array.\n",
    "# (Optional) If the list is empty, have the function return False.\n",
    "# Example: maximum([37,2,1,-9]) should return 37\n",
    "# (Optional) Example: maximum([]) should return False\n",
    "def maximum(x):\n",
    "    if len(x) == 0:\n",
    "        return False\n",
    "    else:\n",
    "        return max(x)"
   ]
  },
  {
   "cell_type": "code",
   "execution_count": 41,
   "id": "469ecc6b-d921-4b7c-b8cc-70dd18bbb6d4",
   "metadata": {},
   "outputs": [
    {
     "data": {
      "text/plain": [
       "37"
      ]
     },
     "execution_count": 41,
     "metadata": {},
     "output_type": "execute_result"
    }
   ],
   "source": [
    "maximum([37,2,1,-9]) "
   ]
  },
  {
   "cell_type": "code",
   "execution_count": 42,
   "id": "3356d556-1a0f-4c38-9821-6291a27e5c67",
   "metadata": {},
   "outputs": [
    {
     "data": {
      "text/plain": [
       "False"
      ]
     },
     "execution_count": 42,
     "metadata": {},
     "output_type": "execute_result"
    }
   ],
   "source": [
    "maximum([]) "
   ]
  },
  {
   "cell_type": "code",
   "execution_count": 43,
   "id": "df9653bc-c905-4ac3-9af5-5000bad5ceca",
   "metadata": {},
   "outputs": [],
   "source": [
    "# Q8 -> Create a function that takes a list and returns a dictionary\n",
    "# that has the sumTotal, average, minimum, maximum and length of the list.\n",
    "# Example: ultimate_analysis([37,2,1,-9])\n",
    "# should return {'sumTotal': 31, 'average': 7.75, 'minimum': -9, 'maximum': 37, 'length': 4 }\n",
    "def ultimate_analysis(x):\n",
    "    return {\n",
    "        \"SumTotal\": sum(x),\n",
    "        \"average\": sum(x) / len(x),\n",
    "        \"minimum\": min(x),\n",
    "        \"maximum\": max(x),\n",
    "        \"length\": len(x)\n",
    "    }"
   ]
  },
  {
   "cell_type": "code",
   "execution_count": 44,
   "id": "9fbaa2c7-2ec3-4271-b187-5acf31a61d27",
   "metadata": {},
   "outputs": [
    {
     "data": {
      "text/plain": [
       "{'SumTotal': 31, 'average': 7.75, 'minimum': -9, 'maximum': 37, 'length': 4}"
      ]
     },
     "execution_count": 44,
     "metadata": {},
     "output_type": "execute_result"
    }
   ],
   "source": [
    "ultimate_analysis([37,2,1,-9])"
   ]
  },
  {
   "cell_type": "code",
   "execution_count": 45,
   "id": "2630be88-ab29-4db0-9e01-4d350b22d068",
   "metadata": {},
   "outputs": [],
   "source": [
    "# Q9 ->  Create a function that takes a list and returns that list with values reversed.\n",
    "# Do this without creating a second list\n",
    "# Example: reverse_list([37,2,1,-9]) should return [-9,1,2,37]\n",
    "def reverse_list(x):\n",
    "    return x[::-1]"
   ]
  },
  {
   "cell_type": "code",
   "execution_count": 46,
   "id": "a95e010a-86bb-4405-a6c3-7fd94e5c8d7b",
   "metadata": {},
   "outputs": [
    {
     "data": {
      "text/plain": [
       "[-9, 1, 2, 37]"
      ]
     },
     "execution_count": 46,
     "metadata": {},
     "output_type": "execute_result"
    }
   ],
   "source": [
    "reverse_list([37,2,1,-9])"
   ]
  },
  {
   "cell_type": "code",
   "execution_count": null,
   "id": "3b97cd8a-a006-4bdb-a128-68cc288c64c8",
   "metadata": {},
   "outputs": [],
   "source": []
  }
 ],
 "metadata": {
  "kernelspec": {
   "display_name": "Python 3 (ipykernel)",
   "language": "python",
   "name": "python3"
  },
  "language_info": {
   "codemirror_mode": {
    "name": "ipython",
    "version": 3
   },
   "file_extension": ".py",
   "mimetype": "text/x-python",
   "name": "python",
   "nbconvert_exporter": "python",
   "pygments_lexer": "ipython3",
   "version": "3.8.11"
  }
 },
 "nbformat": 4,
 "nbformat_minor": 5
}
