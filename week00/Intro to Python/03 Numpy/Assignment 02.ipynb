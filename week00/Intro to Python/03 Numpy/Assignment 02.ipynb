{
 "cells": [
  {
   "cell_type": "code",
   "execution_count": 3,
   "id": "8bae468e-24e7-452d-bb63-717506d2aa97",
   "metadata": {},
   "outputs": [],
   "source": [
    "import numpy as np"
   ]
  },
  {
   "cell_type": "code",
   "execution_count": 5,
   "id": "26c27d2a-7c07-45f8-a689-7fe7780e8d23",
   "metadata": {
    "collapsed": true,
    "jupyter": {
     "outputs_hidden": true
    },
    "tags": []
   },
   "outputs": [
    {
     "name": "stdout",
     "output_type": "stream",
     "text": [
      "[  1   2   3   4   5   6   7   8   9  10  11  12  13  14  15  16  17  18\n",
      "  19  20  21  22  23  24  25  26  27  28  29  30  31  32  33  34  35  36\n",
      "  37  38  39  40  41  42  43  44  45  46  47  48  49  50  51  52  53  54\n",
      "  55  56  57  58  59  60  61  62  63  64  65  66  67  68  69  70  71  72\n",
      "  73  74  75  76  77  78  79  80  81  82  83  84  85  86  87  88  89  90\n",
      "  91  92  93  94  95  96  97  98  99 100]\n"
     ]
    }
   ],
   "source": [
    "print(np.arange(1, 100 + 1))"
   ]
  },
  {
   "cell_type": "code",
   "execution_count": 7,
   "id": "b883af5f-ae61-40df-b4d2-4762474d7888",
   "metadata": {},
   "outputs": [
    {
     "name": "stdout",
     "output_type": "stream",
     "text": [
      "[ 8 16 24 32 40 48 56 64 72 80 88 96]\n"
     ]
    }
   ],
   "source": [
    "print(np.arange(8, 100 + 1, 8))"
   ]
  },
  {
   "cell_type": "code",
   "execution_count": 8,
   "id": "7a149393-1c93-4c34-aa9e-a6e7e21dd244",
   "metadata": {},
   "outputs": [
    {
     "name": "stdout",
     "output_type": "stream",
     "text": [
      "5\n",
      "10\n",
      "15\n",
      "20\n",
      "25\n"
     ]
    }
   ],
   "source": [
    "counter = 0\n",
    "x = 5\n",
    "while(counter < 5):\n",
    "    print(x)\n",
    "    counter += 1\n",
    "    x += 5"
   ]
  },
  {
   "cell_type": "code",
   "execution_count": 9,
   "id": "bf6b89fd-849e-48a3-8a6d-82acd3d6cacd",
   "metadata": {},
   "outputs": [],
   "source": [
    "def simple_adding_function(a, b):\n",
    "    return a + b"
   ]
  },
  {
   "cell_type": "code",
   "execution_count": 14,
   "id": "839544cf-b319-4ce7-9231-7ae4640c3b5a",
   "metadata": {},
   "outputs": [],
   "source": [
    "def is_prime(x):\n",
    "    for i in range(2, x // 2):\n",
    "        if x % i == 0:\n",
    "            return False\n",
    "    return True"
   ]
  },
  {
   "cell_type": "code",
   "execution_count": 15,
   "id": "8419551e-9f16-4218-8989-cb84d125189f",
   "metadata": {},
   "outputs": [
    {
     "data": {
      "text/plain": [
       "False"
      ]
     },
     "execution_count": 15,
     "metadata": {},
     "output_type": "execute_result"
    }
   ],
   "source": [
    "is_prime(65594)"
   ]
  },
  {
   "cell_type": "code",
   "execution_count": 16,
   "id": "96e0296b-200b-4749-8ec3-3d747ee2adca",
   "metadata": {},
   "outputs": [
    {
     "data": {
      "text/plain": [
       "True"
      ]
     },
     "execution_count": 16,
     "metadata": {},
     "output_type": "execute_result"
    }
   ],
   "source": [
    "is_prime(11)"
   ]
  },
  {
   "cell_type": "code",
   "execution_count": null,
   "id": "5a34fb23-bc1d-4baa-930a-8cb3445d3262",
   "metadata": {},
   "outputs": [],
   "source": []
  }
 ],
 "metadata": {
  "kernelspec": {
   "display_name": "Python 3 (ipykernel)",
   "language": "python",
   "name": "python3"
  },
  "language_info": {
   "codemirror_mode": {
    "name": "ipython",
    "version": 3
   },
   "file_extension": ".py",
   "mimetype": "text/x-python",
   "name": "python",
   "nbconvert_exporter": "python",
   "pygments_lexer": "ipython3",
   "version": "3.8.11"
  }
 },
 "nbformat": 4,
 "nbformat_minor": 5
}
