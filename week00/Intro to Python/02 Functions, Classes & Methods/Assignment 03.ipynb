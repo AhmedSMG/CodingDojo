{
 "cells": [
  {
   "cell_type": "code",
   "execution_count": 1,
   "id": "aef79f92-b95a-44f7-b2a4-af7a8ed7c43f",
   "metadata": {},
   "outputs": [],
   "source": [
    "import random"
   ]
  },
  {
   "cell_type": "code",
   "execution_count": 14,
   "id": "4b9533b1-8931-455c-a07a-267fdbab5162",
   "metadata": {},
   "outputs": [],
   "source": [
    "class MyClass():\n",
    "    def __init__(self, n=10, a=-30, b=30):\n",
    "        self.x = [random.randint(a, b) for i in range(n)]\n",
    "    \n",
    "    \n",
    "    def return_max(self):\n",
    "        return max(self.x)\n",
    "    \n",
    "    def return_min(self):\n",
    "        return min(self.x)\n",
    "    \n",
    "\n",
    "    def return_max_squared(self):\n",
    "        return max(self.x) ** 2\n",
    "    \n",
    "    \n",
    "    def return_length(self):\n",
    "        return len(self.x)\n",
    "\n",
    "    def return_positive_sum(self):\n",
    "        return sum(filter(lambda i: i > 0, self.x))\n",
    "\n",
    "    def return_negative_count(self):\n",
    "        return sum(map(lambda i: 1 if i <= 0 else 0, self.x))\n",
    "    \n",
    "    \n",
    "    def add(self, a=1):\n",
    "        return [i + a for i in self.x]\n",
    "    \n",
    "    def subs(self, a=1):\n",
    "        return [i - a for i in self.x]"
   ]
  },
  {
   "cell_type": "code",
   "execution_count": 15,
   "id": "3523423c-b9b7-4479-a09c-62f25ae88394",
   "metadata": {},
   "outputs": [],
   "source": [
    "num = MyClass()"
   ]
  },
  {
   "cell_type": "code",
   "execution_count": 16,
   "id": "8b2294b2-f8fd-4ed9-a8ff-23545f5271a6",
   "metadata": {},
   "outputs": [
    {
     "data": {
      "text/plain": [
       "10"
      ]
     },
     "execution_count": 16,
     "metadata": {},
     "output_type": "execute_result"
    }
   ],
   "source": [
    "num.return_length()"
   ]
  },
  {
   "cell_type": "code",
   "execution_count": 17,
   "id": "d6fafa9e-e99d-4a1d-ae52-ec53f99eec0a",
   "metadata": {},
   "outputs": [
    {
     "data": {
      "text/plain": [
       "(27, -19)"
      ]
     },
     "execution_count": 17,
     "metadata": {},
     "output_type": "execute_result"
    }
   ],
   "source": [
    "num.return_max(), num.return_min()"
   ]
  },
  {
   "cell_type": "code",
   "execution_count": 18,
   "id": "690d7bbe-05b7-4855-8cd9-98287a4a7a8e",
   "metadata": {},
   "outputs": [
    {
     "data": {
      "text/plain": [
       "729"
      ]
     },
     "execution_count": 18,
     "metadata": {},
     "output_type": "execute_result"
    }
   ],
   "source": [
    "num.return_max_squared()"
   ]
  },
  {
   "cell_type": "code",
   "execution_count": 19,
   "id": "d668f05d-a7f0-4d70-9ef5-b7f2d25b3591",
   "metadata": {},
   "outputs": [
    {
     "data": {
      "text/plain": [
       "(98, 3)"
      ]
     },
     "execution_count": 19,
     "metadata": {},
     "output_type": "execute_result"
    }
   ],
   "source": [
    "num.return_positive_sum(), num.return_negative_count()"
   ]
  },
  {
   "cell_type": "code",
   "execution_count": 22,
   "id": "8f8f3ba0-7bdf-4727-b546-bd6b79a32754",
   "metadata": {},
   "outputs": [
    {
     "data": {
      "text/plain": [
       "[-8, 28, 14, -18, 28, 4, 4, 23, -10, 4]"
      ]
     },
     "execution_count": 22,
     "metadata": {},
     "output_type": "execute_result"
    }
   ],
   "source": [
    "num.add()"
   ]
  },
  {
   "cell_type": "code",
   "execution_count": 23,
   "id": "6aaf2fb1-215a-4b9c-a258-eec495f8d175",
   "metadata": {},
   "outputs": [
    {
     "data": {
      "text/plain": [
       "[-10, 26, 12, -20, 26, 2, 2, 21, -12, 2]"
      ]
     },
     "execution_count": 23,
     "metadata": {},
     "output_type": "execute_result"
    }
   ],
   "source": [
    "num.subs()"
   ]
  },
  {
   "cell_type": "code",
   "execution_count": null,
   "id": "6c3554d9-92cd-4b8c-886b-30f2720f28f9",
   "metadata": {},
   "outputs": [],
   "source": []
  }
 ],
 "metadata": {
  "kernelspec": {
   "display_name": "Python 3 (ipykernel)",
   "language": "python",
   "name": "python3"
  },
  "language_info": {
   "codemirror_mode": {
    "name": "ipython",
    "version": 3
   },
   "file_extension": ".py",
   "mimetype": "text/x-python",
   "name": "python",
   "nbconvert_exporter": "python",
   "pygments_lexer": "ipython3",
   "version": "3.8.11"
  }
 },
 "nbformat": 4,
 "nbformat_minor": 5
}
