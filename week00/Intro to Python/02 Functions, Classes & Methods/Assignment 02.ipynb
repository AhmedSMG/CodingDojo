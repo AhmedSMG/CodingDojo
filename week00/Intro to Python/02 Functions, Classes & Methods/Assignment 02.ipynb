{
 "cells": [
  {
   "cell_type": "code",
   "execution_count": 2,
   "id": "4441dec7-89d4-4fcc-bfff-d4cf0d66189a",
   "metadata": {},
   "outputs": [],
   "source": [
    "# Q1\n",
    "x = [ [5,2,3], [10,8,9] ] \n",
    "students = [\n",
    "     {'first_name':  'Michael', 'last_name' : 'Jordan'},\n",
    "     {'first_name' : 'John', 'last_name' : 'Rosales'}\n",
    "]\n",
    "sports_directory = {\n",
    "    'basketball' : ['Kobe', 'Jordan', 'James', 'Curry'],\n",
    "    'soccer' : ['Messi', 'Ronaldo', 'Rooney']\n",
    "}\n",
    "z = [ {'x': 10, 'y': 20} ]"
   ]
  },
  {
   "cell_type": "code",
   "execution_count": 6,
   "id": "a7f31824-2b64-4172-b711-4d60defadd2b",
   "metadata": {},
   "outputs": [
    {
     "data": {
      "text/plain": [
       "[[5, 2, 3], [15, 8, 9]]"
      ]
     },
     "execution_count": 6,
     "metadata": {},
     "output_type": "execute_result"
    }
   ],
   "source": [
    "# 1.  Change the value 10 in x to 15. Once you're done, x should now be [ [5,2,3], [15,8,9] ].\n",
    "x[1][0] = 15\n",
    "x"
   ]
  },
  {
   "cell_type": "code",
   "execution_count": 8,
   "id": "1897d34b-00fb-46dc-8501-51bb057e4071",
   "metadata": {},
   "outputs": [
    {
     "data": {
      "text/plain": [
       "{'first_name': 'Michael', 'last_name': 'Bryant'}"
      ]
     },
     "execution_count": 8,
     "metadata": {},
     "output_type": "execute_result"
    }
   ],
   "source": [
    "# 2. Change the last_name of the first student from 'Jordan' to 'Bryant'\n",
    "students[0][\"last_name\"] = \"Bryant\"\n",
    "students[0]"
   ]
  },
  {
   "cell_type": "code",
   "execution_count": 9,
   "id": "cf31e914-db34-4a23-b13c-1e211f0810cc",
   "metadata": {},
   "outputs": [
    {
     "data": {
      "text/plain": [
       "['Andres', 'Ronaldo', 'Rooney']"
      ]
     },
     "execution_count": 9,
     "metadata": {},
     "output_type": "execute_result"
    }
   ],
   "source": [
    "# 3. In the sports_directory, change 'Messi' to 'Andres'\n",
    "sports_directory[\"soccer\"][0] = \"Andres\"\n",
    "sports_directory[\"soccer\"]"
   ]
  },
  {
   "cell_type": "code",
   "execution_count": 10,
   "id": "df8a8a5d-f1e8-40f9-bf41-29c81d1344b1",
   "metadata": {},
   "outputs": [
    {
     "data": {
      "text/plain": [
       "[{'x': 10, 'y': 30}]"
      ]
     },
     "execution_count": 10,
     "metadata": {},
     "output_type": "execute_result"
    }
   ],
   "source": [
    "# 4. Change the value 20 in z to 30\n",
    "z[0][\"y\"] = 30\n",
    "z"
   ]
  },
  {
   "cell_type": "code",
   "execution_count": 12,
   "id": "252d7a27-9dc8-4907-b5ab-5e401f0b56d2",
   "metadata": {},
   "outputs": [],
   "source": [
    "# Q2\n",
    "students = [\n",
    "         {'first_name':  'Michael', 'last_name' : 'Jordan'},\n",
    "         {'first_name' : 'John', 'last_name' : 'Rosales'},\n",
    "         {'first_name' : 'Mark', 'last_name' : 'Guillen'},\n",
    "         {'first_name' : 'KB', 'last_name' : 'Tonel'}\n",
    "    ]\n",
    "# iterateDictionary(students) \n",
    "# should output: (it's okay if each key-value pair ends up on 2 separate lines;\n",
    "# bonus to get them to appear exactly as below!)\n",
    "# first_name - Michael, last_name - Jordan\n",
    "# first_name - John, last_name - Rosales\n",
    "# first_name - Mark, last_name - Guillen\n",
    "# first_name - KB, last_name - Tonel"
   ]
  },
  {
   "cell_type": "code",
   "execution_count": 23,
   "id": "a48f7157-a361-4e51-9d6d-549c549b45af",
   "metadata": {},
   "outputs": [],
   "source": [
    "# 1. Create a function iterateDictionary(some_list)\n",
    "# that, given a list of dictionaries, the function loops\n",
    "# through each dictionary in the list and prints each key and the associated value\n",
    "\n",
    "def iterateDictionary(x):\n",
    "    for item in x:\n",
    "        for k, v in item.items():\n",
    "            print(k, \"-\",  v, end=\", \")\n",
    "        print()"
   ]
  },
  {
   "cell_type": "code",
   "execution_count": 24,
   "id": "62b32f45-c5c0-449f-ba0d-192d0952ef38",
   "metadata": {},
   "outputs": [
    {
     "name": "stdout",
     "output_type": "stream",
     "text": [
      "first_name - Michael, last_name - Jordan, \n",
      "first_name - John, last_name - Rosales, \n",
      "first_name - Mark, last_name - Guillen, \n",
      "first_name - KB, last_name - Tonel, \n"
     ]
    }
   ],
   "source": [
    "iterateDictionary(students) "
   ]
  },
  {
   "cell_type": "code",
   "execution_count": 25,
   "id": "e5983a95-170c-4007-b947-6e34dbe390d1",
   "metadata": {},
   "outputs": [],
   "source": [
    "# Q3\n",
    "# Create a function iterateDictionary2(key_name, some_list)\n",
    "# that, given a list of dictionaries and a key name,\n",
    "#the function prints the value stored in that key for each dictionary.\n",
    "#For example, iterateDictionary2('first_name', students) should output:\n",
    "# Michael\n",
    "# John\n",
    "# Mark\n",
    "# KB\n",
    "def iterateDictionary2(key_name, x):\n",
    "    for item in x:\n",
    "        print(item[key_name])"
   ]
  },
  {
   "cell_type": "code",
   "execution_count": 26,
   "id": "8bec1da3-3f94-4563-a0ab-59fa758805f0",
   "metadata": {},
   "outputs": [
    {
     "name": "stdout",
     "output_type": "stream",
     "text": [
      "Michael\n",
      "John\n",
      "Mark\n",
      "KB\n"
     ]
    }
   ],
   "source": [
    "iterateDictionary2('first_name', students)"
   ]
  },
  {
   "cell_type": "code",
   "execution_count": 27,
   "id": "ce854147-8aa2-4207-bce3-a8c6f46de402",
   "metadata": {},
   "outputs": [
    {
     "name": "stdout",
     "output_type": "stream",
     "text": [
      "Jordan\n",
      "Rosales\n",
      "Guillen\n",
      "Tonel\n"
     ]
    }
   ],
   "source": [
    "iterateDictionary2('last_name', students)"
   ]
  },
  {
   "cell_type": "code",
   "execution_count": 46,
   "id": "7bcfd569-fc3d-4ba6-a4d8-7077607b1869",
   "metadata": {},
   "outputs": [],
   "source": [
    "# Q4\n",
    "# Create a function printInfo(some_dict) that given a dictionary\n",
    "# whose values are all lists, prints the name of each key along with\n",
    "#the size of its list, and then prints the associated values within each key's list.\n",
    "dojo = {\n",
    "   'locations': ['San Jose', 'Seattle', 'Dallas', 'Chicago', 'Tulsa', 'DC', 'Burbank'],\n",
    "   'instructors': ['Michael', 'Amy', 'Eduardo', 'Josh', 'Graham', 'Patrick', 'Minh', 'Devon']\n",
    "}\n",
    "# printInfo(dojo)\n",
    "# output:\n",
    "# 7 LOCATIONS\n",
    "# San Jose\n",
    "# Seattle\n",
    "# Dallas\n",
    "# Chicago\n",
    "# Tulsa\n",
    "# DC\n",
    "# Burbank\n",
    "    \n",
    "# 8 INSTRUCTORS\n",
    "# Michael\n",
    "# Amy\n",
    "# Eduardo\n",
    "# Josh\n",
    "# Graham\n",
    "# Patrick\n",
    "# Minh"
   ]
  },
  {
   "cell_type": "code",
   "execution_count": 53,
   "id": "7e0d8e1e-af45-4625-b99e-c12df702fc92",
   "metadata": {},
   "outputs": [],
   "source": [
    "def printInfo(x):\n",
    "    for k, v in x.items():\n",
    "        print(f\"{len(v)} {k.upper()}\")\n",
    "        for i in v:\n",
    "            print(i)\n",
    "        print()"
   ]
  },
  {
   "cell_type": "code",
   "execution_count": 54,
   "id": "3c273bd6-0856-4d12-a2cb-a17594a8554f",
   "metadata": {},
   "outputs": [
    {
     "name": "stdout",
     "output_type": "stream",
     "text": [
      "7 LOCATIONS\n",
      "San Jose\n",
      "Seattle\n",
      "Dallas\n",
      "Chicago\n",
      "Tulsa\n",
      "DC\n",
      "Burbank\n",
      "\n",
      "8 INSTRUCTORS\n",
      "Michael\n",
      "Amy\n",
      "Eduardo\n",
      "Josh\n",
      "Graham\n",
      "Patrick\n",
      "Minh\n",
      "Devon\n",
      "\n"
     ]
    }
   ],
   "source": [
    "printInfo(dojo)"
   ]
  },
  {
   "cell_type": "code",
   "execution_count": null,
   "id": "f5dc61ef-27b7-4df9-8a16-f654fee9b013",
   "metadata": {},
   "outputs": [],
   "source": []
  }
 ],
 "metadata": {
  "kernelspec": {
   "display_name": "Python 3 (ipykernel)",
   "language": "python",
   "name": "python3"
  },
  "language_info": {
   "codemirror_mode": {
    "name": "ipython",
    "version": 3
   },
   "file_extension": ".py",
   "mimetype": "text/x-python",
   "name": "python",
   "nbconvert_exporter": "python",
   "pygments_lexer": "ipython3",
   "version": "3.8.11"
  }
 },
 "nbformat": 4,
 "nbformat_minor": 5
}
