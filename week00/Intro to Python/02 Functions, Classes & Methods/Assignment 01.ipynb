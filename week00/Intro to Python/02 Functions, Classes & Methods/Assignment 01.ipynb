{
 "cells": [
  {
   "cell_type": "code",
   "execution_count": 1,
   "id": "13ded64e-efbe-4258-a97d-6f21e8e4a948",
   "metadata": {},
   "outputs": [],
   "source": [
    "# Q1 ->  Create a function that accepts a number as an input.\n",
    "#Return a new list that counts down by one, from the number (as the 0th element)\n",
    "# down to 0 (as the last element).\n",
    "# Example: countdown(5) should return the list: [5,4,3,2,1,0]\n",
    "def countdown(n):\n",
    "    return list(range(n, 0 - 1, -1))"
   ]
  },
  {
   "cell_type": "code",
   "execution_count": 2,
   "id": "60f4fb93-b1af-4b7e-a150-59158f8c275c",
   "metadata": {},
   "outputs": [
    {
     "data": {
      "text/plain": [
       "[5, 4, 3, 2, 1, 0]"
      ]
     },
     "execution_count": 2,
     "metadata": {},
     "output_type": "execute_result"
    }
   ],
   "source": [
    "countdown(5)"
   ]
  },
  {
   "cell_type": "code",
   "execution_count": 3,
   "id": "a01e2c67-b203-453c-a48e-dd93530c5deb",
   "metadata": {},
   "outputs": [],
   "source": [
    "# Q2 -> Create a function that will receive a list with two numbers.\n",
    "# Print the first value and return the second.\n",
    "# Example: print_and_return([1,2]) should print 1 and return 2\n",
    "def print_and_return(x):\n",
    "    print(x[0])\n",
    "    return x[1]"
   ]
  },
  {
   "cell_type": "code",
   "execution_count": 4,
   "id": "d91edbfa-7162-4ca5-b56a-54947fcf0af1",
   "metadata": {},
   "outputs": [
    {
     "name": "stdout",
     "output_type": "stream",
     "text": [
      "1\n"
     ]
    },
    {
     "data": {
      "text/plain": [
       "2"
      ]
     },
     "execution_count": 4,
     "metadata": {},
     "output_type": "execute_result"
    }
   ],
   "source": [
    "print_and_return([1, 2])"
   ]
  },
  {
   "cell_type": "code",
   "execution_count": 5,
   "id": "fe713a59-c6ed-46ff-b5f7-098fc14bb582",
   "metadata": {},
   "outputs": [],
   "source": [
    "# Q3 -> Create a function that accepts a list and\n",
    "# returns the sum of the first value in the list plus the list's length.\n",
    "# Example: first_plus_length([1,2,3,4,5]) should return 6 (first value: 1 + length: 5)\n",
    "def first_plus_length(x):\n",
    "    return x[0] + len(x)"
   ]
  },
  {
   "cell_type": "code",
   "execution_count": 6,
   "id": "acee1236-41a9-404d-8870-adc5688b6200",
   "metadata": {},
   "outputs": [
    {
     "data": {
      "text/plain": [
       "6"
      ]
     },
     "execution_count": 6,
     "metadata": {},
     "output_type": "execute_result"
    }
   ],
   "source": [
    "first_plus_length([1,2,3,4,5])"
   ]
  },
  {
   "cell_type": "code",
   "execution_count": 7,
   "id": "e79d6e88-799e-4230-af8f-04ad394ed9c1",
   "metadata": {},
   "outputs": [],
   "source": [
    "# Q4 -> Write a function that accepts two integers as parameters:\n",
    "# size and value. The function should create and\n",
    "# return a list whose length is equal to the given size,\n",
    "# and whose values are all the given value.\n",
    "\n",
    "# Example: length_and_value(4,7) should return [7,7,7,7]\n",
    "# Example: length_and_value(6,2) should return [2,2,2,2,2,2]\n",
    "\n",
    "def length_and_value(x, y):\n",
    "    return [x] * y"
   ]
  },
  {
   "cell_type": "code",
   "execution_count": 8,
   "id": "946ae9bf-cf62-4c5d-9438-83cc8419fc37",
   "metadata": {},
   "outputs": [
    {
     "data": {
      "text/plain": [
       "[4, 4, 4, 4, 4, 4, 4]"
      ]
     },
     "execution_count": 8,
     "metadata": {},
     "output_type": "execute_result"
    }
   ],
   "source": [
    "length_and_value(4,7)"
   ]
  },
  {
   "cell_type": "code",
   "execution_count": 9,
   "id": "5649e74b-b997-497f-996c-26893874df9a",
   "metadata": {},
   "outputs": [
    {
     "data": {
      "text/plain": [
       "[6, 6]"
      ]
     },
     "execution_count": 9,
     "metadata": {},
     "output_type": "execute_result"
    }
   ],
   "source": [
    "length_and_value(6,2)"
   ]
  },
  {
   "cell_type": "code",
   "execution_count": 12,
   "id": "73f154c4-0b13-4a68-bd50-b5253fc495e5",
   "metadata": {},
   "outputs": [],
   "source": [
    "# Q5 -> Write a function that accepts a list and creates a new list\n",
    "# containing only the values from the original list\n",
    "# that are greater than its 2nd value.\n",
    "# Print how many values this is and then return the new list.\n",
    "# If the list has less than 2 elements, have the function return False.\n",
    "# Example: values_greater_than_second([5,2,3,2,1,4]) should print 3 and return [5,3,4]\n",
    "# Example: values_greater_than_second([3]) should return False\n",
    "def values_greater_than_second(x):\n",
    "    if len(x) <= 2:\n",
    "        return False\n",
    "    out = list(filter(lambda i: i > x[1], x))\n",
    "    print(len(out))\n",
    "    return out"
   ]
  },
  {
   "cell_type": "code",
   "execution_count": 13,
   "id": "9df598e6-bafc-447d-8606-b059f3c922d6",
   "metadata": {},
   "outputs": [
    {
     "name": "stdout",
     "output_type": "stream",
     "text": [
      "3\n"
     ]
    },
    {
     "data": {
      "text/plain": [
       "[5, 3, 4]"
      ]
     },
     "execution_count": 13,
     "metadata": {},
     "output_type": "execute_result"
    }
   ],
   "source": [
    "values_greater_than_second([5,2,3,2,1,4])"
   ]
  },
  {
   "cell_type": "code",
   "execution_count": 14,
   "id": "16b831e1-1c88-4196-8e9c-688e1e710d45",
   "metadata": {},
   "outputs": [
    {
     "data": {
      "text/plain": [
       "False"
      ]
     },
     "execution_count": 14,
     "metadata": {},
     "output_type": "execute_result"
    }
   ],
   "source": [
    "values_greater_than_second([3])"
   ]
  },
  {
   "cell_type": "code",
   "execution_count": null,
   "id": "e5c04031-5b12-4bde-afeb-acf6f2a3b325",
   "metadata": {},
   "outputs": [],
   "source": []
  }
 ],
 "metadata": {
  "kernelspec": {
   "display_name": "Python 3 (ipykernel)",
   "language": "python",
   "name": "python3"
  },
  "language_info": {
   "codemirror_mode": {
    "name": "ipython",
    "version": 3
   },
   "file_extension": ".py",
   "mimetype": "text/x-python",
   "name": "python",
   "nbconvert_exporter": "python",
   "pygments_lexer": "ipython3",
   "version": "3.8.11"
  }
 },
 "nbformat": 4,
 "nbformat_minor": 5
}
