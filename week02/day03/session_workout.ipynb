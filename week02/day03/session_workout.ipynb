{
 "cells": [
  {
   "cell_type": "code",
   "execution_count": 1,
   "id": "9dc426cb-8b89-40bb-a3ec-f05cb7d443ee",
   "metadata": {},
   "outputs": [],
   "source": [
    "# Dictionary"
   ]
  },
  {
   "cell_type": "code",
   "execution_count": null,
   "id": "cc8229a1-9fcf-4c36-abf1-87481ddc154e",
   "metadata": {},
   "outputs": [],
   "source": [
    "class_dictionary =  {\n",
    "\"Lama's Key\": 23,\n",
    " \"Abdullah's Key\": 12,\n",
    " \"Jon's Key\":32, \n",
    " \"Yasmeen’s key\":34,\n",
    " \"Asmaa's Key\" : 27,\n",
    " \"Hessah's key\":0,\n",
    " \"Ayat\":4,\n",
    " \"Thuraya's key\":24,\n",
    " \"Rawan's Key\" : 95,\n",
    " \"Turki's Key\": 66,\n",
    "\"Ahmed's Key\": 25\n",
    "}"
   ]
  }
 ],
 "metadata": {
  "kernelspec": {
   "display_name": "Python 3 (ipykernel)",
   "language": "python",
   "name": "python3"
  },
  "language_info": {
   "codemirror_mode": {
    "name": "ipython",
    "version": 3
   },
   "file_extension": ".py",
   "mimetype": "text/x-python",
   "name": "python",
   "nbconvert_exporter": "python",
   "pygments_lexer": "ipython3",
   "version": "3.8.11"
  }
 },
 "nbformat": 4,
 "nbformat_minor": 5
}
