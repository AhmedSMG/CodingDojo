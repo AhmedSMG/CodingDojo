{
  "cells": [
    {
      "cell_type": "code",
      "execution_count": null,
      "metadata": {
        "id": "aBoZmkzU_Jo8"
      },
      "outputs": [],
      "source": [
        "!pip install -qU plotly\n",
        "!pip install -q yfinance\n",
        "!pip install -q riskfolio-lib"
      ]
    },
    {
      "cell_type": "markdown",
      "metadata": {
        "id": "JaSpTh8J4uyK"
      },
      "source": [
        "# Importing Libraries"
      ]
    },
    {
      "cell_type": "code",
      "execution_count": null,
      "metadata": {
        "id": "3vYIUyfs_hoo"
      },
      "outputs": [],
      "source": [
        "import numpy as np\n",
        "import pandas as pd\n",
        "import yfinance as yf\n",
        "\n",
        "from tqdm import tqdm\n",
        "from scipy.optimize import minimize\n",
        "import cvxpy as cp\n",
        "\n",
        "import plotly.express as px\n",
        "import plotly.graph_objects as go\n",
        "from plotly.subplots import make_subplots\n",
        "\n",
        "import matplotlib.pyplot as plt\n",
        "import seaborn as sns"
      ]
    },
    {
      "cell_type": "markdown",
      "metadata": {
        "id": "MzSMxUsY48sH"
      },
      "source": [
        "# Loading Data"
      ]
    },
    {
      "cell_type": "code",
      "execution_count": null,
      "metadata": {
        "id": "DUeTrLeC7WjO"
      },
      "outputs": [],
      "source": [
        "security = pd.read_csv(\"./dataset/security_info_clean.csv\", index_col=[0])\n",
        "security"
      ]
    },
    {
      "cell_type": "code",
      "execution_count": null,
      "metadata": {
        "id": "JNlePww8rScR"
      },
      "outputs": [],
      "source": [
        "df = pd.read_csv(\"./dataset/clean_historical_data.csv\", index_col=[\"Date\"])\n",
        "df"
      ]
    },
    {
      "cell_type": "code",
      "execution_count": null,
      "metadata": {
        "id": "xdk1ahVFHng5"
      },
      "outputs": [],
      "source": [
        "historical_data = df[\"2005\":\"2015\"].pct_change().fillna(0)\n",
        "live_data = df[\"2015\":].pct_change().fillna(0)\n",
        "rf = 0.025 / 252"
      ]
    },
    {
      "cell_type": "markdown",
      "metadata": {
        "id": "CWrtyxJxaS74"
      },
      "source": [
        "# Visualization"
      ]
    },
    {
      "cell_type": "code",
      "execution_count": null,
      "metadata": {
        "id": "w_ztawaTaSP_"
      },
      "outputs": [],
      "source": [
        "fig = px.pie(data_frame=security, names=\"Sector\")\n",
        "fig.show()"
      ]
    },
    {
      "cell_type": "code",
      "execution_count": null,
      "metadata": {
        "id": "WunKQymcaiFo"
      },
      "outputs": [],
      "source": [
        "stats = df[\"2005\":\"2015\"].pct_change().describe().T.drop(columns=[\"count\"]).reset_index()\n",
        "stats = stats.rename(columns={\"index\": \"Symbol\"})\n",
        "stats"
      ]
    },
    {
      "cell_type": "code",
      "execution_count": null,
      "metadata": {
        "id": "SjZfsAebaqbp"
      },
      "outputs": [],
      "source": [
        "fig = px.scatter(data_frame=stats,\n",
        "             y=stats[\"mean\"] * 252,\n",
        "             x=stats[\"std\"] * 252 ** 0.5,\n",
        "             color=security[\"Market Cap\"] / 100_000_000,\n",
        "             hover_name=\"Symbol\",\n",
        "             labels={\"x\": \"$\\sigma$\",\n",
        "                     \"y\": \"$E(R)$\",\n",
        "                     \"color\": \"Market Cap(M$)\"}\n",
        "        )\n",
        "fig.add_hline(y=rf * 252)\n",
        "fig.show()"
      ]
    },
    {
      "cell_type": "markdown",
      "metadata": {
        "id": "5al4Qtxt5CAQ"
      },
      "source": [
        "# Define Back Test Class"
      ]
    },
    {
      "cell_type": "code",
      "execution_count": null,
      "metadata": {
        "id": "BZu3st5q_iDc"
      },
      "outputs": [],
      "source": [
        "class BackTest():\n",
        "\n",
        "    def __init__ (self,\n",
        "                 name,\n",
        "                 historical_data,\n",
        "                 live_data,\n",
        "                 initialize,\n",
        "                 starting_capital=10_000,\n",
        "                 rf=0.025 / 252, **kwargs):\n",
        "        \n",
        "        self.name = name # Name of the Optimization methods\n",
        "        self.historical_data = historical_data # Used to find the intilial allocation\n",
        "        self.live_data = live_data # Used for backtesting\n",
        "        self.rf = rf # risk free return\n",
        "        self.starting_capital = starting_capital\n",
        "\n",
        "        self.daily_return = pd.Series(name=name, dtype=np.float, index=live_data.index) # for portfilio\n",
        "        self.allocation = initialize(historical_data, **kwargs)\n",
        "        self.adjust_allocation()\n",
        "\n",
        "    def run(self, rebalance, k=252, **kwargs):\n",
        "\n",
        "        # No rebalancing required\n",
        "        if k == 0:\n",
        "            start = self.live_data.index[0]\n",
        "            end = self.live_data.index[-1]\n",
        "\n",
        "            print(\"=\"*50)\n",
        "            print(f\"Period\")\n",
        "            print(f\"{start} - {end}\")\n",
        "            self.daily_return = (self.live_data * self.allocation.values).sum(axis=1)\n",
        "            return\n",
        "\n",
        "        for n, chunk in (self.live_data).groupby(np.arange(len(self.live_data)) // k):\n",
        "\n",
        "            start = chunk.index[0]\n",
        "            end = chunk.index[-1]\n",
        "\n",
        "            print(\"=\"*50)\n",
        "            print(f\"Period #: {n + 1}\")\n",
        "            print(f\"{start} - {end}\")\n",
        "\n",
        "            self.show_top_allocation()\n",
        "\n",
        "            self.daily_return[start:end] = (chunk * self.allocation.values).sum(axis=1)\n",
        "\n",
        "            self.evalute_preformace(self.daily_return[:end])\n",
        "\n",
        "            self.allocation = rebalance(self.live_data[:end], **kwargs)# update allocation\n",
        "            self.adjust_allocation()\n",
        "\n",
        "\n",
        "    def adjust_allocation(self, n=5):\n",
        "        print(\"-\"*50)\n",
        "        print(\"Allocation Adjustment & Test\")\n",
        "        self.allocation = self.allocation.round(n)\n",
        "        residual = 1.00 - self.allocation.sum()\n",
        "\n",
        "        if not np.allclose(residual, 0.00):\n",
        "            print(f\"Weight adjusted with risdual = {residual:0.5f}\")\n",
        "            self.allocation[self.allocation != 0] += residual / len(self.allocation[self.allocation != 0])\n",
        "        print(f\"sum(w) = 1: {np.allclose(self.allocation.sum(), 1.00)}\")\n",
        "        print(f\"w >= 0: {(self.allocation >= 0).all()}\")\n",
        "        print(\"-\"*50)\n",
        "        \n",
        "\n",
        "    def show_top_allocation(self, n=5):\n",
        "        print(\"-\"*50)\n",
        "        print(\"Top allocations are:\")\n",
        "        for ticker, weight in self.allocation.sort_values(ascending=False).head(n).items():\n",
        "            print(f\"{ticker:<6}: {weight * 100:0.3f}%\")\n",
        "        print(\"-\"*50)\n",
        "\n",
        "\n",
        "    def evalute_preformace(self, x, return_metric=False):\n",
        "\n",
        "        metrics = {\n",
        "            \"Absolute Return\": x.add(1).prod() - 1,\n",
        "            \"CAGR\": x.add(1).prod() ** (252/len(x)) - 1,\n",
        "            \"IR\": x.mean() / x.std() * 252 ** 0.5,\n",
        "            \"Volatility\":  x.std() * 252 ** 0.5,\n",
        "            \"Max Drawdown\": ((x.add(1).cumprod().cummax() - x.add(1).cumprod()) / x.add(1).cumprod().cummax()).max(),\n",
        "            \"Sharpe Ratio\": (x.mean() - self.rf) / x.std() * 252 ** 0.5,\n",
        "            \"Sortino Ratio\": (x.mean() - self.rf) / x.apply(lambda v: v if v < self.rf else 0).std() * 252 ** 0.5,\n",
        "        }\n",
        "        if return_metric:\n",
        "            return metrics\n",
        "        print(\"-\"*50)\n",
        "        print(\"Metrics: \")\n",
        "        for k, v in metrics.items():\n",
        "            if k in [\"IR\", \"Sharpe Ratio\", \"Sortino Ratio\"]:\n",
        "                print(f\"{k:<15}: {v:0.2f}\")\n",
        "            else:\n",
        "                print(f\"{k:<15}: {v * 100:0.2f}%\")\n",
        "        print(\"-\"*50)\n",
        "\n",
        "\n",
        "    def plot_equity_curve(self):\n",
        "        fig = go.Figure()\n",
        "        fig.add_trace(go.Scatter(x=self.daily_return.index,\n",
        "                                 y=self.daily_return.add(1).cumprod() * self.starting_capital,\n",
        "                                 name=f\"Equity Curve: {self.name}\",\n",
        "                                 ))\n",
        "\n",
        "        metrics = self.evalute_preformace(self.daily_return, return_metric=True)\n",
        "\n",
        "        fig.add_hline(y=self.starting_capital)\n",
        "        fig.update_layout(dict(xaxis={\"title\": \"Time\",\n",
        "                                      \"rangeslider_visible\": True,\n",
        "                                      \"rangeselector\": {\"buttons\": [\n",
        "                                                                    dict(count=1, label=\"1m\", step=\"month\", stepmode=\"backward\"),\n",
        "                                                                    dict(count=6, label=\"6m\", step=\"month\", stepmode=\"backward\"),\n",
        "                                                                    dict(count=1, label=\"YTD\", step=\"year\", stepmode=\"todate\"),\n",
        "                                                                    dict(count=1, label=\"1y\", step=\"year\", stepmode=\"backward\"),\n",
        "                                                                    dict(step=\"all\")\n",
        "                                                                    ]\n",
        "                                                           },\n",
        "                                        },\n",
        "                                yaxis={\"title\": \"$\"},\n",
        "                                title={\"text\": f\"Equity Curve of <i>{self.name}</i> Portfilio<br>\" +\n",
        "                                               f\"Absolute Return: {metrics['Absolute Return']*100:0.2f}%<br>\" +\n",
        "                                               f\"CAGR: {metrics['CAGR']*100:0.2f}%\",\n",
        "                                        \"y\": 0.95},\n",
        "                                legend={\"orientation\": \"h\",\n",
        "                                        \"yanchor\": \"bottom\",\n",
        "                                        \"y\": 1.02,\n",
        "                                        \"xanchor\": \"right\",\n",
        "                                        \"x\": 1},\n",
        "                                showlegend=False\n",
        "                            ))\n",
        "        fig.show()\n",
        "    \n",
        "\n",
        "    def plot_performance(self,):\n",
        "        cumreturn = self.daily_return.add(1).cumprod()\n",
        "        sr = lambda x: (x.mean() - self.rf) / x.std() * 252 ** 0.5\n",
        "\n",
        "        metrics = self.evalute_preformace(self.daily_return, return_metric=True)\n",
        "        performance = pd.DataFrame(data={\"Cumulative Return\": cumreturn,\n",
        "                                         \"Sharpe Ratio\": self.daily_return.rolling(window=125).apply(sr),\n",
        "                                         \"Drawdown\": -(cumreturn.cummax() - cumreturn) / cumreturn.cummax()})\n",
        "        \n",
        "        # Cumulative Return\n",
        "        fig = px.line(data_frame=performance,\n",
        "                      y=\"Cumulative Return\",\n",
        "                      title=f\"Cumulative Return: {self.name}<br>\" +\n",
        "                            f\"Absolute Return: {metrics['Absolute Return']*100:0.2f}%<br>\" +\n",
        "                            f\"CAGR: {metrics['CAGR']*100:0.2f}%<br>\",\n",
        "                      )\n",
        "        fig.add_hline(y=1.00)\n",
        "        fig.update_traces(line_color=\"green\")\n",
        "        fig.show()\n",
        "\n",
        "        # Drawdown\n",
        "        fig = px.area(data_frame=performance,\n",
        "                      y=\"Drawdown\",\n",
        "                      title=f\"Drawdown: {self.name}<br>\" +\n",
        "                            f\"Maxdrawn: {metrics['Max Drawdown']*100:0.2f}%\",\n",
        "                      )\n",
        "        fig.update_traces(line_color=\"red\")\n",
        "        fig.show()\n",
        "\n",
        "\n",
        "        # Rolling Sharpe Ratio Over 6-Month\n",
        "        fig = px.line(data_frame=performance.dropna(),\n",
        "                      y=\"Sharpe Ratio\",\n",
        "                      title=f\"Rolling Sharpe Ratio: {self.name}<br>\" +\n",
        "                            f\"Average Sharpe Ratio: {performance['Sharpe Ratio'].mean():0.2f}\",\n",
        "                      )\n",
        "        fig.add_hline(y=performance[\"Sharpe Ratio\"].mean(), line_width=3, line_dash=\"dash\")\n",
        "        fig.update_traces(line_color=\"red\")\n",
        "        fig.show() "
      ]
    },
    {
      "cell_type": "markdown",
      "metadata": {
        "id": "A-lXPqhO5LmD"
      },
      "source": [
        "# Equal Weighted Portfolio\n",
        "\n",
        "$ w = \\frac{1}{N}$ "
      ]
    },
    {
      "cell_type": "code",
      "execution_count": null,
      "metadata": {
        "id": "SaOEeCJcq9UP"
      },
      "outputs": [],
      "source": [
        "def f(data):\n",
        "    num_asset = len(data.columns)\n",
        "    tickers = data.columns\n",
        "    return pd.Series(data=1/num_asset,\n",
        "                     index=tickers,\n",
        "                     name=\"Equal Weight\")\n",
        "    \n",
        "equal_weight = BackTest(name=\"Equal Weight\",\n",
        "                        historical_data=historical_data,\n",
        "                        live_data=live_data,\n",
        "                        initialize=f)\n",
        "equal_weight.run(rebalance=f, k=0)\n",
        "equal_weight.plot_performance()\n",
        "#equal_weight.plot_equity_curve()"
      ]
    },
    {
      "cell_type": "markdown",
      "metadata": {
        "id": "bxVr1vSU6OxT"
      },
      "source": [
        "# Top 5 of Each Sector\n",
        "$w_i = \\frac{1}{K}, \\ ∀_i \\in T$"
      ]
    },
    {
      "cell_type": "code",
      "execution_count": null,
      "metadata": {
        "id": "qyxV-4sltZ_O"
      },
      "outputs": [],
      "source": [
        "def f(data):\n",
        "    top_5 = security.groupby(\"Sector\").apply(lambda x: x.sort_values(\"Market Cap\").tail(5))[\"Symbol\"].values\n",
        "    alloc = pd.Series(data=0, index=df.columns)\n",
        "    alloc[top_5] = 1 / len(top_5)\n",
        "    return alloc "
      ]
    },
    {
      "cell_type": "code",
      "execution_count": null,
      "metadata": {
        "id": "r3LxAYIo676A"
      },
      "outputs": [],
      "source": [
        "top_5 = BackTest(name=\"Top 5 Of Each Sector\",\n",
        "                        historical_data=historical_data,\n",
        "                        live_data=live_data,\n",
        "                        initialize=f)\n",
        "top_5.run(rebalance=f, k=0)\n",
        "top_5.plot_performance()\n",
        "#top_5.plot_equity_curve()"
      ]
    },
    {
      "cell_type": "markdown",
      "metadata": {
        "id": "vb8Pb6P17_BR"
      },
      "source": [
        "# Maximize Return\n",
        "\n",
        "$ \\max\\limits_w \\mu^Tw$\n",
        "\n",
        "$st: \\\\ \\sum\\limits_i w_i = 1 \\\\ w_i \\ge 0 $\n",
        " "
      ]
    },
    {
      "cell_type": "code",
      "execution_count": null,
      "metadata": {
        "id": "RFq9k0MX7TPz"
      },
      "outputs": [],
      "source": [
        "def f(data):\n",
        "    num_asset = len(data.columns)\n",
        "    mu = data.mean().values.reshape((num_asset, 1))\n",
        "    w = cp.Variable(num_asset, nonneg=True) #\n",
        "\n",
        "    prob = cp.Problem(cp.Maximize(mu.T@w), \n",
        "               [cp.sum(w) == 1, \n",
        "                w <= 0.10\n",
        "                ])\n",
        "    prob.solve(solver=cp.SCS, verbose=True)\n",
        "    return pd.Series(w.value, index=data.columns, name=\"Alloc Max Return\")"
      ]
    },
    {
      "cell_type": "code",
      "execution_count": null,
      "metadata": {
        "id": "TFBhLmvP-cPe"
      },
      "outputs": [],
      "source": [
        "max_return = BackTest(name=\"Max Return\",\n",
        "                        historical_data=historical_data,\n",
        "                        live_data=live_data,\n",
        "                        initialize=f)\n",
        "max_return.run(rebalance=f)\n",
        "max_return.plot_performance()\n",
        "#max_return.plot_equity_curve()"
      ]
    },
    {
      "cell_type": "markdown",
      "metadata": {
        "id": "8nI6iO1eAhbp"
      },
      "source": [
        "# Minimize Volatility\n",
        "\n",
        "$ \\min\\limits_w w^TΣw$\n",
        "\n",
        "$ \\sum\\limits_i w_i = 1\\ \\\\ w_i ≥ 0$ "
      ]
    },
    {
      "cell_type": "code",
      "execution_count": null,
      "metadata": {
        "id": "sTIiYwfi_I7s"
      },
      "outputs": [],
      "source": [
        "def f(data):\n",
        "    num_asset = len(data.columns)\n",
        "    cov = data.cov().values\n",
        "    w = cp.Variable(num_asset, nonneg=True) #\n",
        "\n",
        "    prob = cp.Problem(cp.Minimize(cp.quad_form(w, cov)), \n",
        "               [cp.sum(w) == 1, \n",
        "                w <= 0.3\n",
        "                ])\n",
        "    prob.solve(solver=cp.CVXOPT, verbose=True, kktsolver=\"robust\")\n",
        "    return pd.Series(w.value, index=data.columns, name=\"Alloc MIN STD\")"
      ]
    },
    {
      "cell_type": "code",
      "execution_count": null,
      "metadata": {
        "id": "z0argYTUBo7D"
      },
      "outputs": [],
      "source": [
        "min_std = BackTest(name=\"Min STD\",\n",
        "                        historical_data=historical_data,\n",
        "                        live_data=live_data,\n",
        "                        initialize=f)\n",
        "min_std.run(rebalance=f)\n",
        "min_std.plot_performance()\n",
        "#min_std.plot_equity_curve()"
      ]
    },
    {
      "cell_type": "markdown",
      "metadata": {
        "id": "7FOpqwc0DTOb"
      },
      "source": [
        "# Maxmize Sharpe Ratio\n",
        "\n",
        "$\\max\\limits_w \\ \\frac{\\mu^Tw- r_f}{\\sqrt{w^TΣw}}$\n",
        "\n",
        "$ \\sum\\limits_i w_i = 1\\ \\\\ w_i ≥ 0$\n"
      ]
    },
    {
      "cell_type": "code",
      "execution_count": null,
      "metadata": {
        "id": "OlYG809FB05R"
      },
      "outputs": [],
      "source": [
        "def f(data, **kwargs):\n",
        "    rf = kwargs.get(\"rf\", 0.03 / 252)\n",
        "    num_asset = len(data.columns)\n",
        "    mu = data.mean().values.reshape((num_asset, 1))\n",
        "    cov = data.cov().values\n",
        "    w = cp.Variable(num_asset, nonneg=True) #\n",
        "\n",
        "    prob = cp.Problem(cp.Maximize((mu.T@w - rf) - (cp.quad_form(w, cov))), \n",
        "               [cp.sum(w) == 1, \n",
        "                w <= 0.3\n",
        "                ])\n",
        "    prob.solve(solver=cp.CVXOPT, verbose=True)\n",
        "    return pd.Series(w.value, index=data.columns, name=\"Alloc MAX SR\")"
      ]
    },
    {
      "cell_type": "code",
      "execution_count": null,
      "metadata": {
        "id": "yW65D0bgEI7M"
      },
      "outputs": [],
      "source": [
        "max_sr = BackTest(name=\"MAX SR\",\n",
        "                        historical_data=historical_data,\n",
        "                        live_data=live_data,\n",
        "                        initialize=f, rf=0.025 / 252)\n",
        "max_sr.run(rebalance=f)\n",
        "max_sr.plot_performance()\n",
        "#max_sr.plot_equity_curve()"
      ]
    },
    {
      "cell_type": "markdown",
      "metadata": {
        "id": "GL8doqSAF3Qq"
      },
      "source": [
        "# General Vanilla Risk Parity Model \n",
        "\n",
        "$\\min\\limits_x \\frac{1}{2} xΣx^T - b^T\\log{x}$\n",
        "\n",
        "$x = \\frac{w}{\\sqrt{wΣw^T}}$\n",
        "\n",
        "$w \\ge 0 \\\\ \\sum\\limits_i w_i = 1$\n",
        "\n",
        "\n",
        "\n"
      ]
    },
    {
      "cell_type": "code",
      "execution_count": null,
      "metadata": {
        "id": "vs2Mb7eXEVEY"
      },
      "outputs": [],
      "source": [
        "import riskfolio as rp\n",
        "def f(data, **kwargs):\n",
        "    num_asset = len(data.columns)\n",
        "    # Building the portfolio object\n",
        "    port = rp.Portfolio(returns=data)  \n",
        "\n",
        "    b = None # Risk contribution constraints vector\n",
        "\n",
        "    method_mu = \"hist\" # Method to estimate expected returns based on historical data.\n",
        "    method_cov = \"hist\" # Method to estimate covariance matrix based on historical data.\n",
        "\n",
        "    port.assets_stats(method_mu=method_mu, method_cov=method_cov, d=0.94)\n",
        "\n",
        "    # Estimate optimal portfolio:\n",
        "\n",
        "    model = \"Classic\" # Could be Classic (historical), BL (Black Litterman) or FM (Factor Model)\n",
        "    rm = \"MV\" # Risk measure used, this time will be variance\n",
        "    obj = \"MinRisk\" # Objective function, could be MinRisk, MaxRet, Utility or Sharpe\n",
        "    hist = True # Use historical scenarios for risk measures that depend on scenarios\n",
        "    rf = 0 # Risk free rate\n",
        "    l = 0 # Risk aversion factor, only useful when obj is 'Utility'\n",
        "\n",
        "    w = port.rp_optimization(model=model, rm=rm, rf=rf, b=b, hist=hist)\n",
        "\n",
        "    return pd.Series(w[\"weights\"], index=data.columns, name=\"Alloc Vanilla Risk Parity\")"
      ]
    },
    {
      "cell_type": "code",
      "execution_count": null,
      "metadata": {
        "id": "6iUnBSt9FO7a"
      },
      "outputs": [],
      "source": [
        "risk_parity = BackTest(name=\"Vanilla Risk Parity\",\n",
        "                        historical_data=historical_data,\n",
        "                        live_data=live_data,\n",
        "                        initialize=f, rf=0.025 / 252)\n",
        "risk_parity.run(rebalance=f)\n",
        "risk_parity.plot_performance()\n",
        "#risk_parity.plot_equity_curve()"
      ]
    },
    {
      "cell_type": "markdown",
      "metadata": {
        "id": "WSrbYBGCPDNg"
      },
      "source": [
        "# K-Means"
      ]
    },
    {
      "cell_type": "code",
      "execution_count": null,
      "metadata": {
        "id": "oOpupRSxIqn5"
      },
      "outputs": [],
      "source": [
        "from sklearn.cluster import KMeans\n",
        "mean = historical_data.rolling(52).mean().dropna()\n",
        "std = historical_data.rolling(52).std().dropna()\n",
        "X = pd.concat([mean, std], axis=0).T.values\n",
        "def run_kmean():\n",
        "    inertia_list = []\n",
        "    for k in range(2, 15):\n",
        "        kmeans = KMeans(n_clusters=k)\n",
        "        kmeans.fit(X)\n",
        "        inertia_list.append(kmeans.inertia_)\n",
        "                            \n",
        "    fig = px.line(x=range(2, 15), \n",
        "                 y=inertia_list,\n",
        "              labels={\"x\": \"Number of Cluster\",\n",
        "                      \"y\": \"Inertia\"},\n",
        "              markers=True,\n",
        "              )\n",
        "    fig.update_traces(line=dict(width=3))\n",
        "    fig.show()\n",
        "run_kmean()"
      ]
    },
    {
      "cell_type": "code",
      "execution_count": null,
      "metadata": {
        "id": "ccbzIe7xSrY4"
      },
      "outputs": [],
      "source": [
        "def plot_clusters(data, k):\n",
        "    kmeans = KMeans(n_clusters=k)\n",
        "    kmeans.fit(X)\n",
        "    k_labels = kmeans.labels_\n",
        "\n",
        "    fig = px.scatter(x=historical_data.std() * 252 ** 0.5,\n",
        "                     y=historical_data.mean() * 252,\n",
        "                     hover_name=historical_data.columns,\n",
        "                     color=[str(x) for x in k_labels],\n",
        "                     labels={\"x\": \"Variance\", \"y\": \"Return\",\n",
        "                             \"color\": \"K\"}\n",
        "                     )\n",
        "    fig.show()\n",
        "plot_clusters(historical_data, k=3)"
      ]
    },
    {
      "cell_type": "code",
      "execution_count": null,
      "metadata": {
        "id": "Ei8tmwd-Qqvn"
      },
      "outputs": [],
      "source": [
        "def f(data, k, which_k=-1):\n",
        "    kmeans = KMeans(n_clusters=k)\n",
        "    kmeans.fit(X)\n",
        "    labels = kmeans.labels_\n",
        "    alloc = pd.Series(data=0, index=df.columns, name=\"Alloc K-Mean\")\n",
        "    temp = pd.DataFrame(data={\"Symbol\": security[\"Symbol\"].values,\n",
        "                            \"k\": [str(x) for x in labels],\n",
        "                            \"Market Cap\": security[\"Market Cap\"].values,\n",
        "                            \"Sharpe Ratio\": stats[\"mean\"] / stats[\"std\"]\n",
        "                            })\n",
        "    if which_k != -1:\n",
        "        ids_k = temp[temp[\"k\"]==k][\"Symbol\"]\n",
        "        alloc[ids_k] = 1\n",
        "        allo = alloc.mean()\n",
        "\n",
        "    top_5 = temp.groupby(\"k\").apply(lambda x: x.sort_values(\"Sharpe Ratio\").tail(5))[\"Symbol\"].values\n",
        "    alloc[top_5] = 1 / len(top_5)\n",
        "    return alloc"
      ]
    },
    {
      "cell_type": "code",
      "execution_count": null,
      "metadata": {
        "id": "M8zKsGswZ0Nj"
      },
      "outputs": [],
      "source": [
        "kmean_div = BackTest(name=\"K-Mean\",\n",
        "                        historical_data=historical_data,\n",
        "                        live_data=live_data,\n",
        "                        initialize=f, rf=0.025 / 252, k=3)\n",
        "kmean_div.run(rebalance=f, k=0)\n",
        "kmean_div.plot_performance()"
      ]
    },
    {
      "cell_type": "markdown",
      "metadata": {},
      "source": [
        "# Result Summary"
      ]
    },
    {
      "cell_type": "code",
      "execution_count": null,
      "metadata": {
        "id": "wAOTsmmVd1PB"
      },
      "outputs": [],
      "source": [
        "def plot_all_eqauity_curve(starting_capital=10_000):\n",
        "    equity = pd.DataFrame(data={\n",
        "        \"Equal Weight\": equal_weight.daily_return,\n",
        "        \"Top 5 Of Each Sector\": top_5.daily_return,\n",
        "        \"Max Return\": max_return.daily_return,\n",
        "        \"Max SR\": max_sr.daily_return,\n",
        "        \"Min STD\": min_std.daily_return,\n",
        "        \"Vanilla Risk Parity\": risk_parity.daily_return,\n",
        "        \"K-Mean\": kmean_div.daily_return,\n",
        "    }).apply(lambda col: col.add(1).cumprod() * starting_capital)\n",
        "\n",
        "    fig = px.line(data_frame=equity, title=\"Equity Curve\", labels={\"value\": \"$\",\n",
        "                                                                   \"variable\": \"\"})\n",
        "    fig.add_hline(y=starting_capital, )\n",
        "    fig.show()\n",
        "plot_all_eqauity_curve()"
      ]
    },
    {
      "cell_type": "code",
      "execution_count": null,
      "metadata": {
        "id": "Wf-2kdHZeIPl"
      },
      "outputs": [],
      "source": [
        "def plot_drawdown():\n",
        "    drawdown = pd.DataFrame(data={\n",
        "        \"Equal Weight\": equal_weight.daily_return,\n",
        "        \"Top 5 Of Each Sector\": top_5.daily_return,\n",
        "        \"Max Return\": max_return.daily_return,\n",
        "        \"Max SR\": max_sr.daily_return,\n",
        "        \"Min STD\": min_std.daily_return,\n",
        "        \"Vanilla Risk Parity\": risk_parity.daily_return,\n",
        "        \"K-Mean\": kmean_div.daily_return,\n",
        "    }).apply(lambda col: (col.add(1).cumprod() - col.add(1).cumprod().cummax()) / col.add(1).cumprod().cummax())\n",
        "    fig = px.area(data_frame=drawdown, title=\"Drawdown\", labels={\"value\": \"%\",\n",
        "                                                                \"variable\": \"\"})\n",
        "    fig.show()\n",
        "plot_drawdown()"
      ]
    },
    {
      "cell_type": "code",
      "execution_count": null,
      "metadata": {
        "id": "ma1F9uhAlJnF"
      },
      "outputs": [],
      "source": [
        "def all_metrics(rf):\n",
        "    port_lst = [ equal_weight, \n",
        "                top_5,\n",
        "                max_return,\n",
        "                max_sr,\n",
        "                min_std,\n",
        "                risk_parity,\n",
        "                kmean_div]\n",
        "\n",
        "    metrics = pd.DataFrame(index=[\"Absolute Return\",\n",
        "                                  \"CAGR\",\n",
        "                                  \"IR\",\n",
        "                                  \"Volatility\",\n",
        "                                  \"Max Drawdown\",\n",
        "                                  \"Sharpe Ratio\",\n",
        "                                  \"Sortino Ratio\"],\n",
        "                           columns=[x.name for x in port_lst])\n",
        "    for x, name in zip(port_lst, metrics.columns):\n",
        "        x = x.daily_return\n",
        "        metric = {\n",
        "            \"Absolute Return\": x.add(1).prod() - 1,\n",
        "            \"CAGR\": x.add(1).prod() ** (252/len(x)) - 1,\n",
        "            \"IR\": x.mean() / x.std() * 252 ** 0.5,\n",
        "            \"Volatility\":  x.std() * 252 ** 0.5,\n",
        "            \"Max Drawdown\": ((x.add(1).cumprod().cummax() - x.add(1).cumprod()) / x.add(1).cumprod().cummax()).max(),\n",
        "            \"Sharpe Ratio\": (x.mean() - rf) / x.std() * 252 ** 0.5,\n",
        "            \"Sortino Ratio\": (x.mean() - rf) / x.apply(lambda v: v if v < rf else 0).std() * 252 ** 0.5,\n",
        "        }\n",
        "\n",
        "        metrics.loc[:, name] = metric.values()\n",
        "    \n",
        "    return metrics\n",
        "\n",
        "all_metrics(rf)\n"
      ]
    },
    {
      "cell_type": "code",
      "execution_count": null,
      "metadata": {
        "id": "rlrpjP5fpbzm"
      },
      "outputs": [],
      "source": [
        "def compare(lst, starting_capital=10_000, rf=0.025/252):\n",
        "    equity = pd.DataFrame()\n",
        "    drawdown = pd.DataFrame() \n",
        "\n",
        "    for x in lst:\n",
        "        equity[x.name] = x.daily_return\n",
        "        drawdown[x.name] = x.daily_return\n",
        "\n",
        "    equity = equity.apply(lambda col: col.add(1).cumprod() * starting_capital)\n",
        "    drawdown = drawdown.apply(lambda col: (col.add(1).cumprod() - col.add(1).cumprod().cummax()) / col.add(1).cumprod().cummax())\n",
        "    \n",
        "    metrics = all_metrics(rf=rf)\n",
        "\n",
        "    title = \"Equity Curve<br>\"\n",
        "\n",
        "    for x in lst:\n",
        "        name = x.name\n",
        "        abs_ret_v = metrics.at[\"Absolute Return\", name]\n",
        "        cagr_v = metrics.at[\"CAGR\", name]\n",
        "        std_v = metrics.at[\"Volatility\", name]\n",
        "        sr_v = metrics.at[\"Sharpe Ratio\", name]\n",
        "        title += \"\" + \\\n",
        "                f\"<i>{name:<13}</i>: \" + \\\n",
        "                f\"Absolute Return={abs_ret_v * 100:0.2f}%, \" + \\\n",
        "                f\"CAGR={cagr_v * 100:0.2f}%, \" + \\\n",
        "                f\"STD={std_v * 100:0.2f}%, \" + \\\n",
        "                f\"SR={sr_v:0.2f}\"+ \"<br>\"\n",
        "\n",
        "\n",
        "    fig = px.line(data_frame=equity,\n",
        "                  title=title, labels={\"value\": \"$\",\n",
        "                                       \"variable\": \"\"})\n",
        "    fig.update_layout(margin=dict(l=50, r=50, t=100, b=50), title={\"y\": 0.95})\n",
        "    fig.add_hline(y=starting_capital)\n",
        "    fig.show()\n",
        "\n",
        "    print()\n",
        "\n",
        "    title = \"Drawdown<br>\"\n",
        "    for x in lst:\n",
        "        name = x.name\n",
        "        max_d = metrics.at[\"Max Drawdown\", name]\n",
        "        title += \"\" + \\\n",
        "                f\"<i>{name:<13}</i>: \" + \\\n",
        "                f\"Max Drawdown={max_d * 100:0.2f}%, \" + \\\n",
        "                 \"<br>\"  \n",
        "\n",
        "    fig = px.area(data_frame=drawdown, title=title, labels={\"value\": \"%\",\n",
        "                                                            \"variable\": \"\"})\n",
        "    fig.update_layout(margin=dict(l=50, r=50, t=100, b=50), title={\"y\": 0.95})\n",
        "    fig.show()"
      ]
    },
    {
      "cell_type": "code",
      "execution_count": null,
      "metadata": {
        "id": "Q0a0xCcZYGzZ"
      },
      "outputs": [],
      "source": [
        "compare([equal_weight, top_5])"
      ]
    },
    {
      "cell_type": "code",
      "execution_count": null,
      "metadata": {
        "id": "2X8B0R3kZB58"
      },
      "outputs": [],
      "source": [
        "compare([max_return, min_std, max_sr])"
      ]
    },
    {
      "cell_type": "code",
      "execution_count": null,
      "metadata": {
        "id": "3ezjJouWfZ3D"
      },
      "outputs": [],
      "source": [
        "compare([kmean_div, risk_parity])"
      ]
    },
    {
      "cell_type": "code",
      "execution_count": null,
      "metadata": {
        "id": "CqLUJaPDiveA"
      },
      "outputs": [],
      "source": [
        "all_metrics(rf=0.025/252).to_csv(\"./dataset/metrics.csv\")"
      ]
    },
    {
      "cell_type": "code",
      "execution_count": null,
      "metadata": {
        "id": "82g7CjrRtTOk"
      },
      "outputs": [],
      "source": []
    }
  ],
  "metadata": {
    "colab": {
      "collapsed_sections": [],
      "name": "Capstone Project CodingDojo V2.ipynb",
      "provenance": []
    },
    "kernelspec": {
      "display_name": "Python 3",
      "name": "python3"
    },
    "language_info": {
      "name": "python"
    }
  },
  "nbformat": 4,
  "nbformat_minor": 0
}
