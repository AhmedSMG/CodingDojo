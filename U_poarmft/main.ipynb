{
 "cells": [
  {
   "cell_type": "code",
   "execution_count": 2,
   "metadata": {},
   "outputs": [],
   "source": [
    "import numpy as np\n",
    "import pandas as pd\n",
    "import plotly.express as px\n",
    "import plotly.graph_objects as go"
   ]
  },
  {
   "cell_type": "code",
   "execution_count": 3,
   "metadata": {},
   "outputs": [],
   "source": [
    "# Trading vs Investing\n",
    "# Investing -> extended period (buying and holding)\n",
    "# Trading -> take advantage of rising and falling (enter and exist positions) over shorter time\n",
    "# Trading -> short-term(active) staratigies (d, m, q)\n",
    "# Investing -> long-term(passive)\n"
   ]
  },
  {
   "cell_type": "code",
   "execution_count": 4,
   "metadata": {},
   "outputs": [],
   "source": [
    "# Trading\n",
    "# - High-Frequancy Trading\n",
    "# - Day Trading\n",
    "# - Swing Trading\n",
    "# - Algorithmic Trading\n",
    "# - Copy Traing\n",
    "\n",
    "# Investing \n",
    "# - Portfolio Investing\n",
    "# - Diversitfied Investing\n",
    "# - Investing with Asset Mangers\n",
    "# - Investing with Robo Advisors\n",
    "# - ETF"
   ]
  },
  {
   "cell_type": "code",
   "execution_count": null,
   "metadata": {},
   "outputs": [],
   "source": [
    " "
   ]
  }
 ],
 "metadata": {
  "interpreter": {
   "hash": "e4d39b27ff441b71894edbd799874c65cf22e43a419bb16cc298bb5b25f26e63"
  },
  "kernelspec": {
   "display_name": "Python 3.8.11 64-bit ('temp': conda)",
   "name": "python3"
  },
  "language_info": {
   "codemirror_mode": {
    "name": "ipython",
    "version": 3
   },
   "file_extension": ".py",
   "mimetype": "text/x-python",
   "name": "python",
   "nbconvert_exporter": "python",
   "pygments_lexer": "ipython3",
   "version": "3.8.11"
  },
  "orig_nbformat": 4
 },
 "nbformat": 4,
 "nbformat_minor": 2
}
