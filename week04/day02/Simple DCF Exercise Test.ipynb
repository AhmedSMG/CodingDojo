{
 "cells": [
  {
   "cell_type": "code",
   "execution_count": 2,
   "metadata": {},
   "outputs": [],
   "source": [
    "import pandas as pd"
   ]
  },
  {
   "cell_type": "code",
   "execution_count": 8,
   "metadata": {},
   "outputs": [],
   "source": [
    "# Ten year model 2022 to 2032\n",
    "# Revenue (year 2022) = 222\n",
    "# Revenue Groth Factor 18%\n",
    "# EBITDA Marging = 45% Current Revenue\n",
    "# Taxes = 21% current EBITDA\n",
    "# Capital Expenditure = 3% Current Revenue\n",
    "# Working Capital Increase 6% Revenue\n",
    "# EDBITA Exit Multiple: 32.70\n",
    "# Discount Factor(WACC): 0.94 (6%)."
   ]
  },
  {
   "cell_type": "code",
   "execution_count": 17,
   "metadata": {},
   "outputs": [],
   "source": [
    "initial_revenue = 100\n",
    "growth_factor = 0.12\n",
    "ebitda_margin = 0.50\n",
    "taxes = 0.40\n",
    "capital_expenditures = 0.02\n",
    "working_capital_increase = 0.02\n",
    "ebitda_exit_multiple = 10\n",
    "discount_factor_rate = 0.10"
   ]
  },
  {
   "cell_type": "code",
   "execution_count": 18,
   "metadata": {},
   "outputs": [
    {
     "data": {
      "text/html": [
       "<div>\n",
       "<style scoped>\n",
       "    .dataframe tbody tr th:only-of-type {\n",
       "        vertical-align: middle;\n",
       "    }\n",
       "\n",
       "    .dataframe tbody tr th {\n",
       "        vertical-align: top;\n",
       "    }\n",
       "\n",
       "    .dataframe thead th {\n",
       "        text-align: right;\n",
       "    }\n",
       "</style>\n",
       "<table border=\"1\" class=\"dataframe\">\n",
       "  <thead>\n",
       "    <tr style=\"text-align: right;\">\n",
       "      <th></th>\n",
       "      <th>Revenue</th>\n",
       "      <th>EBITDA</th>\n",
       "      <th>Taxes</th>\n",
       "      <th>Capital Expenditure</th>\n",
       "      <th>Working Capital</th>\n",
       "      <th>Cash Flow</th>\n",
       "      <th>Discount Factor</th>\n",
       "      <th>Present Value of Free Cash Flow</th>\n",
       "    </tr>\n",
       "    <tr>\n",
       "      <th>Date</th>\n",
       "      <th></th>\n",
       "      <th></th>\n",
       "      <th></th>\n",
       "      <th></th>\n",
       "      <th></th>\n",
       "      <th></th>\n",
       "      <th></th>\n",
       "      <th></th>\n",
       "    </tr>\n",
       "  </thead>\n",
       "  <tbody>\n",
       "    <tr>\n",
       "      <th>2020-12-31</th>\n",
       "      <td>0.12</td>\n",
       "      <td>0</td>\n",
       "      <td>0</td>\n",
       "      <td>0</td>\n",
       "      <td>0</td>\n",
       "      <td>0</td>\n",
       "      <td>0.909091</td>\n",
       "      <td>0</td>\n",
       "    </tr>\n",
       "    <tr>\n",
       "      <th>2021-12-31</th>\n",
       "      <td>0.12</td>\n",
       "      <td>0</td>\n",
       "      <td>0</td>\n",
       "      <td>0</td>\n",
       "      <td>0</td>\n",
       "      <td>0</td>\n",
       "      <td>0.909091</td>\n",
       "      <td>0</td>\n",
       "    </tr>\n",
       "    <tr>\n",
       "      <th>2022-12-31</th>\n",
       "      <td>0.12</td>\n",
       "      <td>0</td>\n",
       "      <td>0</td>\n",
       "      <td>0</td>\n",
       "      <td>0</td>\n",
       "      <td>0</td>\n",
       "      <td>0.909091</td>\n",
       "      <td>0</td>\n",
       "    </tr>\n",
       "    <tr>\n",
       "      <th>2023-12-31</th>\n",
       "      <td>0.12</td>\n",
       "      <td>0</td>\n",
       "      <td>0</td>\n",
       "      <td>0</td>\n",
       "      <td>0</td>\n",
       "      <td>0</td>\n",
       "      <td>0.909091</td>\n",
       "      <td>0</td>\n",
       "    </tr>\n",
       "    <tr>\n",
       "      <th>2024-12-31</th>\n",
       "      <td>0.12</td>\n",
       "      <td>0</td>\n",
       "      <td>0</td>\n",
       "      <td>0</td>\n",
       "      <td>0</td>\n",
       "      <td>0</td>\n",
       "      <td>0.909091</td>\n",
       "      <td>0</td>\n",
       "    </tr>\n",
       "  </tbody>\n",
       "</table>\n",
       "</div>"
      ],
      "text/plain": [
       "            Revenue  EBITDA  Taxes  Capital Expenditure  Working Capital  \\\n",
       "Date                                                                       \n",
       "2020-12-31     0.12       0      0                    0                0   \n",
       "2021-12-31     0.12       0      0                    0                0   \n",
       "2022-12-31     0.12       0      0                    0                0   \n",
       "2023-12-31     0.12       0      0                    0                0   \n",
       "2024-12-31     0.12       0      0                    0                0   \n",
       "\n",
       "            Cash Flow  Discount Factor  Present Value of Free Cash Flow  \n",
       "Date                                                                     \n",
       "2020-12-31          0         0.909091                                0  \n",
       "2021-12-31          0         0.909091                                0  \n",
       "2022-12-31          0         0.909091                                0  \n",
       "2023-12-31          0         0.909091                                0  \n",
       "2024-12-31          0         0.909091                                0  "
      ]
     },
     "execution_count": 18,
     "metadata": {},
     "output_type": "execute_result"
    }
   ],
   "source": [
    "df = pd.DataFrame(data={\"Revenue\": growth_factor,\n",
    "                        \"EBITDA\": 0,\n",
    "                        \"Taxes\": 0,\n",
    "                        \"Capital Expenditure\": 0,\n",
    "                        \"Working Capital\": 0,\n",
    "                        \"Cash Flow\": 0,\n",
    "                        \"Discount Factor\": (1 + discount_factor_rate) ** -1,\n",
    "                        \"Present Value of Free Cash Flow\": 0,\n",
    "                        },\n",
    "                  index=pd.date_range(start=\"2020\",\n",
    "                                      end=\"2031\",\n",
    "                                      freq=\"Y\",\n",
    "                                      name=\"Date\")\n",
    "                  )\n",
    "df.head()"
   ]
  },
  {
   "cell_type": "code",
   "execution_count": 19,
   "metadata": {},
   "outputs": [],
   "source": [
    "df[\"Revenue\"] = (1 + df[\"Revenue\"]).cumprod() * initial_revenue\n",
    "\n",
    "df[\"EBITDA\"] = df[\"Revenue\"] * ebitda_margin\n",
    "\n",
    "df[\"Taxes\"] = -df[\"EBITDA\"] * taxes\n",
    "\n",
    "df[\"Capital Expenditure\"] = -df[\"Revenue\"] * capital_expenditures\n",
    "\n",
    "df[\"Working Capital\"] = -df[\"Revenue\"] * working_capital_increase\n",
    "\n",
    "df[\"Cash Flow\"] = df[\"EBITDA\"] + df[\"Taxes\"] + df[\"Capital Expenditure\"] + df[\"Working Capital\"]\n",
    "\n",
    "df[\"Discount Factor\"] =  df[\"Discount Factor\"].cumprod()\n",
    "\n",
    "df[\"Present Value of Free Cash Flow\"] = df[\"Cash Flow\"] * df[\"Discount Factor\"]\n"
   ]
  },
  {
   "cell_type": "code",
   "execution_count": 28,
   "metadata": {},
   "outputs": [
    {
     "data": {
      "text/plain": [
       "0.4240976183724846"
      ]
     },
     "execution_count": 28,
     "metadata": {},
     "output_type": "execute_result"
    }
   ],
   "source": [
    "(1+.1) ** -9"
   ]
  },
  {
   "cell_type": "code",
   "execution_count": 29,
   "metadata": {},
   "outputs": [
    {
     "data": {
      "text/plain": [
       "1.0638297872340425"
      ]
     },
     "execution_count": 29,
     "metadata": {},
     "output_type": "execute_result"
    }
   ],
   "source": [
    "(0.94 **-1)"
   ]
  },
  {
   "cell_type": "code",
   "execution_count": null,
   "metadata": {},
   "outputs": [],
   "source": [
    "# (1 + DFR) ** (-N)"
   ]
  },
  {
   "cell_type": "code",
   "execution_count": 20,
   "metadata": {},
   "outputs": [
    {
     "data": {
      "text/html": [
       "<div>\n",
       "<style scoped>\n",
       "    .dataframe tbody tr th:only-of-type {\n",
       "        vertical-align: middle;\n",
       "    }\n",
       "\n",
       "    .dataframe tbody tr th {\n",
       "        vertical-align: top;\n",
       "    }\n",
       "\n",
       "    .dataframe thead th {\n",
       "        text-align: right;\n",
       "    }\n",
       "</style>\n",
       "<table border=\"1\" class=\"dataframe\">\n",
       "  <thead>\n",
       "    <tr style=\"text-align: right;\">\n",
       "      <th></th>\n",
       "      <th>Revenue</th>\n",
       "      <th>EBITDA</th>\n",
       "      <th>Taxes</th>\n",
       "      <th>Capital Expenditure</th>\n",
       "      <th>Working Capital</th>\n",
       "      <th>Cash Flow</th>\n",
       "      <th>Discount Factor</th>\n",
       "      <th>Present Value of Free Cash Flow</th>\n",
       "    </tr>\n",
       "    <tr>\n",
       "      <th>Date</th>\n",
       "      <th></th>\n",
       "      <th></th>\n",
       "      <th></th>\n",
       "      <th></th>\n",
       "      <th></th>\n",
       "      <th></th>\n",
       "      <th></th>\n",
       "      <th></th>\n",
       "    </tr>\n",
       "  </thead>\n",
       "  <tbody>\n",
       "    <tr>\n",
       "      <th>2020-12-31</th>\n",
       "      <td>112.000000</td>\n",
       "      <td>56.000000</td>\n",
       "      <td>-22.400000</td>\n",
       "      <td>-2.240000</td>\n",
       "      <td>-2.240000</td>\n",
       "      <td>29.120000</td>\n",
       "      <td>0.909091</td>\n",
       "      <td>26.472727</td>\n",
       "    </tr>\n",
       "    <tr>\n",
       "      <th>2021-12-31</th>\n",
       "      <td>125.440000</td>\n",
       "      <td>62.720000</td>\n",
       "      <td>-25.088000</td>\n",
       "      <td>-2.508800</td>\n",
       "      <td>-2.508800</td>\n",
       "      <td>32.614400</td>\n",
       "      <td>0.826446</td>\n",
       "      <td>26.954050</td>\n",
       "    </tr>\n",
       "    <tr>\n",
       "      <th>2022-12-31</th>\n",
       "      <td>140.492800</td>\n",
       "      <td>70.246400</td>\n",
       "      <td>-28.098560</td>\n",
       "      <td>-2.809856</td>\n",
       "      <td>-2.809856</td>\n",
       "      <td>36.528128</td>\n",
       "      <td>0.751315</td>\n",
       "      <td>27.444123</td>\n",
       "    </tr>\n",
       "    <tr>\n",
       "      <th>2023-12-31</th>\n",
       "      <td>157.351936</td>\n",
       "      <td>78.675968</td>\n",
       "      <td>-31.470387</td>\n",
       "      <td>-3.147039</td>\n",
       "      <td>-3.147039</td>\n",
       "      <td>40.911503</td>\n",
       "      <td>0.683013</td>\n",
       "      <td>27.943107</td>\n",
       "    </tr>\n",
       "    <tr>\n",
       "      <th>2024-12-31</th>\n",
       "      <td>176.234168</td>\n",
       "      <td>88.117084</td>\n",
       "      <td>-35.246834</td>\n",
       "      <td>-3.524683</td>\n",
       "      <td>-3.524683</td>\n",
       "      <td>45.820884</td>\n",
       "      <td>0.620921</td>\n",
       "      <td>28.451164</td>\n",
       "    </tr>\n",
       "    <tr>\n",
       "      <th>2025-12-31</th>\n",
       "      <td>197.382269</td>\n",
       "      <td>98.691134</td>\n",
       "      <td>-39.476454</td>\n",
       "      <td>-3.947645</td>\n",
       "      <td>-3.947645</td>\n",
       "      <td>51.319390</td>\n",
       "      <td>0.564474</td>\n",
       "      <td>28.968458</td>\n",
       "    </tr>\n",
       "    <tr>\n",
       "      <th>2026-12-31</th>\n",
       "      <td>221.068141</td>\n",
       "      <td>110.534070</td>\n",
       "      <td>-44.213628</td>\n",
       "      <td>-4.421363</td>\n",
       "      <td>-4.421363</td>\n",
       "      <td>57.477717</td>\n",
       "      <td>0.513158</td>\n",
       "      <td>29.495157</td>\n",
       "    </tr>\n",
       "    <tr>\n",
       "      <th>2027-12-31</th>\n",
       "      <td>247.596318</td>\n",
       "      <td>123.798159</td>\n",
       "      <td>-49.519264</td>\n",
       "      <td>-4.951926</td>\n",
       "      <td>-4.951926</td>\n",
       "      <td>64.375043</td>\n",
       "      <td>0.466507</td>\n",
       "      <td>30.031432</td>\n",
       "    </tr>\n",
       "    <tr>\n",
       "      <th>2028-12-31</th>\n",
       "      <td>277.307876</td>\n",
       "      <td>138.653938</td>\n",
       "      <td>-55.461575</td>\n",
       "      <td>-5.546158</td>\n",
       "      <td>-5.546158</td>\n",
       "      <td>72.100048</td>\n",
       "      <td>0.424098</td>\n",
       "      <td>30.577459</td>\n",
       "    </tr>\n",
       "    <tr>\n",
       "      <th>2029-12-31</th>\n",
       "      <td>310.584821</td>\n",
       "      <td>155.292410</td>\n",
       "      <td>-62.116964</td>\n",
       "      <td>-6.211696</td>\n",
       "      <td>-6.211696</td>\n",
       "      <td>80.752053</td>\n",
       "      <td>0.385543</td>\n",
       "      <td>31.133412</td>\n",
       "    </tr>\n",
       "    <tr>\n",
       "      <th>2030-12-31</th>\n",
       "      <td>347.854999</td>\n",
       "      <td>173.927500</td>\n",
       "      <td>-69.571000</td>\n",
       "      <td>-6.957100</td>\n",
       "      <td>-6.957100</td>\n",
       "      <td>90.442300</td>\n",
       "      <td>0.350494</td>\n",
       "      <td>31.699474</td>\n",
       "    </tr>\n",
       "  </tbody>\n",
       "</table>\n",
       "</div>"
      ],
      "text/plain": [
       "               Revenue      EBITDA      Taxes  Capital Expenditure  \\\n",
       "Date                                                                 \n",
       "2020-12-31  112.000000   56.000000 -22.400000            -2.240000   \n",
       "2021-12-31  125.440000   62.720000 -25.088000            -2.508800   \n",
       "2022-12-31  140.492800   70.246400 -28.098560            -2.809856   \n",
       "2023-12-31  157.351936   78.675968 -31.470387            -3.147039   \n",
       "2024-12-31  176.234168   88.117084 -35.246834            -3.524683   \n",
       "2025-12-31  197.382269   98.691134 -39.476454            -3.947645   \n",
       "2026-12-31  221.068141  110.534070 -44.213628            -4.421363   \n",
       "2027-12-31  247.596318  123.798159 -49.519264            -4.951926   \n",
       "2028-12-31  277.307876  138.653938 -55.461575            -5.546158   \n",
       "2029-12-31  310.584821  155.292410 -62.116964            -6.211696   \n",
       "2030-12-31  347.854999  173.927500 -69.571000            -6.957100   \n",
       "\n",
       "            Working Capital  Cash Flow  Discount Factor  \\\n",
       "Date                                                      \n",
       "2020-12-31        -2.240000  29.120000         0.909091   \n",
       "2021-12-31        -2.508800  32.614400         0.826446   \n",
       "2022-12-31        -2.809856  36.528128         0.751315   \n",
       "2023-12-31        -3.147039  40.911503         0.683013   \n",
       "2024-12-31        -3.524683  45.820884         0.620921   \n",
       "2025-12-31        -3.947645  51.319390         0.564474   \n",
       "2026-12-31        -4.421363  57.477717         0.513158   \n",
       "2027-12-31        -4.951926  64.375043         0.466507   \n",
       "2028-12-31        -5.546158  72.100048         0.424098   \n",
       "2029-12-31        -6.211696  80.752053         0.385543   \n",
       "2030-12-31        -6.957100  90.442300         0.350494   \n",
       "\n",
       "            Present Value of Free Cash Flow  \n",
       "Date                                         \n",
       "2020-12-31                        26.472727  \n",
       "2021-12-31                        26.954050  \n",
       "2022-12-31                        27.444123  \n",
       "2023-12-31                        27.943107  \n",
       "2024-12-31                        28.451164  \n",
       "2025-12-31                        28.968458  \n",
       "2026-12-31                        29.495157  \n",
       "2027-12-31                        30.031432  \n",
       "2028-12-31                        30.577459  \n",
       "2029-12-31                        31.133412  \n",
       "2030-12-31                        31.699474  "
      ]
     },
     "execution_count": 20,
     "metadata": {},
     "output_type": "execute_result"
    }
   ],
   "source": [
    "df"
   ]
  },
  {
   "cell_type": "code",
   "execution_count": 22,
   "metadata": {},
   "outputs": [
    {
     "data": {
      "text/plain": [
       "287.471088943357"
      ]
     },
     "execution_count": 22,
     "metadata": {},
     "output_type": "execute_result"
    }
   ],
   "source": [
    "present_value_of_projected_fcf = df[\"Present Value of Free Cash Flow\"].drop(index=\"2030-12-31\").sum()\n",
    "present_value_of_projected_fcf"
   ]
  },
  {
   "cell_type": "code",
   "execution_count": 23,
   "metadata": {},
   "outputs": [
    {
     "data": {
      "text/plain": [
       "1739.274996672759"
      ]
     },
     "execution_count": 23,
     "metadata": {},
     "output_type": "execute_result"
    }
   ],
   "source": [
    "terminal_value = (df.loc[\"2030\", \"EBITDA\"] * ebitda_exit_multiple).values[0]\n",
    "terminal_value"
   ]
  },
  {
   "cell_type": "code",
   "execution_count": 24,
   "metadata": {},
   "outputs": [
    {
     "data": {
      "text/plain": [
       "670.5658034397533"
      ]
     },
     "execution_count": 24,
     "metadata": {},
     "output_type": "execute_result"
    }
   ],
   "source": [
    "present_value_of_terminal_value = terminal_value * df.loc[\"2029\" ,\"Discount Factor\"].values[0]\n",
    "present_value_of_terminal_value"
   ]
  },
  {
   "cell_type": "code",
   "execution_count": 25,
   "metadata": {},
   "outputs": [
    {
     "data": {
      "text/plain": [
       "958.0368923831103"
      ]
     },
     "execution_count": 25,
     "metadata": {},
     "output_type": "execute_result"
    }
   ],
   "source": [
    "present_assets_value = present_value_of_projected_fcf + present_value_of_terminal_value\n",
    "present_assets_value"
   ]
  },
  {
   "cell_type": "code",
   "execution_count": 12,
   "metadata": {},
   "outputs": [
    {
     "name": "stdout",
     "output_type": "stream",
     "text": [
      "\n",
      "\n",
      "Our Projected Present Value of Projected Future Cash Flows are: 1114.2819602033007.\n",
      "\n",
      "We are providing revenue guidance in 2032 to be: 1371.0555616730721.\n",
      "\n",
      "With an estimated EBITDA around: 616.9750027528825.\n",
      "\n",
      "The terminal value a this time given a multiple of 32.7\n",
      "\n",
      "and the above EBITDA for 2030, would equal: 20175.082590019258.\n",
      "\n"
     ]
    }
   ],
   "source": [
    "message = \"\"\"\n",
    "\n",
    "Our Projected Present Value of Projected Future Cash Flows are: {0}.\n",
    "\n",
    "We are providing revenue guidance in 2032 to be: {1}.\n",
    "\n",
    "With an estimated EBITDA around: {2}.\n",
    "\n",
    "The terminal value a this time given a multiple of {3}\n",
    "\n",
    "and the above EBITDA for 2030, would equal: {4}.\n",
    "\"\"\".format(present_value_of_projected_fcf,\n",
    "           df.loc[\"2032\", \"Revenue\"][0],\n",
    "           df.loc[\"2032\", \"EBITDA\"][0],\n",
    "           32.70,\n",
    "           terminal_value\n",
    "           )\n",
    "print(message)"
   ]
  }
 ],
 "metadata": {
  "interpreter": {
   "hash": "e4d39b27ff441b71894edbd799874c65cf22e43a419bb16cc298bb5b25f26e63"
  },
  "kernelspec": {
   "display_name": "Python 3 (ipykernel)",
   "language": "python",
   "name": "python3"
  },
  "language_info": {
   "codemirror_mode": {
    "name": "ipython",
    "version": 3
   },
   "file_extension": ".py",
   "mimetype": "text/x-python",
   "name": "python",
   "nbconvert_exporter": "python",
   "pygments_lexer": "ipython3",
   "version": "3.8.11"
  }
 },
 "nbformat": 4,
 "nbformat_minor": 4
}
