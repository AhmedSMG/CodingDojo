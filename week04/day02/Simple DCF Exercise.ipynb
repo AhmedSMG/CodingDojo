{
 "cells": [
  {
   "cell_type": "code",
   "execution_count": 1,
   "metadata": {},
   "outputs": [],
   "source": [
    "import pandas as pd"
   ]
  },
  {
   "cell_type": "code",
   "execution_count": 2,
   "metadata": {},
   "outputs": [],
   "source": [
    "# Ten year model 2022 to 2032\n",
    "# Revenue (year 2022) = 222\n",
    "# Revenue Groth Factor 18%\n",
    "# EBITDA Marging = 45% Current Revenue\n",
    "# Taxes = 21% current EBITDA\n",
    "# Capital Expenditure = 3% Current Revenue\n",
    "# Working Capital Increase 6% Revenue\n",
    "# EDBITA Exit Multiple: 32.70\n",
    "# Discount Factor(WACC): 0.94 (6%)."
   ]
  },
  {
   "cell_type": "code",
   "execution_count": 3,
   "metadata": {},
   "outputs": [],
   "source": [
    "initial_revenue = 222\n",
    "growth_factor = 0.18\n",
    "ebitda_margin = 0.45\n",
    "taxes = 0.21\n",
    "capital_expenditures = 0.03\n",
    "working_capital_increase = 0.06\n",
    "ebitda_exit_multiple = 32.70\n",
    "discount_factor_rate = 0.06"
   ]
  },
  {
   "cell_type": "code",
   "execution_count": 4,
   "metadata": {},
   "outputs": [
    {
     "data": {
      "text/html": [
       "<div>\n",
       "<style scoped>\n",
       "    .dataframe tbody tr th:only-of-type {\n",
       "        vertical-align: middle;\n",
       "    }\n",
       "\n",
       "    .dataframe tbody tr th {\n",
       "        vertical-align: top;\n",
       "    }\n",
       "\n",
       "    .dataframe thead th {\n",
       "        text-align: right;\n",
       "    }\n",
       "</style>\n",
       "<table border=\"1\" class=\"dataframe\">\n",
       "  <thead>\n",
       "    <tr style=\"text-align: right;\">\n",
       "      <th></th>\n",
       "      <th>Revenue</th>\n",
       "      <th>EBITDA</th>\n",
       "      <th>Taxes</th>\n",
       "      <th>Capital Expenditure</th>\n",
       "      <th>Working Capital</th>\n",
       "      <th>Cash Flow</th>\n",
       "      <th>Discount Factor</th>\n",
       "      <th>Present Value of Free Cash Flow</th>\n",
       "    </tr>\n",
       "    <tr>\n",
       "      <th>Date</th>\n",
       "      <th></th>\n",
       "      <th></th>\n",
       "      <th></th>\n",
       "      <th></th>\n",
       "      <th></th>\n",
       "      <th></th>\n",
       "      <th></th>\n",
       "      <th></th>\n",
       "    </tr>\n",
       "  </thead>\n",
       "  <tbody>\n",
       "    <tr>\n",
       "      <th>2022-12-31</th>\n",
       "      <td>0.18</td>\n",
       "      <td>0</td>\n",
       "      <td>0</td>\n",
       "      <td>0</td>\n",
       "      <td>0</td>\n",
       "      <td>0</td>\n",
       "      <td>0.94</td>\n",
       "      <td>0</td>\n",
       "    </tr>\n",
       "    <tr>\n",
       "      <th>2023-12-31</th>\n",
       "      <td>0.18</td>\n",
       "      <td>0</td>\n",
       "      <td>0</td>\n",
       "      <td>0</td>\n",
       "      <td>0</td>\n",
       "      <td>0</td>\n",
       "      <td>0.94</td>\n",
       "      <td>0</td>\n",
       "    </tr>\n",
       "    <tr>\n",
       "      <th>2024-12-31</th>\n",
       "      <td>0.18</td>\n",
       "      <td>0</td>\n",
       "      <td>0</td>\n",
       "      <td>0</td>\n",
       "      <td>0</td>\n",
       "      <td>0</td>\n",
       "      <td>0.94</td>\n",
       "      <td>0</td>\n",
       "    </tr>\n",
       "    <tr>\n",
       "      <th>2025-12-31</th>\n",
       "      <td>0.18</td>\n",
       "      <td>0</td>\n",
       "      <td>0</td>\n",
       "      <td>0</td>\n",
       "      <td>0</td>\n",
       "      <td>0</td>\n",
       "      <td>0.94</td>\n",
       "      <td>0</td>\n",
       "    </tr>\n",
       "    <tr>\n",
       "      <th>2026-12-31</th>\n",
       "      <td>0.18</td>\n",
       "      <td>0</td>\n",
       "      <td>0</td>\n",
       "      <td>0</td>\n",
       "      <td>0</td>\n",
       "      <td>0</td>\n",
       "      <td>0.94</td>\n",
       "      <td>0</td>\n",
       "    </tr>\n",
       "  </tbody>\n",
       "</table>\n",
       "</div>"
      ],
      "text/plain": [
       "            Revenue  EBITDA  Taxes  Capital Expenditure  Working Capital  \\\n",
       "Date                                                                       \n",
       "2022-12-31     0.18       0      0                    0                0   \n",
       "2023-12-31     0.18       0      0                    0                0   \n",
       "2024-12-31     0.18       0      0                    0                0   \n",
       "2025-12-31     0.18       0      0                    0                0   \n",
       "2026-12-31     0.18       0      0                    0                0   \n",
       "\n",
       "            Cash Flow  Discount Factor  Present Value of Free Cash Flow  \n",
       "Date                                                                     \n",
       "2022-12-31          0             0.94                                0  \n",
       "2023-12-31          0             0.94                                0  \n",
       "2024-12-31          0             0.94                                0  \n",
       "2025-12-31          0             0.94                                0  \n",
       "2026-12-31          0             0.94                                0  "
      ]
     },
     "execution_count": 4,
     "metadata": {},
     "output_type": "execute_result"
    }
   ],
   "source": [
    "df = pd.DataFrame(data={\"Revenue\": growth_factor,\n",
    "                        \"EBITDA\": 0,\n",
    "                        \"Taxes\": 0,\n",
    "                        \"Capital Expenditure\": 0,\n",
    "                        \"Working Capital\": 0,\n",
    "                        \"Cash Flow\": 0,\n",
    "                        \"Discount Factor\": 1 - discount_factor_rate,\n",
    "                        \"Present Value of Free Cash Flow\": 0,\n",
    "                        },\n",
    "                  index=pd.date_range(start=\"2022\",\n",
    "                                      end=\"2033\",\n",
    "                                      freq=\"Y\",\n",
    "                                      name=\"Date\")\n",
    "                  )\n",
    "df.head()"
   ]
  },
  {
   "cell_type": "code",
   "execution_count": 5,
   "metadata": {},
   "outputs": [],
   "source": [
    "df[\"Revenue\"] = (1 + df[\"Revenue\"]).cumprod() * initial_revenue\n",
    "\n",
    "df[\"EBITDA\"] = df[\"Revenue\"] * ebitda_margin\n",
    "\n",
    "df[\"Taxes\"] = -df[\"EBITDA\"] * taxes\n",
    "\n",
    "df[\"Capital Expenditure\"] = -df[\"Revenue\"] * capital_expenditures\n",
    "\n",
    "df[\"Working Capital\"] = -df[\"Revenue\"] * working_capital_increase\n",
    "\n",
    "df[\"Cash Flow\"] = df[\"EBITDA\"] + df[\"Taxes\"] + df[\"Capital Expenditure\"] + df[\"Working Capital\"]\n",
    "\n",
    "df[\"Discount Factor\"] = df[\"Discount Factor\"].cumprod()\n",
    "\n",
    "df[\"Present Value of Free Cash Flow\"] = df[\"Cash Flow\"] * df[\"Discount Factor\"]\n"
   ]
  },
  {
   "cell_type": "code",
   "execution_count": 6,
   "metadata": {},
   "outputs": [
    {
     "data": {
      "text/html": [
       "<div>\n",
       "<style scoped>\n",
       "    .dataframe tbody tr th:only-of-type {\n",
       "        vertical-align: middle;\n",
       "    }\n",
       "\n",
       "    .dataframe tbody tr th {\n",
       "        vertical-align: top;\n",
       "    }\n",
       "\n",
       "    .dataframe thead th {\n",
       "        text-align: right;\n",
       "    }\n",
       "</style>\n",
       "<table border=\"1\" class=\"dataframe\">\n",
       "  <thead>\n",
       "    <tr style=\"text-align: right;\">\n",
       "      <th></th>\n",
       "      <th>Revenue</th>\n",
       "      <th>EBITDA</th>\n",
       "      <th>Taxes</th>\n",
       "      <th>Capital Expenditure</th>\n",
       "      <th>Working Capital</th>\n",
       "      <th>Cash Flow</th>\n",
       "      <th>Discount Factor</th>\n",
       "      <th>Present Value of Free Cash Flow</th>\n",
       "    </tr>\n",
       "    <tr>\n",
       "      <th>Date</th>\n",
       "      <th></th>\n",
       "      <th></th>\n",
       "      <th></th>\n",
       "      <th></th>\n",
       "      <th></th>\n",
       "      <th></th>\n",
       "      <th></th>\n",
       "      <th></th>\n",
       "    </tr>\n",
       "  </thead>\n",
       "  <tbody>\n",
       "    <tr>\n",
       "      <th>2022-12-31</th>\n",
       "      <td>261.960000</td>\n",
       "      <td>117.882000</td>\n",
       "      <td>-24.755220</td>\n",
       "      <td>-7.858800</td>\n",
       "      <td>-15.717600</td>\n",
       "      <td>69.550380</td>\n",
       "      <td>0.940000</td>\n",
       "      <td>65.377357</td>\n",
       "    </tr>\n",
       "    <tr>\n",
       "      <th>2023-12-31</th>\n",
       "      <td>309.112800</td>\n",
       "      <td>139.100760</td>\n",
       "      <td>-29.211160</td>\n",
       "      <td>-9.273384</td>\n",
       "      <td>-18.546768</td>\n",
       "      <td>82.069448</td>\n",
       "      <td>0.883600</td>\n",
       "      <td>72.516565</td>\n",
       "    </tr>\n",
       "    <tr>\n",
       "      <th>2024-12-31</th>\n",
       "      <td>364.753104</td>\n",
       "      <td>164.138897</td>\n",
       "      <td>-34.469168</td>\n",
       "      <td>-10.942593</td>\n",
       "      <td>-21.885186</td>\n",
       "      <td>96.841949</td>\n",
       "      <td>0.830584</td>\n",
       "      <td>80.435373</td>\n",
       "    </tr>\n",
       "    <tr>\n",
       "      <th>2025-12-31</th>\n",
       "      <td>430.408663</td>\n",
       "      <td>193.683898</td>\n",
       "      <td>-40.673619</td>\n",
       "      <td>-12.912260</td>\n",
       "      <td>-25.824520</td>\n",
       "      <td>114.273500</td>\n",
       "      <td>0.780749</td>\n",
       "      <td>89.218916</td>\n",
       "    </tr>\n",
       "    <tr>\n",
       "      <th>2026-12-31</th>\n",
       "      <td>507.882222</td>\n",
       "      <td>228.547000</td>\n",
       "      <td>-47.994870</td>\n",
       "      <td>-15.236467</td>\n",
       "      <td>-30.472933</td>\n",
       "      <td>134.842730</td>\n",
       "      <td>0.733904</td>\n",
       "      <td>98.961622</td>\n",
       "    </tr>\n",
       "    <tr>\n",
       "      <th>2027-12-31</th>\n",
       "      <td>599.301022</td>\n",
       "      <td>269.685460</td>\n",
       "      <td>-56.633947</td>\n",
       "      <td>-17.979031</td>\n",
       "      <td>-35.958061</td>\n",
       "      <td>159.114421</td>\n",
       "      <td>0.689870</td>\n",
       "      <td>109.768231</td>\n",
       "    </tr>\n",
       "    <tr>\n",
       "      <th>2028-12-31</th>\n",
       "      <td>707.175206</td>\n",
       "      <td>318.228843</td>\n",
       "      <td>-66.828057</td>\n",
       "      <td>-21.215256</td>\n",
       "      <td>-42.430512</td>\n",
       "      <td>187.755017</td>\n",
       "      <td>0.648478</td>\n",
       "      <td>121.754922</td>\n",
       "    </tr>\n",
       "    <tr>\n",
       "      <th>2029-12-31</th>\n",
       "      <td>834.466743</td>\n",
       "      <td>375.510034</td>\n",
       "      <td>-78.857107</td>\n",
       "      <td>-25.034002</td>\n",
       "      <td>-50.068005</td>\n",
       "      <td>221.550920</td>\n",
       "      <td>0.609569</td>\n",
       "      <td>135.050559</td>\n",
       "    </tr>\n",
       "    <tr>\n",
       "      <th>2030-12-31</th>\n",
       "      <td>984.670757</td>\n",
       "      <td>443.101841</td>\n",
       "      <td>-93.051387</td>\n",
       "      <td>-29.540123</td>\n",
       "      <td>-59.080245</td>\n",
       "      <td>261.430086</td>\n",
       "      <td>0.572995</td>\n",
       "      <td>149.798080</td>\n",
       "    </tr>\n",
       "    <tr>\n",
       "      <th>2031-12-31</th>\n",
       "      <td>1161.911493</td>\n",
       "      <td>522.860172</td>\n",
       "      <td>-109.800636</td>\n",
       "      <td>-34.857345</td>\n",
       "      <td>-69.714690</td>\n",
       "      <td>308.487501</td>\n",
       "      <td>0.538615</td>\n",
       "      <td>166.156031</td>\n",
       "    </tr>\n",
       "    <tr>\n",
       "      <th>2032-12-31</th>\n",
       "      <td>1371.055562</td>\n",
       "      <td>616.975003</td>\n",
       "      <td>-129.564751</td>\n",
       "      <td>-41.131667</td>\n",
       "      <td>-82.263334</td>\n",
       "      <td>364.015252</td>\n",
       "      <td>0.506298</td>\n",
       "      <td>184.300269</td>\n",
       "    </tr>\n",
       "  </tbody>\n",
       "</table>\n",
       "</div>"
      ],
      "text/plain": [
       "                Revenue      EBITDA       Taxes  Capital Expenditure  \\\n",
       "Date                                                                   \n",
       "2022-12-31   261.960000  117.882000  -24.755220            -7.858800   \n",
       "2023-12-31   309.112800  139.100760  -29.211160            -9.273384   \n",
       "2024-12-31   364.753104  164.138897  -34.469168           -10.942593   \n",
       "2025-12-31   430.408663  193.683898  -40.673619           -12.912260   \n",
       "2026-12-31   507.882222  228.547000  -47.994870           -15.236467   \n",
       "2027-12-31   599.301022  269.685460  -56.633947           -17.979031   \n",
       "2028-12-31   707.175206  318.228843  -66.828057           -21.215256   \n",
       "2029-12-31   834.466743  375.510034  -78.857107           -25.034002   \n",
       "2030-12-31   984.670757  443.101841  -93.051387           -29.540123   \n",
       "2031-12-31  1161.911493  522.860172 -109.800636           -34.857345   \n",
       "2032-12-31  1371.055562  616.975003 -129.564751           -41.131667   \n",
       "\n",
       "            Working Capital   Cash Flow  Discount Factor  \\\n",
       "Date                                                       \n",
       "2022-12-31       -15.717600   69.550380         0.940000   \n",
       "2023-12-31       -18.546768   82.069448         0.883600   \n",
       "2024-12-31       -21.885186   96.841949         0.830584   \n",
       "2025-12-31       -25.824520  114.273500         0.780749   \n",
       "2026-12-31       -30.472933  134.842730         0.733904   \n",
       "2027-12-31       -35.958061  159.114421         0.689870   \n",
       "2028-12-31       -42.430512  187.755017         0.648478   \n",
       "2029-12-31       -50.068005  221.550920         0.609569   \n",
       "2030-12-31       -59.080245  261.430086         0.572995   \n",
       "2031-12-31       -69.714690  308.487501         0.538615   \n",
       "2032-12-31       -82.263334  364.015252         0.506298   \n",
       "\n",
       "            Present Value of Free Cash Flow  \n",
       "Date                                         \n",
       "2022-12-31                        65.377357  \n",
       "2023-12-31                        72.516565  \n",
       "2024-12-31                        80.435373  \n",
       "2025-12-31                        89.218916  \n",
       "2026-12-31                        98.961622  \n",
       "2027-12-31                       109.768231  \n",
       "2028-12-31                       121.754922  \n",
       "2029-12-31                       135.050559  \n",
       "2030-12-31                       149.798080  \n",
       "2031-12-31                       166.156031  \n",
       "2032-12-31                       184.300269  "
      ]
     },
     "execution_count": 6,
     "metadata": {},
     "output_type": "execute_result"
    }
   ],
   "source": [
    "df"
   ]
  },
  {
   "cell_type": "code",
   "execution_count": 7,
   "metadata": {},
   "outputs": [
    {
     "data": {
      "text/plain": [
       "1089.0376566730893"
      ]
     },
     "execution_count": 7,
     "metadata": {},
     "output_type": "execute_result"
    }
   ],
   "source": [
    "present_value_of_projected_fcf = df[\"Present Value of Free Cash Flow\"].drop(index=\"2032-12-31\").sum()\n",
    "present_value_of_projected_fcf"
   ]
  },
  {
   "cell_type": "code",
   "execution_count": 8,
   "metadata": {},
   "outputs": [
    {
     "data": {
      "text/plain": [
       "20175.082590019258"
      ]
     },
     "execution_count": 8,
     "metadata": {},
     "output_type": "execute_result"
    }
   ],
   "source": [
    "terminal_value = (df.loc[\"2032\", \"EBITDA\"] * ebitda_exit_multiple).values[0]\n",
    "terminal_value"
   ]
  },
  {
   "cell_type": "code",
   "execution_count": 9,
   "metadata": {},
   "outputs": [
    {
     "data": {
      "text/plain": [
       "10866.60441109724"
      ]
     },
     "execution_count": 9,
     "metadata": {},
     "output_type": "execute_result"
    }
   ],
   "source": [
    "present_value_of_terminal_value = terminal_value * df.loc[\"2031\" ,\"Discount Factor\"].values[0]\n",
    "present_value_of_terminal_value"
   ]
  },
  {
   "cell_type": "code",
   "execution_count": 10,
   "metadata": {},
   "outputs": [
    {
     "data": {
      "text/plain": [
       "11955.642067770328"
      ]
     },
     "execution_count": 10,
     "metadata": {},
     "output_type": "execute_result"
    }
   ],
   "source": [
    "present_assets_value = present_value_of_projected_fcf + present_value_of_terminal_value\n",
    "present_assets_value"
   ]
  },
  {
   "cell_type": "code",
   "execution_count": 19,
   "metadata": {},
   "outputs": [
    {
     "ename": "AttributeError",
     "evalue": "'numpy.float64' object has no attribute 'values'",
     "output_type": "error",
     "traceback": [
      "\u001b[0;31m---------------------------------------------------------------------------\u001b[0m",
      "\u001b[0;31mAttributeError\u001b[0m                            Traceback (most recent call last)",
      "\u001b[0;32m/tmp/ipykernel_6675/3726612060.py\u001b[0m in \u001b[0;36m<module>\u001b[0;34m\u001b[0m\n\u001b[1;32m     14\u001b[0m            \u001b[0mdf\u001b[0m\u001b[0;34m.\u001b[0m\u001b[0mloc\u001b[0m\u001b[0;34m[\u001b[0m\u001b[0;34m\"2032\"\u001b[0m\u001b[0;34m,\u001b[0m \u001b[0;34m\"EBITDA\"\u001b[0m\u001b[0;34m]\u001b[0m\u001b[0;34m[\u001b[0m\u001b[0;36m0\u001b[0m\u001b[0;34m]\u001b[0m\u001b[0;34m,\u001b[0m\u001b[0;34m\u001b[0m\u001b[0;34m\u001b[0m\u001b[0m\n\u001b[1;32m     15\u001b[0m            \u001b[0;36m32.70\u001b[0m\u001b[0;34m,\u001b[0m\u001b[0;34m\u001b[0m\u001b[0;34m\u001b[0m\u001b[0m\n\u001b[0;32m---> 16\u001b[0;31m            \u001b[0mterminal_value\u001b[0m\u001b[0;34m.\u001b[0m\u001b[0mvalues\u001b[0m\u001b[0;34m\u001b[0m\u001b[0;34m\u001b[0m\u001b[0m\n\u001b[0m\u001b[1;32m     17\u001b[0m            )\n\u001b[1;32m     18\u001b[0m \u001b[0mprint\u001b[0m\u001b[0;34m(\u001b[0m\u001b[0mmessage\u001b[0m\u001b[0;34m)\u001b[0m\u001b[0;34m\u001b[0m\u001b[0;34m\u001b[0m\u001b[0m\n",
      "\u001b[0;31mAttributeError\u001b[0m: 'numpy.float64' object has no attribute 'values'"
     ]
    }
   ],
   "source": [
    "message = \"\"\"\n",
    "\n",
    "Our Projected Present Value of Projected Future Cash Flows are: {0}.\n",
    "\n",
    "We are providing revenue guidance in 2032 to be: {1}.\n",
    "\n",
    "With an estimated EBITDA around: {2}.\n",
    "\n",
    "The terminal value a this time given a multiple of {3}\n",
    "\n",
    "and the above EBITDA for 2030, would equal: {4}.\n",
    "\"\"\".format(present_value_of_projected_fcf,\n",
    "           df.loc[\"2032\", \"Revenue\"][0],\n",
    "           df.loc[\"2032\", \"EBITDA\"][0],\n",
    "           32.70,\n",
    "           terminal_value.values\n",
    "           )\n",
    "print(message)"
   ]
  },
  {
   "cell_type": "markdown",
   "metadata": {},
   "source": []
  },
  {
   "cell_type": "code",
   "execution_count": null,
   "metadata": {},
   "outputs": [],
   "source": []
  }
 ],
 "metadata": {
  "interpreter": {
   "hash": "e4d39b27ff441b71894edbd799874c65cf22e43a419bb16cc298bb5b25f26e63"
  },
  "kernelspec": {
   "display_name": "Python 3 (ipykernel)",
   "language": "python",
   "name": "python3"
  },
  "language_info": {
   "codemirror_mode": {
    "name": "ipython",
    "version": 3
   },
   "file_extension": ".py",
   "mimetype": "text/x-python",
   "name": "python",
   "nbconvert_exporter": "python",
   "pygments_lexer": "ipython3",
   "version": "3.8.11"
  }
 },
 "nbformat": 4,
 "nbformat_minor": 4
}
