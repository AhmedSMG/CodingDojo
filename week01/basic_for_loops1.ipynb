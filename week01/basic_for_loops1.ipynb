{
 "cells": [
  {
   "cell_type": "markdown",
   "metadata": {},
   "source": [
    "# Create a Juypter Notebook called basic_for_loops1 that performs the following tasks:\n",
    "\n",
    "1. Basic - Print all integers from 0 to 150. Hint: use a for loop and range\n",
    "\n",
    "2. Multiples of Five - Print all the multiples of 5 from 5 to 1,000\n",
    "\n",
    "3. Counting, the Dojo Way - Print integers 1 to 100. If divisible by 5, print \"Coding\" instead. If divisible by 10, print \"Coding Dojo\".\n",
    "\n",
    "4. Whoa. That Sucker's Huge - Add odd integers from 0 to 500,000 and print the final sum.\n",
    "\n",
    "5. Countdown by Fours - Print positive numbers starting at 2018, counting down by fours.\n",
    "\n",
    "6. Flexible Counter (optional) - Set three variables: lowNum, highNum, mult. Starting at lowNum and going through highNum, print only the integers that are a multiple of mult. For example, if lowNum=2, highNum=9, and mult=3, the loop should print 3, 6, 9 (on successive lines)"
   ]
  },
  {
   "cell_type": "code",
   "execution_count": 2,
   "metadata": {},
   "outputs": [
    {
     "name": "stdout",
     "output_type": "stream",
     "text": [
      "0, 1, 2, 3, 4, 5, 6, 7, 8, 9, 10, 11, 12, 13, 14, 15, 16, 17, 18, 19, 20, 21, 22, 23, 24, 25, 26, 27, 28, 29, 30, 31, 32, 33, 34, 35, 36, 37, 38, 39, 40, 41, 42, 43, 44, 45, 46, 47, 48, 49, 50, 51, 52, 53, 54, 55, 56, 57, 58, 59, 60, 61, 62, 63, 64, 65, 66, 67, 68, 69, 70, 71, 72, 73, 74, 75, 76, 77, 78, 79, 80, 81, 82, 83, 84, 85, 86, 87, 88, 89, 90, 91, 92, 93, 94, 95, 96, 97, 98, 99, 100, 101, 102, 103, 104, 105, 106, 107, 108, 109, 110, 111, 112, 113, 114, 115, 116, 117, 118, 119, 120, 121, 122, 123, 124, 125, 126, 127, 128, 129, 130, 131, 132, 133, 134, 135, 136, 137, 138, 139, 140, 141, 142, 143, 144, 145, 146, 147, 148, 149, 150, "
     ]
    }
   ],
   "source": [
    "# 1\n",
    "for i in range(150 + 1):\n",
    "    print(i, end=\", \")"
   ]
  },
  {
   "cell_type": "code",
   "execution_count": 3,
   "metadata": {},
   "outputs": [
    {
     "name": "stdout",
     "output_type": "stream",
     "text": [
      "5, 10, 15, 20, 25, 30, 35, 40, 45, 50, 55, 60, 65, 70, 75, 80, 85, 90, 95, 100, 105, 110, 115, 120, 125, 130, 135, 140, 145, 150, 155, 160, 165, 170, 175, 180, 185, 190, 195, 200, 205, 210, 215, 220, 225, 230, 235, 240, 245, 250, 255, 260, 265, 270, 275, 280, 285, 290, 295, 300, 305, 310, 315, 320, 325, 330, 335, 340, 345, 350, 355, 360, 365, 370, 375, 380, 385, 390, 395, 400, 405, 410, 415, 420, 425, 430, 435, 440, 445, 450, 455, 460, 465, 470, 475, 480, 485, 490, 495, 500, 505, 510, 515, 520, 525, 530, 535, 540, 545, 550, 555, 560, 565, 570, 575, 580, 585, 590, 595, 600, 605, 610, 615, 620, 625, 630, 635, 640, 645, 650, 655, 660, 665, 670, 675, 680, 685, 690, 695, 700, 705, 710, 715, 720, 725, 730, 735, 740, 745, 750, 755, 760, 765, 770, 775, 780, 785, 790, 795, 800, 805, 810, 815, 820, 825, 830, 835, 840, 845, 850, 855, 860, 865, 870, 875, 880, 885, 890, 895, 900, 905, 910, 915, 920, 925, 930, 935, 940, 945, 950, 955, 960, 965, 970, 975, 980, 985, 990, 995, 1000, "
     ]
    }
   ],
   "source": [
    "# 2\n",
    "for i in range(5, 1000 + 1, 5):\n",
    "    print(i, end=\", \")"
   ]
  },
  {
   "cell_type": "code",
   "execution_count": 6,
   "metadata": {},
   "outputs": [
    {
     "name": "stdout",
     "output_type": "stream",
     "text": [
      "1, 2, 3, 4, Coding, 6, 7, 8, 9, Coding Dojo, 11, 12, 13, 14, Coding, 16, 17, 18, 19, Coding Dojo, 21, 22, 23, 24, Coding, 26, 27, 28, 29, Coding Dojo, 31, 32, 33, 34, Coding, 36, 37, 38, 39, Coding Dojo, 41, 42, 43, 44, Coding, 46, 47, 48, 49, Coding Dojo, 51, 52, 53, 54, Coding, 56, 57, 58, 59, Coding Dojo, 61, 62, 63, 64, Coding, 66, 67, 68, 69, Coding Dojo, 71, 72, 73, 74, Coding, 76, 77, 78, 79, Coding Dojo, 81, 82, 83, 84, Coding, 86, 87, 88, 89, Coding Dojo, 91, 92, 93, 94, Coding, 96, 97, 98, 99, Coding Dojo, "
     ]
    }
   ],
   "source": [
    "# 3 \n",
    "for i in range(1, 100 + 1):\n",
    "    if i % 10 == 0: print(\"Coding Dojo\", end=\", \")\n",
    "    elif i % 5 == 0: print(\"Coding\", end=\", \")\n",
    "    else: print(i, end=\", \")"
   ]
  },
  {
   "cell_type": "code",
   "execution_count": 10,
   "metadata": {},
   "outputs": [
    {
     "name": "stdout",
     "output_type": "stream",
     "text": [
      "62500000000\n"
     ]
    }
   ],
   "source": [
    "# 4\n",
    "import numpy as np\n",
    "print(np.arange(1, 500_000, 2).sum())"
   ]
  },
  {
   "cell_type": "code",
   "execution_count": 11,
   "metadata": {},
   "outputs": [
    {
     "name": "stdout",
     "output_type": "stream",
     "text": [
      "62500000000\n"
     ]
    }
   ],
   "source": [
    "# OR\n",
    "x = 0\n",
    "for i in range(1, 500_000, 2):\n",
    "    x += i\n",
    "print(x)"
   ]
  },
  {
   "cell_type": "code",
   "execution_count": 13,
   "metadata": {},
   "outputs": [
    {
     "name": "stdout",
     "output_type": "stream",
     "text": [
      "2018 2014 2010 2006 2002 1998 1994 1990 1986 1982 1978 1974 1970 1966 1962 1958 1954 1950 1946 1942 1938 1934 1930 1926 1922 1918 1914 1910 1906 1902 1898 1894 1890 1886 1882 1878 1874 1870 1866 1862 1858 1854 1850 1846 1842 1838 1834 1830 1826 1822 1818 1814 1810 1806 1802 1798 1794 1790 1786 1782 1778 1774 1770 1766 1762 1758 1754 1750 1746 1742 1738 1734 1730 1726 1722 1718 1714 1710 1706 1702 1698 1694 1690 1686 1682 1678 1674 1670 1666 1662 1658 1654 1650 1646 1642 1638 1634 1630 1626 1622 1618 1614 1610 1606 1602 1598 1594 1590 1586 1582 1578 1574 1570 1566 1562 1558 1554 1550 1546 1542 1538 1534 1530 1526 1522 1518 1514 1510 1506 1502 1498 1494 1490 1486 1482 1478 1474 1470 1466 1462 1458 1454 1450 1446 1442 1438 1434 1430 1426 1422 1418 1414 1410 1406 1402 1398 1394 1390 1386 1382 1378 1374 1370 1366 1362 1358 1354 1350 1346 1342 1338 1334 1330 1326 1322 1318 1314 1310 1306 1302 1298 1294 1290 1286 1282 1278 1274 1270 1266 1262 1258 1254 1250 1246 1242 1238 1234 1230 1226 1222 1218 1214 1210 1206 1202 1198 1194 1190 1186 1182 1178 1174 1170 1166 1162 1158 1154 1150 1146 1142 1138 1134 1130 1126 1122 1118 1114 1110 1106 1102 1098 1094 1090 1086 1082 1078 1074 1070 1066 1062 1058 1054 1050 1046 1042 1038 1034 1030 1026 1022 1018 1014 1010 1006 1002 998 994 990 986 982 978 974 970 966 962 958 954 950 946 942 938 934 930 926 922 918 914 910 906 902 898 894 890 886 882 878 874 870 866 862 858 854 850 846 842 838 834 830 826 822 818 814 810 806 802 798 794 790 786 782 778 774 770 766 762 758 754 750 746 742 738 734 730 726 722 718 714 710 706 702 698 694 690 686 682 678 674 670 666 662 658 654 650 646 642 638 634 630 626 622 618 614 610 606 602 598 594 590 586 582 578 574 570 566 562 558 554 550 546 542 538 534 530 526 522 518 514 510 506 502 498 494 490 486 482 478 474 470 466 462 458 454 450 446 442 438 434 430 426 422 418 414 410 406 402 398 394 390 386 382 378 374 370 366 362 358 354 350 346 342 338 334 330 326 322 318 314 310 306 302 298 294 290 286 282 278 274 270 266 262 258 254 250 246 242 238 234 230 226 222 218 214 210 206 202 198 194 190 186 182 178 174 170 166 162 158 154 150 146 142 138 134 130 126 122 118 114 110 106 102 98 94 90 86 82 78 74 70 66 62 58 54 50 46 42 38 34 30 26 22 18 14 10 6 2 "
     ]
    }
   ],
   "source": [
    "# 5\n",
    "for i in range(2018, 0, -4):\n",
    "    print(i, end=\" \")"
   ]
  },
  {
   "cell_type": "code",
   "execution_count": 16,
   "metadata": {},
   "outputs": [
    {
     "name": "stdout",
     "output_type": "stream",
     "text": [
      "3\n",
      "6\n",
      "9\n"
     ]
    }
   ],
   "source": [
    "# 6\n",
    "def flexible_counter(lowNum = 2, highNum = 9, mult = 3):\n",
    "    for i in range(mult, highNum + 1, mult):\n",
    "        print(i)\n",
    "flexible_counter()"
   ]
  }
 ],
 "metadata": {
  "interpreter": {
   "hash": "b5053f4e29fb1c5fc81d185f294cb003981897c969f72165b4d83f320caf7811"
  },
  "kernelspec": {
   "display_name": "Python 3.8.11 64-bit ('temp': conda)",
   "name": "python3"
  },
  "language_info": {
   "codemirror_mode": {
    "name": "ipython",
    "version": 3
   },
   "file_extension": ".py",
   "mimetype": "text/x-python",
   "name": "python",
   "nbconvert_exporter": "python",
   "pygments_lexer": "ipython3",
   "version": "3.8.11"
  },
  "orig_nbformat": 4
 },
 "nbformat": 4,
 "nbformat_minor": 2
}
