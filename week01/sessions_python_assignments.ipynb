{
 "cells": [
  {
   "cell_type": "markdown",
   "id": "e9d8097c-932a-47f6-8ae0-dd5016f81eb4",
   "metadata": {},
   "source": [
    "Count Positives - Given a list of numbers, create a function to replace the last value with the number of positive values. (Note that zero is not considered to be a positive number).\n",
    "\n",
    "Example: count_positives([-1,1,1,1]) changes the original list to [-1,1,1,3] and returns it\n",
    "Example: count_positives([1,6,-4,-2,-7,-2]) changes the list to [1,6,-4,-2,-7,2] and returns it"
   ]
  },
  {
   "cell_type": "code",
   "execution_count": 1,
   "id": "3f136cac-ebcc-40af-8c42-0bc3c7153084",
   "metadata": {},
   "outputs": [],
   "source": [
    "# Q 2"
   ]
  },
  {
   "attachments": {
    "2b7da722-130a-4987-a851-3de021cc4984.png": {
     "image/png": "[encoded data removed]"
    }
   },
   "cell_type": "markdown",
   "id": "54baa943-4050-4837-8e2c-375f4c84db12",
   "metadata": {},
   "source": [
    "![image.png](attachment:2b7da722-130a-4987-a851-3de021cc4984.png)"
   ]
  },
  {
   "cell_type": "code",
   "execution_count": 3,
   "id": "93ca395a-5592-4bfb-9c57-cb0bb24f3041",
   "metadata": {},
   "outputs": [],
   "source": [
    "def replace_last(x):\n",
    "    count = 0\n",
    "    for item in x:\n",
    "        if item >= 0:\n",
    "            count += 1\n",
    "    x[-1] = count\n",
    "    return x"
   ]
  },
  {
   "cell_type": "code",
   "execution_count": 7,
   "id": "1a0f627b-ee45-4bb6-b22e-4d763f492522",
   "metadata": {},
   "outputs": [
    {
     "data": {
      "text/plain": [
       "3"
      ]
     },
     "execution_count": 7,
     "metadata": {},
     "output_type": "execute_result"
    }
   ],
   "source": [
    "func([-1, 1, 1, 1])"
   ]
  },
  {
   "cell_type": "code",
   "execution_count": 4,
   "id": "2240be15-b326-41b4-9950-6994805292ce",
   "metadata": {},
   "outputs": [
    {
     "data": {
      "text/plain": [
       "[-1, 1, 1, 3]"
      ]
     },
     "execution_count": 4,
     "metadata": {},
     "output_type": "execute_result"
    }
   ],
   "source": [
    "replace_last([-1, 1, 1, 1])"
   ]
  },
  {
   "cell_type": "code",
   "execution_count": 5,
   "id": "bea6848a-ee7f-42c7-aedf-cdd2adecf320",
   "metadata": {},
   "outputs": [
    {
     "data": {
      "text/plain": [
       "[1, 6, -4, -2, -7, 2]"
      ]
     },
     "execution_count": 5,
     "metadata": {},
     "output_type": "execute_result"
    }
   ],
   "source": [
    "replace_last([1, 6, -4, -2, -7, -2])"
   ]
  },
  {
   "cell_type": "markdown",
   "id": "8c1e2d4f-4c0a-47c7-a4d5-91173de93823",
   "metadata": {},
   "source": [
    "Biggie Size - Given a list, write a function that changes all positive numbers in the list to \"big\".\n",
    "\n",
    "Example: biggie_size([-1, 3, 5, -5]) returns that same list, but whose values are now [-1, \"big\", \"big\", -5]\n",
    "\n",
    "Count Positives - Given a list of numbers, create a function to replace the last value with the number of positive values. (Note that zero is not considered to be a positive number).\n",
    "\n",
    "Example: count_positives([-1,1,1,1]) changes the original list to [-1,1,1,3] and returns it\n",
    "Example: count_positives([1,6,-4,-2,-7,-2]) changes the list to [1,6,-4,-2,-7,2] and returns it\n",
    "\n",
    "Maximum - Create a function that takes a list and returns the maximum value in the array. (Optional) If the list is empty, have the function return False.\n",
    "\n",
    "Example: maximum([37,2,1,-9]) should return 37\n",
    "(Optional) Example: maximum([]) should return False\n",
    "\n",
    "Reverse List (Optional) - Create a function that takes a list and return that list with values reversed. Do this without creating a second list.\n",
    "\n",
    "Example: reverse_list([37,2,1,-9]) should return [-9,1,2,37]\n",
    " \n",
    "\n",
    "Countdown - Create a function that accepts a number as an input. Return a new list that counts down by one, from the number (as the 0th element) down to 0 (as the last element).\n",
    "\n",
    "Example: countdown(5) should return [5,4,3,2,1,0]\n",
    "\n",
    "First Plus Length - Create a function that accepts a list and returns the sum of the first value in the list plus the list's length.\n",
    "\n",
    "Example: first_plus_length([1,2,3,4,5]) should return 6 (first value: 1 + length: 5)\n",
    "\n",
    "Values Greater than Second - Write a function that accepts a list and creates a new list containing only the values from the original list that are greater than its 2nd value. Print how many values this is and then return the new list. If the list has less than 2 elements, have the function return False\n",
    "\n",
    "Example: values_greater_than_second([5,2,3,2,1,4]) should print 3 and return [5,3,4]\n",
    "Example: values_greater_than_second([3]) should return False"
   ]
  },
  {
   "cell_type": "markdown",
   "id": "99e61cf9-0b13-43d2-b819-5f0b2342f062",
   "metadata": {},
   "source": [
    "# Q1\n",
    "\n",
    "Biggie Size - Given a list, write a function that changes all positive numbers in the list to \"big\".\n",
    "\n",
    "Example: biggie_size([-1, 3, 5, -5]) returns that same list, but whose values are now [-1, \"big\", \"big\", -5]"
   ]
  },
  {
   "cell_type": "code",
   "execution_count": 16,
   "id": "437655c8-5d26-44bb-8d52-604ef1c17ef4",
   "metadata": {},
   "outputs": [],
   "source": [
    "def biggie_size_01(x):\n",
    "    output = []\n",
    "    for item in x:\n",
    "        if item <= 0:\n",
    "            output.append(item)\n",
    "        else:\n",
    "            output.append(\"big\")\n",
    "    return output"
   ]
  },
  {
   "cell_type": "code",
   "execution_count": 17,
   "id": "9f42f23d-0397-48be-a4b6-d4edae8ad22f",
   "metadata": {},
   "outputs": [
    {
     "data": {
      "text/plain": [
       "[-1, 'big', 'big', -5]"
      ]
     },
     "execution_count": 17,
     "metadata": {},
     "output_type": "execute_result"
    }
   ],
   "source": [
    "biggie_size_01([-1, 3, 5, -5])"
   ]
  },
  {
   "cell_type": "code",
   "execution_count": 8,
   "id": "167e839e-74c7-4815-8d9b-64c5f6712fbd",
   "metadata": {},
   "outputs": [],
   "source": [
    "def biggie_size_02(x):\n",
    "    return [i if i <= 0 else \"big\" for i in x]"
   ]
  },
  {
   "cell_type": "code",
   "execution_count": 12,
   "id": "f6cddccb-476e-4eb7-9725-4318cad5918c",
   "metadata": {},
   "outputs": [
    {
     "data": {
      "text/plain": [
       "[-1, 'big', 'big', -5]"
      ]
     },
     "execution_count": 12,
     "metadata": {},
     "output_type": "execute_result"
    }
   ],
   "source": [
    "biggie_size_02([-1, 3, 5, -5])"
   ]
  },
  {
   "cell_type": "code",
   "execution_count": 14,
   "id": "232cc30c-7aa1-44fb-b24f-538659c07490",
   "metadata": {},
   "outputs": [],
   "source": [
    "def biggie_size_03(x):\n",
    "    return list(map(lambda item: item if item <= 0 else \"big\", x))"
   ]
  },
  {
   "cell_type": "code",
   "execution_count": 15,
   "id": "357ff5f8-2f96-4684-b0ce-c02085484aa9",
   "metadata": {},
   "outputs": [
    {
     "data": {
      "text/plain": [
       "[-1, 'big', 'big', -5]"
      ]
     },
     "execution_count": 15,
     "metadata": {},
     "output_type": "execute_result"
    }
   ],
   "source": [
    "biggie_size_03([-1, 3, 5, -5])"
   ]
  },
  {
   "cell_type": "markdown",
   "id": "e822d228-498a-47b9-a1fb-1d8074789b70",
   "metadata": {},
   "source": [
    "# Q2\n",
    "\n",
    "Count Positives - Given a list of numbers, create a function to replace the last value with the number of positive values. (Note that zero is not considered to be a positive number).\n",
    "\n",
    "Example: count_positives([-1,1,1,1]) changes the original list to [-1,1,1,3] and returns it\n",
    "Example: count_positives([1,6,-4,-2,-7,-2]) changes the list to [1,6,-4,-2,-7,2] and returns it"
   ]
  },
  {
   "cell_type": "code",
   "execution_count": 22,
   "id": "d731cf9e-24df-426b-8b5b-8e3495ce1217",
   "metadata": {},
   "outputs": [],
   "source": [
    "def count_positives_01(x):\n",
    "    count = 0\n",
    "    for item in x:\n",
    "        if item > 0:\n",
    "            count += 1\n",
    "    x[-1] = count\n",
    "    return x"
   ]
  },
  {
   "cell_type": "code",
   "execution_count": 23,
   "id": "e43688b2-77fa-4b49-90ce-523f51dee8b8",
   "metadata": {},
   "outputs": [
    {
     "data": {
      "text/plain": [
       "([-1, 1, 1, 3], [1, 6, -4, -2, -7, 2])"
      ]
     },
     "execution_count": 23,
     "metadata": {},
     "output_type": "execute_result"
    }
   ],
   "source": [
    "count_positives_01([-1, 1, 1, 1]), count_positives_01([1, 6, -4, -2, -7, -2])"
   ]
  },
  {
   "cell_type": "code",
   "execution_count": 34,
   "id": "58b719ba-c750-4cb7-9ce2-4f9f06477dc5",
   "metadata": {},
   "outputs": [],
   "source": [
    "def count_positives_02(x):\n",
    "    x[-1] = sum(map(lambda item: 1 if item > 0 else 0, x))\n",
    "    return x"
   ]
  },
  {
   "cell_type": "code",
   "execution_count": 35,
   "id": "6f398c19-1ed4-4038-aa38-ee90be7dd72c",
   "metadata": {},
   "outputs": [
    {
     "data": {
      "text/plain": [
       "([-1, 1, 1, 3], [1, 6, -4, -2, -7, 2])"
      ]
     },
     "execution_count": 35,
     "metadata": {},
     "output_type": "execute_result"
    }
   ],
   "source": [
    "count_positives_02([-1, 1, 1, 1]), count_positives_02([1, 6, -4, -2, -7, -2])"
   ]
  },
  {
   "cell_type": "code",
   "execution_count": 36,
   "id": "796694eb-1259-4f4d-9fa2-fbeafd524843",
   "metadata": {},
   "outputs": [],
   "source": [
    "def count_positives_03(x):\n",
    "    x[-1] = sum([1 if i > 0 else 0 for i in x])\n",
    "    return x"
   ]
  },
  {
   "cell_type": "code",
   "execution_count": 37,
   "id": "9cc56087-0be7-4f0e-aea8-ff0f540710b3",
   "metadata": {},
   "outputs": [
    {
     "data": {
      "text/plain": [
       "([-1, 1, 1, 3], [1, 6, -4, -2, -7, 2])"
      ]
     },
     "execution_count": 37,
     "metadata": {},
     "output_type": "execute_result"
    }
   ],
   "source": [
    "count_positives_03([-1, 1, 1, 1]), count_positives_03([1, 6, -4, -2, -7, -2])"
   ]
  },
  {
   "cell_type": "markdown",
   "id": "1d1dcdec-dde6-4f95-a85d-585021c78857",
   "metadata": {},
   "source": [
    "# Q3\n",
    "\n",
    "Maximum - Create a function that takes a list and returns the maximum value in the array. (Optional) If the list is empty, have the function return False.\n",
    "\n",
    "Example: maximum([37,2,1,-9]) should return 37\n",
    "(Optional) Example: maximum([]) should return False"
   ]
  },
  {
   "cell_type": "code",
   "execution_count": 4,
   "id": "eff65431-5e2c-4bad-accf-eba07ed9006e",
   "metadata": {},
   "outputs": [],
   "source": [
    "def maximum_01(x):\n",
    "    if len(x) == 0:\n",
    "        return False\n",
    "    return max(x)"
   ]
  },
  {
   "cell_type": "code",
   "execution_count": 5,
   "id": "3c4d801e-34f5-4db3-b2cf-054022e9cd49",
   "metadata": {},
   "outputs": [
    {
     "data": {
      "text/plain": [
       "37"
      ]
     },
     "execution_count": 5,
     "metadata": {},
     "output_type": "execute_result"
    }
   ],
   "source": [
    "maximum_01([37, 2, 1, -9])"
   ]
  },
  {
   "cell_type": "code",
   "execution_count": 6,
   "id": "1a96b6f7-cd97-4ac0-828e-af31eb5f0853",
   "metadata": {},
   "outputs": [
    {
     "data": {
      "text/plain": [
       "False"
      ]
     },
     "execution_count": 6,
     "metadata": {},
     "output_type": "execute_result"
    }
   ],
   "source": [
    "maximum_01([])"
   ]
  },
  {
   "cell_type": "markdown",
   "id": "d186b643-8776-46fd-becf-c79a2aeb5f73",
   "metadata": {},
   "source": [
    "# Q4\n",
    "Reverse List (Optional) - Create a function that takes a list and return that list with values reversed. Do this without creating a second list.\n",
    "\n",
    "Example: reverse_list([37,2,1,-9]) should return [-9,1,2,37]"
   ]
  },
  {
   "cell_type": "code",
   "execution_count": 13,
   "id": "b23b2227-113d-45e8-9851-cdcf565d4347",
   "metadata": {},
   "outputs": [],
   "source": [
    "def reverse_list_01(x):\n",
    "    return x[::-1]"
   ]
  },
  {
   "cell_type": "code",
   "execution_count": 14,
   "id": "36c5c169-3dbb-449e-88f5-bc42723ea669",
   "metadata": {},
   "outputs": [
    {
     "data": {
      "text/plain": [
       "[-9, 1, 2, 37]"
      ]
     },
     "execution_count": 14,
     "metadata": {},
     "output_type": "execute_result"
    }
   ],
   "source": [
    "reverse_list_01([37, 2, 1, -9])"
   ]
  },
  {
   "cell_type": "code",
   "execution_count": 17,
   "id": "601d2f40-9c16-4fe3-b655-c2572990086d",
   "metadata": {},
   "outputs": [],
   "source": [
    "def reverse_list_02(x):\n",
    "    x.reverse()\n",
    "    return x"
   ]
  },
  {
   "cell_type": "code",
   "execution_count": 18,
   "id": "35e270c5-edcc-4b0f-a4f8-905a2dd23ce3",
   "metadata": {},
   "outputs": [
    {
     "data": {
      "text/plain": [
       "[-9, 1, 2, 37]"
      ]
     },
     "execution_count": 18,
     "metadata": {},
     "output_type": "execute_result"
    }
   ],
   "source": [
    "reverse_list_02([37, 2, 1, -9])"
   ]
  },
  {
   "cell_type": "markdown",
   "id": "70266b13-9eb1-4c84-ba8d-b03f96518c88",
   "metadata": {},
   "source": [
    "# Q5\n",
    "\n",
    "Countdown - Create a function that accepts a number as an input. Return a new list that counts down by one, from the number (as the 0th element) down to 0 (as the last element).\n",
    "\n",
    "Example: countdown(5) should return [5,4,3,2,1,0]"
   ]
  },
  {
   "cell_type": "code",
   "execution_count": 20,
   "id": "29a61936-a3b6-467f-88bd-44dabeb539e8",
   "metadata": {},
   "outputs": [],
   "source": [
    "def countdown_01(x):\n",
    "    return list(range(x, -1, -1))"
   ]
  },
  {
   "cell_type": "code",
   "execution_count": 21,
   "id": "b6529158-ce88-4210-a991-fb201f87c8a7",
   "metadata": {},
   "outputs": [
    {
     "data": {
      "text/plain": [
       "[5, 4, 3, 2, 1, 0]"
      ]
     },
     "execution_count": 21,
     "metadata": {},
     "output_type": "execute_result"
    }
   ],
   "source": [
    "countdown_01(5)"
   ]
  },
  {
   "cell_type": "markdown",
   "id": "dea7e208-48a3-4522-84ff-bb02c610a116",
   "metadata": {},
   "source": [
    "# "
   ]
  }
 ],
 "metadata": {
  "kernelspec": {
   "display_name": "Python 3 (ipykernel)",
   "language": "python",
   "name": "python3"
  },
  "language_info": {
   "codemirror_mode": {
    "name": "ipython",
    "version": 3
   },
   "file_extension": ".py",
   "mimetype": "text/x-python",
   "name": "python",
   "nbconvert_exporter": "python",
   "pygments_lexer": "ipython3",
   "version": "3.8.10"
  }
 },
 "nbformat": 4,
 "nbformat_minor": 5
}
