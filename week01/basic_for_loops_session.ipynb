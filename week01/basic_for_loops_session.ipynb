{
 "cells": [
  {
   "cell_type": "markdown",
   "id": "e01d4084-1e15-4b2c-8c21-97377d36ea10",
   "metadata": {},
   "source": [
    "\n",
    "# Create a Juypter Notebook called basic_for_loops1 that performs the following tasks:\n",
    "\n",
    "- Basic - Print all integers from 0 to 150. Hint: use a for loop and range\n",
    "\n",
    "- Multiples of Five - Print all the multiples of 5 from 5 to 1,000\n",
    "\n",
    "- Counting, the Dojo Way - Print integers 1 to 100. If divisible by 5, print \"Coding\" instead. If divisible by 10, print \"Coding Dojo\".\n",
    "\n",
    " - Whoa. That Sucker's Huge - Add odd integers from 0 to 500,000 and print the final sum.\n",
    "\n",
    "- Countdown by Fours - Print positive numbers starting at 2018, counting down by fours.\n",
    "\n",
    "- Flexible Counter (optional) - Set three variables: lowNum, highNum, mult. Starting at lowNum and going through highNum, print only the integers that are a multiple of mult. For example, if lowNum=2, highNum=9, and mult=3, the loop should print 3, 6, 9 (on successive lines)"
   ]
  },
  {
   "cell_type": "code",
   "execution_count": 4,
   "id": "1e5343ca-a144-42fb-88f5-4a378c587cbb",
   "metadata": {},
   "outputs": [
    {
     "name": "stdout",
     "output_type": "stream",
     "text": [
      "0 1 2 3 4 5 6 7 8 9 10 11 12 13 14 15 16 17 18 19 20 21 22 23 24 25 26 27 28 29 30 31 32 33 34 35 36 37 38 39 40 41 42 43 44 45 46 47 48 49 50 51 52 53 54 55 56 57 58 59 60 61 62 63 64 65 66 67 68 69 70 71 72 73 74 75 76 77 78 79 80 81 82 83 84 85 86 87 88 89 90 91 92 93 94 95 96 97 98 99 100 101 102 103 104 105 106 107 108 109 110 111 112 113 114 115 116 117 118 119 120 121 122 123 124 125 126 127 128 129 130 131 132 133 134 135 136 137 138 139 140 141 142 143 144 145 146 147 148 149 150 "
     ]
    }
   ],
   "source": [
    "# 1\n",
    "for i in range(0, 150 + 1):\n",
    "    print(i, end=\" \")"
   ]
  },
  {
   "cell_type": "code",
   "execution_count": 6,
   "id": "48d9fef2-5f5b-4bd6-ab97-f71ffad63612",
   "metadata": {},
   "outputs": [
    {
     "name": "stdout",
     "output_type": "stream",
     "text": [
      "5 10 15 20 25 30 35 40 45 50 55 60 65 70 75 80 85 90 95 100 105 110 115 120 125 130 135 140 145 150 155 160 165 170 175 180 185 190 195 200 205 210 215 220 225 230 235 240 245 250 255 260 265 270 275 280 285 290 295 300 305 310 315 320 325 330 335 340 345 350 355 360 365 370 375 380 385 390 395 400 405 410 415 420 425 430 435 440 445 450 455 460 465 470 475 480 485 490 495 500 505 510 515 520 525 530 535 540 545 550 555 560 565 570 575 580 585 590 595 600 605 610 615 620 625 630 635 640 645 650 655 660 665 670 675 680 685 690 695 700 705 710 715 720 725 730 735 740 745 750 755 760 765 770 775 780 785 790 795 800 805 810 815 820 825 830 835 840 845 850 855 860 865 870 875 880 885 890 895 900 905 910 915 920 925 930 935 940 945 950 955 960 965 970 975 980 985 990 995 1000 "
     ]
    }
   ],
   "source": [
    "# 2\n",
    "for i in range(5, 1000 + 1, 5):\n",
    "    print(i, end=\" \")"
   ]
  },
  {
   "cell_type": "code",
   "execution_count": 9,
   "id": "10189ffa-aa3f-4d03-9200-be99b58b12eb",
   "metadata": {
    "collapsed": true,
    "jupyter": {
     "outputs_hidden": true
    },
    "tags": []
   },
   "outputs": [
    {
     "name": "stdout",
     "output_type": "stream",
     "text": [
      "1\n",
      "2\n",
      "3\n",
      "4\n",
      "coding\n",
      "6\n",
      "7\n",
      "8\n",
      "9\n",
      "Coding Dojo\n",
      "11\n",
      "12\n",
      "13\n",
      "14\n",
      "coding\n",
      "16\n",
      "17\n",
      "18\n",
      "19\n",
      "Coding Dojo\n",
      "21\n",
      "22\n",
      "23\n",
      "24\n",
      "coding\n",
      "26\n",
      "27\n",
      "28\n",
      "29\n",
      "Coding Dojo\n",
      "31\n",
      "32\n",
      "33\n",
      "34\n",
      "coding\n",
      "36\n",
      "37\n",
      "38\n",
      "39\n",
      "Coding Dojo\n",
      "41\n",
      "42\n",
      "43\n",
      "44\n",
      "coding\n",
      "46\n",
      "47\n",
      "48\n",
      "49\n",
      "Coding Dojo\n",
      "51\n",
      "52\n",
      "53\n",
      "54\n",
      "coding\n",
      "56\n",
      "57\n",
      "58\n",
      "59\n",
      "Coding Dojo\n",
      "61\n",
      "62\n",
      "63\n",
      "64\n",
      "coding\n",
      "66\n",
      "67\n",
      "68\n",
      "69\n",
      "Coding Dojo\n",
      "71\n",
      "72\n",
      "73\n",
      "74\n",
      "coding\n",
      "76\n",
      "77\n",
      "78\n",
      "79\n",
      "Coding Dojo\n",
      "81\n",
      "82\n",
      "83\n",
      "84\n",
      "coding\n",
      "86\n",
      "87\n",
      "88\n",
      "89\n",
      "Coding Dojo\n",
      "91\n",
      "92\n",
      "93\n",
      "94\n",
      "coding\n",
      "96\n",
      "97\n",
      "98\n",
      "99\n",
      "Coding Dojo\n"
     ]
    }
   ],
   "source": [
    "# 3\n",
    "for i in range(1, 100 + 1):\n",
    "    if (i % 5 == 0) and (i % 10 != 0):\n",
    "        print(\"Coding\")\n",
    "    elif i % 10 == 0:\n",
    "        print(\"Coding Dojo\")\n",
    "    else:\n",
    "        print(i)"
   ]
  },
  {
   "cell_type": "code",
   "execution_count": 10,
   "id": "4c92e842-4150-4724-9718-c5d58e9f694c",
   "metadata": {
    "collapsed": true,
    "jupyter": {
     "outputs_hidden": true
    },
    "tags": []
   },
   "outputs": [
    {
     "name": "stdout",
     "output_type": "stream",
     "text": [
      "1\n",
      "2\n",
      "3\n",
      "4\n",
      "Coding\n",
      "6\n",
      "7\n",
      "8\n",
      "9\n",
      "Coding Dojo\n",
      "11\n",
      "12\n",
      "13\n",
      "14\n",
      "Coding\n",
      "16\n",
      "17\n",
      "18\n",
      "19\n",
      "Coding Dojo\n",
      "21\n",
      "22\n",
      "23\n",
      "24\n",
      "Coding\n",
      "26\n",
      "27\n",
      "28\n",
      "29\n",
      "Coding Dojo\n",
      "31\n",
      "32\n",
      "33\n",
      "34\n",
      "Coding\n",
      "36\n",
      "37\n",
      "38\n",
      "39\n",
      "Coding Dojo\n",
      "41\n",
      "42\n",
      "43\n",
      "44\n",
      "Coding\n",
      "46\n",
      "47\n",
      "48\n",
      "49\n",
      "Coding Dojo\n",
      "51\n",
      "52\n",
      "53\n",
      "54\n",
      "Coding\n",
      "56\n",
      "57\n",
      "58\n",
      "59\n",
      "Coding Dojo\n",
      "61\n",
      "62\n",
      "63\n",
      "64\n",
      "Coding\n",
      "66\n",
      "67\n",
      "68\n",
      "69\n",
      "Coding Dojo\n",
      "71\n",
      "72\n",
      "73\n",
      "74\n",
      "Coding\n",
      "76\n",
      "77\n",
      "78\n",
      "79\n",
      "Coding Dojo\n",
      "81\n",
      "82\n",
      "83\n",
      "84\n",
      "Coding\n",
      "86\n",
      "87\n",
      "88\n",
      "89\n",
      "Coding Dojo\n",
      "91\n",
      "92\n",
      "93\n",
      "94\n",
      "Coding\n",
      "96\n",
      "97\n",
      "98\n",
      "99\n",
      "Coding Dojo\n"
     ]
    }
   ],
   "source": [
    "# 3 options 2\n",
    "for i in range(1, 100 + 1):\n",
    "    if i % 10 == 0:\n",
    "        print(\"Coding Dojo\")\n",
    "    elif i % 5 == 0:\n",
    "        print(\"Coding\")\n",
    "    else:\n",
    "        print(i)"
   ]
  },
  {
   "cell_type": "code",
   "execution_count": 12,
   "id": "24c76516-0162-440c-b979-1a6c1b0024ba",
   "metadata": {
    "tags": []
   },
   "outputs": [
    {
     "data": {
      "text/plain": [
       "62500000000"
      ]
     },
     "execution_count": 12,
     "metadata": {},
     "output_type": "execute_result"
    }
   ],
   "source": [
    "# 4\n",
    "sum(range(1, 500_000, 2))"
   ]
  },
  {
   "cell_type": "code",
   "execution_count": 13,
   "id": "25e81ca4-58da-4443-b585-15d0f47a641d",
   "metadata": {},
   "outputs": [
    {
     "name": "stdout",
     "output_type": "stream",
     "text": [
      "62500000000\n"
     ]
    }
   ],
   "source": [
    "# 4 optins 2\n",
    "result = 0\n",
    "for i in range(500_000):\n",
    "    if i % 2 != 0:\n",
    "        result += i\n",
    "print(result)"
   ]
  },
  {
   "cell_type": "code",
   "execution_count": 14,
   "id": "87a5595f-9e25-4c5b-bddc-86de1021c0f7",
   "metadata": {},
   "outputs": [
    {
     "name": "stdout",
     "output_type": "stream",
     "text": [
      "2018 2014 2010 2006 2002 1998 1994 1990 1986 1982 1978 1974 1970 1966 1962 1958 1954 1950 1946 1942 1938 1934 1930 1926 1922 1918 1914 1910 1906 1902 1898 1894 1890 1886 1882 1878 1874 1870 1866 1862 1858 1854 1850 1846 1842 1838 1834 1830 1826 1822 1818 1814 1810 1806 1802 1798 1794 1790 1786 1782 1778 1774 1770 1766 1762 1758 1754 1750 1746 1742 1738 1734 1730 1726 1722 1718 1714 1710 1706 1702 1698 1694 1690 1686 1682 1678 1674 1670 1666 1662 1658 1654 1650 1646 1642 1638 1634 1630 1626 1622 1618 1614 1610 1606 1602 1598 1594 1590 1586 1582 1578 1574 1570 1566 1562 1558 1554 1550 1546 1542 1538 1534 1530 1526 1522 1518 1514 1510 1506 1502 1498 1494 1490 1486 1482 1478 1474 1470 1466 1462 1458 1454 1450 1446 1442 1438 1434 1430 1426 1422 1418 1414 1410 1406 1402 1398 1394 1390 1386 1382 1378 1374 1370 1366 1362 1358 1354 1350 1346 1342 1338 1334 1330 1326 1322 1318 1314 1310 1306 1302 1298 1294 1290 1286 1282 1278 1274 1270 1266 1262 1258 1254 1250 1246 1242 1238 1234 1230 1226 1222 1218 1214 1210 1206 1202 1198 1194 1190 1186 1182 1178 1174 1170 1166 1162 1158 1154 1150 1146 1142 1138 1134 1130 1126 1122 1118 1114 1110 1106 1102 1098 1094 1090 1086 1082 1078 1074 1070 1066 1062 1058 1054 1050 1046 1042 1038 1034 1030 1026 1022 1018 1014 1010 1006 1002 998 994 990 986 982 978 974 970 966 962 958 954 950 946 942 938 934 930 926 922 918 914 910 906 902 898 894 890 886 882 878 874 870 866 862 858 854 850 846 842 838 834 830 826 822 818 814 810 806 802 798 794 790 786 782 778 774 770 766 762 758 754 750 746 742 738 734 730 726 722 718 714 710 706 702 698 694 690 686 682 678 674 670 666 662 658 654 650 646 642 638 634 630 626 622 618 614 610 606 602 598 594 590 586 582 578 574 570 566 562 558 554 550 546 542 538 534 530 526 522 518 514 510 506 502 498 494 490 486 482 478 474 470 466 462 458 454 450 446 442 438 434 430 426 422 418 414 410 406 402 398 394 390 386 382 378 374 370 366 362 358 354 350 346 342 338 334 330 326 322 318 314 310 306 302 298 294 290 286 282 278 274 270 266 262 258 254 250 246 242 238 234 230 226 222 218 214 210 206 202 198 194 190 186 182 178 174 170 166 162 158 154 150 146 142 138 134 130 126 122 118 114 110 106 102 98 94 90 86 82 78 74 70 66 62 58 54 50 46 42 38 34 30 26 22 18 14 10 6 2 "
     ]
    }
   ],
   "source": [
    "# 5\n",
    "for i in range(2018, 0, -4):\n",
    "    print(i, end=\" \")"
   ]
  },
  {
   "cell_type": "code",
   "execution_count": 18,
   "id": "699446b8-5664-43ec-af58-1abb3ec5c76e",
   "metadata": {},
   "outputs": [
    {
     "name": "stdout",
     "output_type": "stream",
     "text": [
      "3 6 9 "
     ]
    }
   ],
   "source": [
    "# 6\n",
    "# lowNum=2, highNum=9, and mult=3\n",
    "# only 1 x mult, 2 x mult, 3 x mult, ....\n",
    "lowNum = 2\n",
    "highNum = 9\n",
    "mult = 3\n",
    "for i in range(lowNum, highNum + 1):\n",
    "    if i % mult == 0:\n",
    "        print(i, end=\" \")"
   ]
  },
  {
   "cell_type": "code",
   "execution_count": 19,
   "id": "9d301253-d83f-449e-b910-dfe190ecfff6",
   "metadata": {},
   "outputs": [
    {
     "name": "stdout",
     "output_type": "stream",
     "text": [
      "3 6 9 "
     ]
    }
   ],
   "source": [
    "# 6 options 2\n",
    "for i in range(mult, highNum + 1, mult):\n",
    "    print(i, end=\" \")"
   ]
  },
  {
   "cell_type": "code",
   "execution_count": 20,
   "id": "f9aee996-aa03-4597-8519-40fc0dfe42c0",
   "metadata": {},
   "outputs": [],
   "source": [
    "def counter_2(lowNum, highNum, mult):\n",
    "    for i in range(lowNum, highNum + 1):\n",
    "        if i % mult == 0:\n",
    "            print(i, end=\" \")"
   ]
  },
  {
   "cell_type": "code",
   "execution_count": 21,
   "id": "17b969d3-c659-435c-811e-67df4d2aec1e",
   "metadata": {},
   "outputs": [
    {
     "name": "stdout",
     "output_type": "stream",
     "text": [
      "8 12 16 20 24 28 32 36 40 44 48 52 56 60 64 68 72 76 80 84 88 92 96 100 "
     ]
    }
   ],
   "source": [
    "counter_2(5, 100, 4)"
   ]
  },
  {
   "cell_type": "code",
   "execution_count": null,
   "id": "35c3cc58-d1b9-47c1-b5cf-48d2c6862f5a",
   "metadata": {},
   "outputs": [],
   "source": []
  }
 ],
 "metadata": {
  "kernelspec": {
   "display_name": "Python 3 (ipykernel)",
   "language": "python",
   "name": "python3"
  },
  "language_info": {
   "codemirror_mode": {
    "name": "ipython",
    "version": 3
   },
   "file_extension": ".py",
   "mimetype": "text/x-python",
   "name": "python",
   "nbconvert_exporter": "python",
   "pygments_lexer": "ipython3",
   "version": "3.8.10"
  }
 },
 "nbformat": 4,
 "nbformat_minor": 5
}
